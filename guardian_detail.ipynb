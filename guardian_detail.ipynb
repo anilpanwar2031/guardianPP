{
 "cells": [
  {
   "cell_type": "code",
   "execution_count": 1,
   "id": "d143302a",
   "metadata": {},
   "outputs": [],
   "source": [
    "import tabula\n",
    "from tabula import read_pdf"
   ]
  },
  {
   "cell_type": "code",
   "execution_count": 2,
   "id": "e6e3a31d",
   "metadata": {},
   "outputs": [
    {
     "name": "stderr",
     "output_type": "stream",
     "text": [
      "Got stderr: Jun 10, 2023 1:53:04 PM org.apache.pdfbox.pdmodel.font.PDSimpleFont readEncoding\r\n",
      "WARNING: Unknown encoding: BuiltIn\r\n",
      "Jun 10, 2023 1:53:04 PM org.apache.pdfbox.pdmodel.font.PDSimpleFont readEncoding\r\n",
      "WARNING: Unknown encoding: BuiltIn\r\n",
      "Jun 10, 2023 1:53:04 PM org.apache.pdfbox.pdmodel.font.PDSimpleFont readEncoding\r\n",
      "WARNING: Unknown encoding: BuiltIn\r\n",
      "Jun 10, 2023 1:53:04 PM org.apache.pdfbox.pdmodel.font.PDSimpleFont readEncoding\r\n",
      "WARNING: Unknown encoding: BuiltIn\r\n",
      "Jun 10, 2023 1:53:04 PM org.apache.pdfbox.pdmodel.font.PDSimpleFont readEncoding\r\n",
      "WARNING: Unknown encoding: BuiltIn\r\n",
      "Jun 10, 2023 1:53:04 PM org.apache.pdfbox.pdmodel.font.PDSimpleFont readEncoding\r\n",
      "WARNING: Unknown encoding: BuiltIn\r\n",
      "Jun 10, 2023 1:53:04 PM org.apache.pdfbox.pdmodel.font.PDSimpleFont readEncoding\r\n",
      "WARNING: Unknown encoding: BuiltIn\r\n",
      "Jun 10, 2023 1:53:04 PM org.apache.pdfbox.pdmodel.font.PDSimpleFont readEncoding\r\n",
      "WARNING: Unknown encoding: BuiltIn\r\n",
      "Jun 10, 2023 1:53:04 PM org.apache.pdfbox.pdmodel.font.PDSimpleFont readEncoding\r\n",
      "WARNING: Unknown encoding: BuiltIn\r\n",
      "Jun 10, 2023 1:53:04 PM org.apache.pdfbox.pdmodel.font.PDSimpleFont readEncoding\r\n",
      "WARNING: Unknown encoding: BuiltIn\r\n",
      "Jun 10, 2023 1:53:04 PM org.apache.pdfbox.pdmodel.font.PDSimpleFont readEncoding\r\n",
      "WARNING: Unknown encoding: BuiltIn\r\n",
      "Jun 10, 2023 1:53:04 PM org.apache.pdfbox.pdmodel.font.PDSimpleFont readEncoding\r\n",
      "WARNING: Unknown encoding: BuiltIn\r\n",
      "Jun 10, 2023 1:53:04 PM org.apache.pdfbox.pdmodel.font.PDSimpleFont readEncoding\r\n",
      "WARNING: Unknown encoding: BuiltIn\r\n",
      "Jun 10, 2023 1:53:04 PM org.apache.pdfbox.pdmodel.font.PDSimpleFont readEncoding\r\n",
      "WARNING: Unknown encoding: BuiltIn\r\n",
      "Jun 10, 2023 1:53:05 PM org.apache.pdfbox.pdmodel.font.PDSimpleFont readEncoding\r\n",
      "WARNING: Unknown encoding: BuiltIn\r\n",
      "Jun 10, 2023 1:53:05 PM org.apache.pdfbox.pdmodel.font.PDSimpleFont readEncoding\r\n",
      "WARNING: Unknown encoding: BuiltIn\r\n",
      "Jun 10, 2023 1:53:05 PM org.apache.pdfbox.pdmodel.font.PDSimpleFont readEncoding\r\n",
      "WARNING: Unknown encoding: BuiltIn\r\n",
      "Jun 10, 2023 1:53:05 PM org.apache.pdfbox.pdmodel.font.PDSimpleFont readEncoding\r\n",
      "WARNING: Unknown encoding: BuiltIn\r\n",
      "\n"
     ]
    }
   ],
   "source": [
    "file_path = 'guardian1.pdf'\n",
    "dict_list = tabula.read_pdf(file_path, pages='all')\n"
   ]
  },
  {
   "cell_type": "code",
   "execution_count": 3,
   "id": "a7725714",
   "metadata": {},
   "outputs": [
    {
     "name": "stdout",
     "output_type": "stream",
     "text": [
      "1\n"
     ]
    }
   ],
   "source": [
    "print(len(dict_list))\n"
   ]
  },
  {
   "cell_type": "code",
   "execution_count": 4,
   "id": "8ed9a1d9",
   "metadata": {},
   "outputs": [],
   "source": [
    "lst = []\n",
    "for ind, tab in enumerate(dict_list):\n",
    "    if any('Patient Name' in col for col in tab.columns):\n",
    "        new_columns_name = {}\n",
    "        for i in range(len(tab.columns)):\n",
    "            old_name = tab.columns[i]\n",
    "            new_name = f'columns{i + 1}'\n",
    "            new_columns_name[old_name] = new_name\n",
    "            tab = tab.rename(columns=new_columns_name)\n",
    "        lst.append(tab.to_dict('records'))\n",
    "    if len(lst) == 0:\n",
    "        if any('Claim Number' in col for col in tab.columns):\n",
    "            new_columns_name = {}\n",
    "            for i in range(len(tab.columns)):\n",
    "                old_name = tab.columns[i]\n",
    "                new_name = f'columns{i + 1}'\n",
    "                new_columns_name[old_name] = new_name\n",
    "                tab = tab.rename(columns=new_columns_name)\n",
    "            lst.append(tab.to_dict('records'))     \n",
    "        "
   ]
  },
  {
   "cell_type": "code",
   "execution_count": 5,
   "id": "1913d848",
   "metadata": {},
   "outputs": [
    {
     "name": "stdout",
     "output_type": "stream",
     "text": [
      "filtered_lst>>>>>>>>>>>>>>>>> [{'columns1': '1 D9230/Analgesia/N20', 'columns2': 'FM 05/22/23', 'columns3': '30.00 28.00', 'columns4': '0.00', 'columns5': '80% 0.00'}, {'columns1': '2 D2392/Pst Composite2', 'columns2': '03 05/22/23', 'columns3': '152.00 109.00', 'columns4': '109.00', 'columns5': '50.00 80% 47.20'}, {'columns1': '3 D2392/Pst Composite2', 'columns2': '14 05/22/23', 'columns3': '152.00 109.00', 'columns4': '109.00', 'columns5': '80% 87.20'}]\n"
     ]
    },
    {
     "data": {
      "text/plain": [
       "[{'columns1': '1 D9230/Analgesia/N20',\n",
       "  'columns2': 'FM 05/22/23',\n",
       "  'columns3': '30.00 28.00',\n",
       "  'columns4': '0.00',\n",
       "  'columns5': '80% 0.00'},\n",
       " {'columns1': '2 D2392/Pst Composite2',\n",
       "  'columns2': '03 05/22/23',\n",
       "  'columns3': '152.00 109.00',\n",
       "  'columns4': '109.00',\n",
       "  'columns5': '50.00 80% 47.20'},\n",
       " {'columns1': '3 D2392/Pst Composite2',\n",
       "  'columns2': '14 05/22/23',\n",
       "  'columns3': '152.00 109.00',\n",
       "  'columns4': '109.00',\n",
       "  'columns5': '80% 87.20'}]"
      ]
     },
     "execution_count": 5,
     "metadata": {},
     "output_type": "execute_result"
    }
   ],
   "source": [
    "temp_lst = []\n",
    "for i in range(len(lst)):\n",
    "    for obj in lst[i]:\n",
    "        if type(obj.get('columns1')) != float:\n",
    "            temp_lst.append(obj)\n",
    "\n",
    "filtered_lst = []\n",
    "for i in range(len(temp_lst)):\n",
    "    if not temp_lst[i]['columns1'].startswith('Patient Name') and not temp_lst[i]['columns1'].startswith('Planholder') and not temp_lst[i]['columns1'].startswith('Line Submitted') and not temp_lst[i]['columns1'].startswith('No.'):\n",
    "        filtered_lst.append(temp_lst[i])\n",
    "print(\"filtered_lst>>>>>>>>>>>>>>>>>\",filtered_lst)\n",
    "filtered_lst"
   ]
  },
  {
   "cell_type": "code",
   "execution_count": 6,
   "id": "fbd11949",
   "metadata": {},
   "outputs": [
    {
     "name": "stdout",
     "output_type": "stream",
     "text": [
      "['30.00', '28.00']\n"
     ]
    },
    {
     "ename": "IndexError",
     "evalue": "list index out of range",
     "output_type": "error",
     "traceback": [
      "\u001b[1;31m---------------------------------------------------------------------------\u001b[0m",
      "\u001b[1;31mIndexError\u001b[0m                                Traceback (most recent call last)",
      "Cell \u001b[1;32mIn[6], line 97\u001b[0m\n\u001b[0;32m     88\u001b[0m     \u001b[38;5;28mprint\u001b[39m(\u001b[38;5;124m\"\u001b[39m\u001b[38;5;124mnew_dict>>>>>>>>>>>>>>>\u001b[39m\u001b[38;5;124m\"\u001b[39m, new_dict)\n\u001b[0;32m     90\u001b[0m \u001b[38;5;28;01melif\u001b[39;00m \u001b[38;5;28mlen\u001b[39m(columns5) \u001b[38;5;241m==\u001b[39m \u001b[38;5;241m2\u001b[39m:\n\u001b[0;32m     91\u001b[0m     new_dict \u001b[38;5;241m=\u001b[39m {\n\u001b[0;32m     92\u001b[0m         \u001b[38;5;124m'\u001b[39m\u001b[38;5;124mSubmittedADACodesDescription\u001b[39m\u001b[38;5;124m'\u001b[39m: obj[\u001b[38;5;124m\"\u001b[39m\u001b[38;5;124mcolumns1\u001b[39m\u001b[38;5;124m\"\u001b[39m],\n\u001b[0;32m     93\u001b[0m         \u001b[38;5;124m'\u001b[39m\u001b[38;5;124mAltCode\u001b[39m\u001b[38;5;124m'\u001b[39m: \u001b[38;5;124m\"\u001b[39m\u001b[38;5;124m\"\u001b[39m,\n\u001b[0;32m     94\u001b[0m         \u001b[38;5;124m'\u001b[39m\u001b[38;5;124mToothNo\u001b[39m\u001b[38;5;124m'\u001b[39m: obj[\u001b[38;5;124m'\u001b[39m\u001b[38;5;124mcolumns2\u001b[39m\u001b[38;5;124m'\u001b[39m],\n\u001b[0;32m     95\u001b[0m         \u001b[38;5;124m'\u001b[39m\u001b[38;5;124mDateOfService\u001b[39m\u001b[38;5;124m'\u001b[39m: columns3[\u001b[38;5;241m0\u001b[39m],\n\u001b[0;32m     96\u001b[0m         \u001b[38;5;124m'\u001b[39m\u001b[38;5;124mSubmittedCharge\u001b[39m\u001b[38;5;124m'\u001b[39m: columns3[\u001b[38;5;241m1\u001b[39m],\n\u001b[1;32m---> 97\u001b[0m         \u001b[38;5;124m'\u001b[39m\u001b[38;5;124mConsideredCharge\u001b[39m\u001b[38;5;124m'\u001b[39m: \u001b[43mcolumns3\u001b[49m\u001b[43m[\u001b[49m\u001b[38;5;241;43m2\u001b[39;49m\u001b[43m]\u001b[49m,\n\u001b[0;32m     98\u001b[0m         \u001b[38;5;124m'\u001b[39m\u001b[38;5;124mCoveredCharge\u001b[39m\u001b[38;5;124m'\u001b[39m: columns3[\u001b[38;5;241m3\u001b[39m],\n\u001b[0;32m     99\u001b[0m         \u001b[38;5;124m'\u001b[39m\u001b[38;5;124mDeductibleAmount\u001b[39m\u001b[38;5;124m'\u001b[39m: \u001b[38;5;124m\"\u001b[39m\u001b[38;5;124m\"\u001b[39m,\n\u001b[0;32m    100\u001b[0m         \u001b[38;5;124m'\u001b[39m\u001b[38;5;124mCoveragePercent\u001b[39m\u001b[38;5;124m'\u001b[39m: columns4[\u001b[38;5;241m0\u001b[39m],\n\u001b[0;32m    101\u001b[0m         \u001b[38;5;124m'\u001b[39m\u001b[38;5;124mBenefitAmount\u001b[39m\u001b[38;5;124m'\u001b[39m: \u001b[38;5;28mstr\u001b[39m(columns4[\u001b[38;5;241m1\u001b[39m])\n\u001b[0;32m    102\u001b[0m     }\n\u001b[0;32m    103\u001b[0m     \u001b[38;5;28mprint\u001b[39m(\u001b[38;5;124m\"\u001b[39m\u001b[38;5;124mnew_dict>>>>>>>>>>>>>>>\u001b[39m\u001b[38;5;124m\"\u001b[39m, new_dict)\n\u001b[0;32m    105\u001b[0m \u001b[38;5;28;01melif\u001b[39;00m \u001b[38;5;28mlen\u001b[39m(columns5) \u001b[38;5;241m==\u001b[39m \u001b[38;5;241m3\u001b[39m:\n",
      "\u001b[1;31mIndexError\u001b[0m: list index out of range"
     ]
    }
   ],
   "source": [
    "new_lst = []\n",
    "new_dict = {}\n",
    "for obj in filtered_lst:\n",
    "    columns3 = obj['columns3'].split()\n",
    "    print(columns3)\n",
    "    columns4 = obj['columns4'].split()\n",
    "    columns5 = obj['columns5'].split()\n",
    "\n",
    "    if 'columns6' in obj:\n",
    "        columns6 = str(obj['columns6']).split()\n",
    "        columns4 = obj['columns4'].split()\n",
    "        if len(columns6) == 3 and len(columns4) == 3:\n",
    "            new_dict = {\n",
    "                'SubmittedADACodesDescription': obj[\"columns1\"],\n",
    "                'AltCode': obj[\"columns2\"],\n",
    "                'ToothNo': obj[\"columns3\"],\n",
    "                'DateOfService': columns4[0],\n",
    "                'SubmittedCharge': columns4[1],\n",
    "                'ConsideredCharge': columns4[2],\n",
    "                'CoveredCharge': obj[\"columns5\"],\n",
    "                'DeductibleAmount': columns6[0],\n",
    "                'CoveragePercent': columns6[1],\n",
    "                'BenefitAmount': columns6[2]\n",
    "            }\n",
    "        elif len(columns6) == 2 and len(columns4) == 3:\n",
    "            new_dict = {\n",
    "                'SubmittedADACodesDescription': obj[\"columns1\"],\n",
    "                'AltCode': obj[\"columns2\"],\n",
    "                'ToothNo': obj[\"columns3\"],\n",
    "                'DateOfService': columns4[0],\n",
    "                'SubmittedCharge': columns4[1],\n",
    "                'ConsideredCharge': columns4[2],\n",
    "                'CoveredCharge': obj[\"columns5\"],\n",
    "                'DeductibleAmount': \"\",\n",
    "                'CoveragePercent': columns6[0],\n",
    "                'BenefitAmount': columns6[1]\n",
    "            }\n",
    "        elif len(columns6) == 1 and len(columns4) == 4:\n",
    "            new_dict = {\n",
    "                'SubmittedADACodesDescription': obj[\"columns1\"],\n",
    "                'AltCode': obj[\"columns2\"],\n",
    "                'ToothNo': obj[\"columns3\"],\n",
    "                'DateOfService': columns4[0],\n",
    "                'SubmittedCharge': columns4[1],\n",
    "                'ConsideredCharge': columns4[2],\n",
    "                'CoveredCharge': columns4[3],\n",
    "                'DeductibleAmount': \"\",\n",
    "                'CoveragePercent': obj[\"columns5\"],\n",
    "                'BenefitAmount': str(obj[\"columns6\"])\n",
    "            }\n",
    "    elif len(columns3) == 3:\n",
    "        columns2 = obj['columns2'].split()\n",
    "        columns4 = obj['columns4'].split()\n",
    "        new_dict = {\n",
    "            'SubmittedADACodesDescription': obj[\"columns1\"],\n",
    "            'AltCode': \"\",\n",
    "            'ToothNo': columns2[0],\n",
    "            'DateOfService': columns2[1],\n",
    "            'SubmittedCharge': columns3[0],\n",
    "            'ConsideredCharge': columns3[1],\n",
    "            'CoveredCharge': columns3[2],\n",
    "            'DeductibleAmount': \"\",\n",
    "            'CoveragePercent': columns4[0],\n",
    "            'BenefitAmount': str(columns4[1])\n",
    "        }\n",
    "    elif len(obj) == 5:\n",
    "        columns5 = obj['columns5'].split()\n",
    "        columns2 = \"\"\n",
    "        if obj['columns2'].startswith('nan'):\n",
    "            obj['columns2'] = \"\"\n",
    "        else:\n",
    "            columns2 = obj['columns2'].split()\n",
    "\n",
    "        columns4 = obj['columns4'].split()\n",
    "        if len(columns3) == 1:\n",
    "            new_dict = {\n",
    "                'SubmittedADACodesDescription': obj[\"columns1\"],\n",
    "                'AltCode': \"\",\n",
    "                'ToothNo': obj['columns3'],\n",
    "                'DateOfService': columns4[0],\n",
    "                'SubmittedCharge': columns4[1],\n",
    "                'ConsideredCharge': columns4[2],\n",
    "                'CoveredCharge': columns4[3],\n",
    "                'DeductibleAmount': \"\",\n",
    "                'CoveragePercent': columns5[0],\n",
    "                'BenefitAmount': str(columns5[1])\n",
    "            }\n",
    "            print(\"new_dict>>>>>>>>>>>>>>>\", new_dict)\n",
    "\n",
    "        elif len(columns5) == 2:\n",
    "            new_dict = {\n",
    "                'SubmittedADACodesDescription': obj[\"columns1\"],\n",
    "                'AltCode': \"\",\n",
    "                'ToothNo': obj['columns2'],\n",
    "                'DateOfService': columns3[0],\n",
    "                'SubmittedCharge': columns3[1],\n",
    "                'ConsideredCharge': columns3[2],\n",
    "                'CoveredCharge': columns3[3],\n",
    "                'DeductibleAmount': \"\",\n",
    "                'CoveragePercent': columns4[0],\n",
    "                'BenefitAmount': str(columns4[1])\n",
    "            }\n",
    "            print(\"new_dict>>>>>>>>>>>>>>>\", new_dict)\n",
    "\n",
    "        elif len(columns5) == 3:\n",
    "            new_dict = {\n",
    "                'SubmittedADACodesDescription': obj[\"columns1\"],\n",
    "                'AltCode': \"\",\n",
    "                'ToothNo': columns2[0],\n",
    "                'DateOfService': columns2[1],\n",
    "                'SubmittedCharge': columns3[0],\n",
    "                'ConsideredCharge': columns3[1],\n",
    "                'CoveredCharge': obj[\"columns4\"],\n",
    "                'DeductibleAmount': columns5[0],\n",
    "                'CoveragePercent': columns5[1],\n",
    "                'BenefitAmount': str(columns5[2])\n",
    "            }\n",
    "            print(\"new_dict>>>>>>>>>>>>>>>\", new_dict)\n",
    "\n",
    "\n",
    "    else:\n",
    "        columns3 = obj['columns3'].split()\n",
    "        columns4 = obj['columns4'].split()\n",
    "        new_dict = {\n",
    "            'SubmittedADACodesDescription': obj[\"columns1\"],\n",
    "            'AltCode': \"\",\n",
    "            'ToothNo': obj[\"columns2\"],\n",
    "            'DateOfService': columns3[0],\n",
    "            'SubmittedCharge': columns3[1],\n",
    "            'ConsideredCharge': columns3[2],\n",
    "            'CoveredCharge': columns3[3],\n",
    "            'DeductibleAmount': \"\",\n",
    "            'CoveragePercent': columns4[0],\n",
    "            'BenefitAmount': columns4[1]\n",
    "        }\n",
    "\n",
    "    new_lst.append(new_dict)\n",
    "print(\"new_lst>>>>>>>>>>>>>\", new_lst)\n"
   ]
  },
  {
   "cell_type": "code",
   "execution_count": null,
   "id": "43034d51",
   "metadata": {},
   "outputs": [],
   "source": [
    "\n"
   ]
  },
  {
   "cell_type": "code",
   "execution_count": null,
   "id": "663d2baf",
   "metadata": {},
   "outputs": [],
   "source": []
  },
  {
   "cell_type": "code",
   "execution_count": null,
   "id": "fb5b2131",
   "metadata": {},
   "outputs": [],
   "source": []
  }
 ],
 "metadata": {
  "kernelspec": {
   "display_name": "Python 3 (ipykernel)",
   "language": "python",
   "name": "python3"
  },
  "language_info": {
   "codemirror_mode": {
    "name": "ipython",
    "version": 3
   },
   "file_extension": ".py",
   "mimetype": "text/x-python",
   "name": "python",
   "nbconvert_exporter": "python",
   "pygments_lexer": "ipython3",
   "version": "3.10.5"
  }
 },
 "nbformat": 4,
 "nbformat_minor": 5
}
