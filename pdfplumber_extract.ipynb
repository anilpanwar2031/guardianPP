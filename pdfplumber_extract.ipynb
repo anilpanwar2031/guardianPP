{
 "cells": [
  {
   "cell_type": "code",
   "execution_count": 1,
   "metadata": {},
   "outputs": [],
   "source": [
    "import re\n",
    "\n",
    "import parse\n",
    "import pdfplumber\n",
    "import pandas as pd\n",
    "from collections import namedtuple"
   ]
  },
  {
   "cell_type": "code",
   "execution_count": 2,
   "metadata": {},
   "outputs": [],
   "source": [
    "Line = namedtuple('Line', 'company_id company_name doctype reference currency voucher inv_date due_date open_amt_tc open_amt_bc current months1 months2 months3')"
   ]
  },
  {
   "cell_type": "code",
   "execution_count": 3,
   "metadata": {},
   "outputs": [],
   "source": [
    "company_re = re.compile(r'(V\\d+) (.*) Phone:')\n",
    "line_re = re.compile(r'\\d{2}/\\d{2}/\\d{4} \\d{2}/\\d{2}/\\d{4}')"
   ]
  },
  {
   "cell_type": "code",
   "execution_count": 4,
   "metadata": {},
   "outputs": [],
   "source": [
    "file = 'guardian1.pdf'"
   ]
  },
  {
   "cell_type": "code",
   "execution_count": 5,
   "metadata": {},
   "outputs": [
    {
     "name": "stdout",
     "output_type": "stream",
     "text": [
      "P627402800G\n",
      "P627402800G\n",
      "701062\n",
      "PO BOX 981572\n",
      "EL PASO, TX 79998-1572\n",
      "If you have any (800) 541-7846\n",
      "Electronic Service Requested\n",
      "questions contact: WWW.GUARDIANANYTIME.COM 5\n",
      "FO\n",
      "Provider: DAVID HADLEY 3\n",
      "ALL FOR AADC 840 Date: 05/25/23\n",
      "31427 1.1458 AB 0.504 Payee: UT BCDO SPECIALTY DENTAL SER\n",
      "DDAFADADTDDAFFADATFFTAAFAATAFDFATAAATTFFTFFDAAATTAAATAATDDFFFTFAD 72413\n",
      "Check No.: 188092989\n",
      "Payment Amount: $134.40\n",
      "UT 3401 BCDO N CENTER SPECIALTY ST STE DENTAL 250 SERVI 505 Expedite cash flow with e-payments. Sign up today! VNE\n",
      "LEHI, UT 84043-7501\n",
      "Guardian has contracted with Change Healthcare, a leading provider of\n",
      "revenue and payment cycle solutions, to deliver Electronic Funds Transfer\n",
      "(EFT) services! Sign-up today by going to www.changehealthcare.com/support\n",
      "/customer-resources/enrollment-services for more information. Enrollment for\n",
      "this service is offered to you at no additional cost and is available online or by\n",
      "calling 1.866.777.0713 and selecting Option 1.\n",
      "PROVIDER EXPLANATION OF BENEFITS - THIS IS NOT A BILL\n",
      "Important! Please examine this statement for accuracy. Save this statement for tax purposes.\n",
      "Claim Number: 36162F14400 Patient Account No.:120898061 Plan Number:00034945\n",
      "Patient Name: BOSTON BELL Employee Name: TYLER BELL Relationship: SON\n",
      "Planholder: PCF INSURANCE SERVICES, LLC\n",
      "Line Submitted Alt Tooth Date of Submitted Considered Covered Deductible Coverage Benefit\n",
      "No. ADA Codes/Description Code No. Service Charge Charge Charge Amount Percent Amount\n",
      "1 D9230/Analgesia/N20 FM 05/22/23 30.00 28.00 0.00 80% 0.00\n",
      "2 D2392/Pst Composite2 03 05/22/23 152.00 109.00 109.00 50.00 80% 47.20\n",
      "3 D2392/Pst Composite2 14 05/22/23 152.00 109.00 109.00 80% 87.20\n",
      "TOTALS 334.00 246.00 218.00 50.00 33.60 134.40\n",
      "BENEFIT SUMMARY\n",
      "TOTAL BENEFIT PAYABLE......... $134.40\n",
      "HIGHER ALLOWABLE.................. $218.00\n",
      "PAID BY OTHER INSURANCE..... $0.00\n",
      "ADJUSTMENTS............................... $0.00\n",
      "TOTAL BENEFIT PAID.................. $ 134.40\n",
      "PATIENT'S RESPONSIBILITY..... $111.60\n",
      "Remarks for claim # 36162F14400:\n",
      "A DENTALGUARD PARTICIPATING DENTIST HAS BEEN UTILIZED\n",
      "1. The dental plan covers this procedure only when performed in conjunction with eligible surgical\n",
      "procedures or eligible surgical extractions performed on the same day.\n",
      "If you have any questions or comments concerning this claim, please contact us at (800) 541-7846\n",
      "In compliance with the California Department of Insurance regulation, we are supplying\n",
      "insured/dentist with the name, address, telephone number and website of the California\n",
      "Department of Insurance, if the insured/dentist wishes to contact them concerning this claim:\n",
      "10 Hudson Yards CHECK NO: 188092989\n",
      "New York, NY 10001\n",
      "CHECK DATE: 05/25/23\n",
      "51-44 AMOUNT\n",
      "119 ****$134.40\n",
      "PAY One Hundred Thirty Four & 40/100 Dollars\n",
      "Void unless presented\n",
      "within 180 days\n",
      "TO THE UT BCDO SPECIALTY DENTAL SERVI\n",
      "ORDER OF\n",
      "BANK OF AMERICA\n",
      "150 WINDSOR STREET, HARTFORD, CT 06120\n",
      "C188092989C A011900445A 40355C\n",
      "P627402800G\n",
      "P627402800G\n",
      "701062\n",
      "PO BOX 981572\n",
      "EL PASO TX 79998-1572\n",
      "If you have any (800) 541-7846\n",
      "questions contact: WWW.GUARDIANANYTIME.COM\n",
      "5\n",
      "FO\n",
      "Provider: DAVID HADLEY\n",
      "Date: 05/25/23 4\n",
      "Payee: UT BCDO SPECIALTY DENTAL SER\n",
      "Check No.: 188092989 72413\n",
      "Payment Amount: $134.40\n",
      "VNE\n",
      "Remarks for claim # 36162F14400:\n",
      "213-897-8921 or 1-800-927-HELP(4357) or TDD: 1-800-482-4TDD(4833)\n",
      "California Department of Insurance\n",
      "Claims Services Bureau\n",
      "300 S. Spring Street, South Tower\n",
      "Los Angeles, CA 90013\n",
      "http://www.Insurance.ca.gov/01-consumers/\n",
      "Guardian has established a process for provider dispute resolution. Please contact our\n",
      "Member Services Department at (800) 541-7846 for more information.\n",
      "Benefits are based on the use of a Preferred Contracted Dentist.\n",
      "Comments:\n",
      "Current Dental Terminology © 2021 American Dental Association. All rights reserved.\n",
      "Log on to www.GuardianAnytime.com for instant access to clinical policy guidelines and benefits information for Guardian members. Verify eligibility, view\n",
      "benefits, check claim status and more!\n"
     ]
    }
   ],
   "source": [
    "lines = []\n",
    "total_check = 0\n",
    "\n",
    "with pdfplumber.open(file) as pdf:\n",
    "    pages = pdf.pages\n",
    "    for page in pdf.pages:\n",
    "        text = page.extract_text()\n",
    "        for line in text.split('\\n'):\n",
    "            print(line)\n",
    "#             comp = company_re.search(line)\n",
    "#             if comp:\n",
    "#                 vend_no, vend_name = comp.group(1), comp.group(2)\n",
    "\n",
    "#             elif line.startswith('INVOICES'):\n",
    "#                 doctype = 'INVOICE'\n",
    "\n",
    "#             elif line.startswith('CREDITNOTES'):\n",
    "#                 doctype = 'CREDITNOTE'\n",
    "\n",
    "#             elif line_re.search(line):\n",
    "#                 items = line.split()\n",
    "#                 lines.append(Line(vend_no, vend_name, doctype, *items))\n",
    "                \n",
    "#             elif line.startswith('Supplier total'):\n",
    "#                 tot = float(line.split()[2].replace(',', ''))\n",
    "#                 total_check += tot"
   ]
  },
  {
   "cell_type": "code",
   "execution_count": 6,
   "metadata": {},
   "outputs": [
    {
     "data": {
      "text/html": [
       "<div>\n",
       "<style scoped>\n",
       "    .dataframe tbody tr th:only-of-type {\n",
       "        vertical-align: middle;\n",
       "    }\n",
       "\n",
       "    .dataframe tbody tr th {\n",
       "        vertical-align: top;\n",
       "    }\n",
       "\n",
       "    .dataframe thead th {\n",
       "        text-align: right;\n",
       "    }\n",
       "</style>\n",
       "<table border=\"1\" class=\"dataframe\">\n",
       "  <thead>\n",
       "    <tr style=\"text-align: right;\">\n",
       "      <th></th>\n",
       "    </tr>\n",
       "  </thead>\n",
       "  <tbody>\n",
       "  </tbody>\n",
       "</table>\n",
       "</div>"
      ],
      "text/plain": [
       "Empty DataFrame\n",
       "Columns: []\n",
       "Index: []"
      ]
     },
     "execution_count": 6,
     "metadata": {},
     "output_type": "execute_result"
    }
   ],
   "source": [
    "df = pd.DataFrame(lines)\n",
    "df.head()"
   ]
  },
  {
   "cell_type": "code",
   "execution_count": 7,
   "metadata": {},
   "outputs": [
    {
     "name": "stdout",
     "output_type": "stream",
     "text": [
      "<class 'pandas.core.frame.DataFrame'>\n",
      "Index: 0 entries\n",
      "Empty DataFrame"
     ]
    }
   ],
   "source": [
    "df.info()"
   ]
  },
  {
   "cell_type": "code",
   "execution_count": 8,
   "metadata": {},
   "outputs": [
    {
     "ename": "KeyError",
     "evalue": "'inv_date'",
     "output_type": "error",
     "traceback": [
      "\u001b[1;31m---------------------------------------------------------------------------\u001b[0m",
      "\u001b[1;31mKeyError\u001b[0m                                  Traceback (most recent call last)",
      "File \u001b[1;32m~\\AppData\\Roaming\\Python\\Python310\\site-packages\\pandas\\core\\indexes\\base.py:3629\u001b[0m, in \u001b[0;36mIndex.get_loc\u001b[1;34m(self, key, method, tolerance)\u001b[0m\n\u001b[0;32m   3628\u001b[0m \u001b[38;5;28;01mtry\u001b[39;00m:\n\u001b[1;32m-> 3629\u001b[0m     \u001b[38;5;28;01mreturn\u001b[39;00m \u001b[38;5;28;43mself\u001b[39;49m\u001b[38;5;241;43m.\u001b[39;49m\u001b[43m_engine\u001b[49m\u001b[38;5;241;43m.\u001b[39;49m\u001b[43mget_loc\u001b[49m\u001b[43m(\u001b[49m\u001b[43mcasted_key\u001b[49m\u001b[43m)\u001b[49m\n\u001b[0;32m   3630\u001b[0m \u001b[38;5;28;01mexcept\u001b[39;00m \u001b[38;5;167;01mKeyError\u001b[39;00m \u001b[38;5;28;01mas\u001b[39;00m err:\n",
      "File \u001b[1;32m~\\AppData\\Roaming\\Python\\Python310\\site-packages\\pandas\\_libs\\index.pyx:136\u001b[0m, in \u001b[0;36mpandas._libs.index.IndexEngine.get_loc\u001b[1;34m()\u001b[0m\n",
      "File \u001b[1;32m~\\AppData\\Roaming\\Python\\Python310\\site-packages\\pandas\\_libs\\index.pyx:163\u001b[0m, in \u001b[0;36mpandas._libs.index.IndexEngine.get_loc\u001b[1;34m()\u001b[0m\n",
      "File \u001b[1;32mpandas\\_libs\\hashtable_class_helper.pxi:5198\u001b[0m, in \u001b[0;36mpandas._libs.hashtable.PyObjectHashTable.get_item\u001b[1;34m()\u001b[0m\n",
      "File \u001b[1;32mpandas\\_libs\\hashtable_class_helper.pxi:5206\u001b[0m, in \u001b[0;36mpandas._libs.hashtable.PyObjectHashTable.get_item\u001b[1;34m()\u001b[0m\n",
      "\u001b[1;31mKeyError\u001b[0m: 'inv_date'",
      "\nThe above exception was the direct cause of the following exception:\n",
      "\u001b[1;31mKeyError\u001b[0m                                  Traceback (most recent call last)",
      "Cell \u001b[1;32mIn[8], line 1\u001b[0m\n\u001b[1;32m----> 1\u001b[0m df[\u001b[38;5;124m'\u001b[39m\u001b[38;5;124minv_date\u001b[39m\u001b[38;5;124m'\u001b[39m] \u001b[38;5;241m=\u001b[39m pd\u001b[38;5;241m.\u001b[39mto_datetime(\u001b[43mdf\u001b[49m\u001b[43m[\u001b[49m\u001b[38;5;124;43m'\u001b[39;49m\u001b[38;5;124;43minv_date\u001b[39;49m\u001b[38;5;124;43m'\u001b[39;49m\u001b[43m]\u001b[49m)\n\u001b[0;32m      2\u001b[0m df[\u001b[38;5;124m'\u001b[39m\u001b[38;5;124mdue_date\u001b[39m\u001b[38;5;124m'\u001b[39m] \u001b[38;5;241m=\u001b[39m pd\u001b[38;5;241m.\u001b[39mto_datetime(df[\u001b[38;5;124m'\u001b[39m\u001b[38;5;124mdue_date\u001b[39m\u001b[38;5;124m'\u001b[39m])\n",
      "File \u001b[1;32m~\\AppData\\Roaming\\Python\\Python310\\site-packages\\pandas\\core\\frame.py:3505\u001b[0m, in \u001b[0;36mDataFrame.__getitem__\u001b[1;34m(self, key)\u001b[0m\n\u001b[0;32m   3503\u001b[0m \u001b[38;5;28;01mif\u001b[39;00m \u001b[38;5;28mself\u001b[39m\u001b[38;5;241m.\u001b[39mcolumns\u001b[38;5;241m.\u001b[39mnlevels \u001b[38;5;241m>\u001b[39m \u001b[38;5;241m1\u001b[39m:\n\u001b[0;32m   3504\u001b[0m     \u001b[38;5;28;01mreturn\u001b[39;00m \u001b[38;5;28mself\u001b[39m\u001b[38;5;241m.\u001b[39m_getitem_multilevel(key)\n\u001b[1;32m-> 3505\u001b[0m indexer \u001b[38;5;241m=\u001b[39m \u001b[38;5;28;43mself\u001b[39;49m\u001b[38;5;241;43m.\u001b[39;49m\u001b[43mcolumns\u001b[49m\u001b[38;5;241;43m.\u001b[39;49m\u001b[43mget_loc\u001b[49m\u001b[43m(\u001b[49m\u001b[43mkey\u001b[49m\u001b[43m)\u001b[49m\n\u001b[0;32m   3506\u001b[0m \u001b[38;5;28;01mif\u001b[39;00m is_integer(indexer):\n\u001b[0;32m   3507\u001b[0m     indexer \u001b[38;5;241m=\u001b[39m [indexer]\n",
      "File \u001b[1;32m~\\AppData\\Roaming\\Python\\Python310\\site-packages\\pandas\\core\\indexes\\base.py:3631\u001b[0m, in \u001b[0;36mIndex.get_loc\u001b[1;34m(self, key, method, tolerance)\u001b[0m\n\u001b[0;32m   3629\u001b[0m     \u001b[38;5;28;01mreturn\u001b[39;00m \u001b[38;5;28mself\u001b[39m\u001b[38;5;241m.\u001b[39m_engine\u001b[38;5;241m.\u001b[39mget_loc(casted_key)\n\u001b[0;32m   3630\u001b[0m \u001b[38;5;28;01mexcept\u001b[39;00m \u001b[38;5;167;01mKeyError\u001b[39;00m \u001b[38;5;28;01mas\u001b[39;00m err:\n\u001b[1;32m-> 3631\u001b[0m     \u001b[38;5;28;01mraise\u001b[39;00m \u001b[38;5;167;01mKeyError\u001b[39;00m(key) \u001b[38;5;28;01mfrom\u001b[39;00m \u001b[38;5;21;01merr\u001b[39;00m\n\u001b[0;32m   3632\u001b[0m \u001b[38;5;28;01mexcept\u001b[39;00m \u001b[38;5;167;01mTypeError\u001b[39;00m:\n\u001b[0;32m   3633\u001b[0m     \u001b[38;5;66;03m# If we have a listlike key, _check_indexing_error will raise\u001b[39;00m\n\u001b[0;32m   3634\u001b[0m     \u001b[38;5;66;03m#  InvalidIndexError. Otherwise we fall through and re-raise\u001b[39;00m\n\u001b[0;32m   3635\u001b[0m     \u001b[38;5;66;03m#  the TypeError.\u001b[39;00m\n\u001b[0;32m   3636\u001b[0m     \u001b[38;5;28mself\u001b[39m\u001b[38;5;241m.\u001b[39m_check_indexing_error(key)\n",
      "\u001b[1;31mKeyError\u001b[0m: 'inv_date'"
     ]
    }
   ],
   "source": [
    "df['inv_date'] = pd.to_datetime(df['inv_date'])\n",
    "df['due_date'] = pd.to_datetime(df['due_date'])"
   ]
  },
  {
   "cell_type": "code",
   "execution_count": null,
   "metadata": {},
   "outputs": [],
   "source": [
    "for col in df.columns[-6:]:\n",
    "    df[col] = df[col].map(lambda x: float(str(x).replace(',', '')))"
   ]
  },
  {
   "cell_type": "code",
   "execution_count": null,
   "metadata": {},
   "outputs": [],
   "source": [
    "df['open_amt_bc'].sum()"
   ]
  },
  {
   "cell_type": "code",
   "execution_count": null,
   "metadata": {},
   "outputs": [],
   "source": [
    "total_check"
   ]
  },
  {
   "cell_type": "code",
   "execution_count": null,
   "metadata": {},
   "outputs": [],
   "source": [
    "df.to_csv('invoices.csv', index=False)"
   ]
  },
  {
   "cell_type": "code",
   "execution_count": null,
   "metadata": {},
   "outputs": [],
   "source": []
  }
 ],
 "metadata": {
  "kernelspec": {
   "display_name": "Python 3 (ipykernel)",
   "language": "python",
   "name": "python3"
  },
  "language_info": {
   "codemirror_mode": {
    "name": "ipython",
    "version": 3
   },
   "file_extension": ".py",
   "mimetype": "text/x-python",
   "name": "python",
   "nbconvert_exporter": "python",
   "pygments_lexer": "ipython3",
   "version": "3.10.5"
  }
 },
 "nbformat": 4,
 "nbformat_minor": 4
}
