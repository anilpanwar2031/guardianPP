{
 "cells": [
  {
   "cell_type": "code",
   "execution_count": null,
   "id": "95519ef9",
   "metadata": {},
   "outputs": [],
   "source": [
    "import pdfplumber\n",
    "\n",
    "file_path = \"SZN67RA4OH.pdf\""
   ]
  },
  {
   "cell_type": "code",
   "execution_count": null,
   "id": "16c1a179",
   "metadata": {},
   "outputs": [],
   "source": [
    "tab = []\n",
    "with pdfplumber.open(file_path) as pdf:\n",
    "  \n",
    "    for page in pdf.pages:\n",
    "        tables = page.extract_tables()\n",
    "        for i , table in enumerate(tables):\n",
    "            print(\"\\n\")\n",
    "            print(\"Table\", table)\n",
    "            print(\"Table\", len(table))\n",
    "            print(\"\\n\")\n",
    "#             for r in table:\n",
    "#                 td = {}"
   ]
  }
 ],
 "metadata": {
  "kernelspec": {
   "display_name": "Python 3 (ipykernel)",
   "language": "python",
   "name": "python3"
  },
  "language_info": {
   "codemirror_mode": {
    "name": "ipython",
    "version": 3
   },
   "file_extension": ".py",
   "mimetype": "text/x-python",
   "name": "python",
   "nbconvert_exporter": "python",
   "pygments_lexer": "ipython3",
   "version": "3.10.5"
  }
 },
 "nbformat": 4,
 "nbformat_minor": 5
}
