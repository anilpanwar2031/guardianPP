{
 "cells": [
  {
   "cell_type": "code",
   "execution_count": 1,
   "id": "01c1727c",
   "metadata": {},
   "outputs": [
    {
     "name": "stderr",
     "output_type": "stream",
     "text": [
      "C:\\Users\\pytho\\AppData\\Roaming\\Python\\Python310\\site-packages\\requests\\__init__.py:102: RequestsDependencyWarning: urllib3 (1.26.13) or chardet (5.1.0)/charset_normalizer (2.0.12) doesn't match a supported version!\n",
      "  warnings.warn(\"urllib3 ({}) or chardet ({})/charset_normalizer ({}) doesn't match a supported \"\n"
     ]
    }
   ],
   "source": [
    "import tika\n",
    "from tika import parser\n",
    "tika.initVM()"
   ]
  },
  {
   "cell_type": "code",
   "execution_count": 2,
   "id": "7f1cefa1",
   "metadata": {},
   "outputs": [
    {
     "name": "stderr",
     "output_type": "stream",
     "text": [
      "2023-06-01 15:43:05,579 [MainThread  ] [WARNI]  Failed to see startup log message; retrying...\n"
     ]
    }
   ],
   "source": [
    "file_path = 'C:\\\\guardian\\\\SD%20Payor%20Scraping\\\\unum.pdf'  \n",
    "parsed_pdf = parser.from_file(file_path)\n",
    "pdf_content = parsed_pdf.get(\"content\", \"\")"
   ]
  },
  {
   "cell_type": "code",
   "execution_count": 3,
   "id": "f035128d",
   "metadata": {},
   "outputs": [
    {
     "data": {
      "text/plain": [
       "'\\n\\n\\n\\n\\n\\n\\n\\n\\n\\n\\n\\n\\n\\n\\n\\n\\n\\n\\n\\n\\n\\n\\n\\n\\n\\n\\n\\n\\n\\n\\nPortalClaimReport\\n\\n\\nPatient Information\\n\\nJackson Bennett\\n\\n1280 County Road 2314\\n\\nPittsburg, Tx 75686\\n\\n5396419\\n\\nProvider Information\\n\\nJennifer Chou (1063626521)\\n\\nSmiley Tooth Lllp (1740685957)\\n\\n804 Gilmer St Ste B\\n\\nSulphur Springs, Tx 75482\\n\\nPayee Name: Smiley Tooth Lllp\\n\\nClaim Information\\n\\nColonial Life & Accident Insurance Company\\n\\nBenefit Level:  In Network\\n\\nClient Claim ID:  20220707D003335\\n\\nDate Received:  07/07/2022\\n\\nDate Entered:  07/07/2022\\n\\nDate Paid:  07/08/2022\\n\\nEncounter 0220707D003335 \\n\\nService(s) Detail\\n\\nD0120 - Periodic Oral Evaluation - Established Patient\\n\\nQuantity 1 Deductible $0.00 Coinsurance Computed $0.00 Billed Amount $52.00\\n\\nService Date 07/05/2022 COB Collected $0.00 Payable $33.84 Allowed Amount $33.84\\n\\nAuth Number Copay Computed $0.00 Over Maximum $0.00 Paid Amount $33.84\\n\\nD0220 - Intraoral - Periapical First Radiographic Image (A)\\n\\nQuantity 1 Deductible $0.00 Coinsurance Computed $0.00 Billed Amount $25.00\\n\\nService Date 07/05/2022 COB Collected $0.00 Payable $18.59 Allowed Amount $18.59\\n\\nAuth Number Copay Computed $0.00 Over Maximum $0.00 Paid Amount $18.59\\n\\nD0230 - Intraoral - Periapical Each Additional Image (J)\\n\\nQuantity 1 Deductible $0.00 Coinsurance Computed $0.00 Billed Amount $21.00\\n\\nService Date 07/05/2022 COB Collected $0.00 Payable $15.10 Allowed Amount $15.10\\n\\nAuth Number Copay Computed $0.00 Over Maximum $0.00 Paid Amount $15.10\\n\\nD0230 - Intraoral - Periapical Each Additional Image (K)\\n\\nQuantity 1 Deductible $0.00 Coinsurance Computed $0.00 Billed Amount $21.00\\n\\nService Date 07/05/2022 COB Collected $0.00 Payable $15.10 Allowed Amount $15.10\\n\\nAuth Number Copay Computed $0.00 Over Maximum $0.00 Paid Amount $15.10\\n\\nD1120 - Prophylaxis - Child\\n\\nQuantity 1 Deductible $0.00 Coinsurance Computed $0.00 Billed Amount $77.00\\n\\nService Date 07/05/2022 COB Collected $0.00 Payable $46.05 Allowed Amount $46.05\\n\\nAuth Number Copay Computed $0.00 Over Maximum $0.00 Paid Amount $46.05\\n\\nClaim Status: Processed\\n\\nNotes\\n\\nAdditional Notes:  E221880003723\\nPayment Notes:  Check #: 710410660, Date Paid: 20220708\\n\\nPayment Information\\n\\nCheck Number 710410660 Pay Member No\\n\\nCheck Amount $237.25 Total Billed Amount $196.00\\n\\nCheck Status Paid Original Paid Amount $128.68\\n\\nCheck Date 07/08/2022 Net Paid Amount $128.68\\n\\nCheck Cleared EFT Flag / Acct No\\n\\nRendered: 6/1/2023 4:36 AM  By: BPK Tech Page 1 of 1\\n\\n\\n'"
      ]
     },
     "execution_count": 3,
     "metadata": {},
     "output_type": "execute_result"
    }
   ],
   "source": [
    "pdf_content"
   ]
  }
 ],
 "metadata": {
  "kernelspec": {
   "display_name": "Python 3 (ipykernel)",
   "language": "python",
   "name": "python3"
  },
  "language_info": {
   "codemirror_mode": {
    "name": "ipython",
    "version": 3
   },
   "file_extension": ".py",
   "mimetype": "text/x-python",
   "name": "python",
   "nbconvert_exporter": "python",
   "pygments_lexer": "ipython3",
   "version": "3.10.5"
  }
 },
 "nbformat": 4,
 "nbformat_minor": 5
}
