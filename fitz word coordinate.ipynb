{
 "cells": [
  {
   "cell_type": "code",
   "execution_count": 1,
   "id": "986a08a6",
   "metadata": {},
   "outputs": [],
   "source": [
    "import fitz\n",
    "\n",
    "file_path = 'guardian1.pdf'"
   ]
  },
  {
   "cell_type": "code",
   "execution_count": 2,
   "id": "5fd09005",
   "metadata": {},
   "outputs": [],
   "source": [
    "# def find_word_coordinates(pdf_path, word):\n",
    "#     doc = fitz.open(pdf_path)\n",
    "#     page = doc[0]  # Assuming you want to search on the first page\n",
    "#     print(\"Page\", page)\n",
    "\n",
    "#     text_instances = page.searchFor(word)\n",
    "#     if text_instances:\n",
    "#         first_instance = text_instances[0]\n",
    "#         x1, y1, x2, y2 = first_instance\n",
    "\n",
    "#         return x1, y1, x2, y2\n",
    "\n",
    "#     return None\n",
    "\n",
    "# # Example usage\n",
    "\n",
    "# word_to_find = 'Remark'\n",
    "# coordinates = find_word_coordinates(file_path, word_to_find)\n",
    "# if coordinates:\n",
    "#     print(f\"Coordinates of '{word_to_find}': {coordinates}\")\n",
    "# else:\n",
    "#     print(f\"'{word_to_find}' not found in the PDF.\")"
   ]
  },
  {
   "cell_type": "code",
   "execution_count": 6,
   "id": "ca31e6c1",
   "metadata": {},
   "outputs": [
    {
     "name": "stdout",
     "output_type": "stream",
     "text": [
      "words ['If', 'you', 'have', 'any', 'questions', 'contact:(800)', '541-7846', 'WWW.GUARDIANANYTIME.COM', 'Provider:', 'DAVID', 'HADLEY', 'Date:', '05/25/23', 'PROVIDER', 'EXPLANATION', 'OF', 'BENEFITS', '-', 'THIS', 'IS', 'NOT', 'A', 'BILL', 'Important!', 'Please', 'examine', 'this', 'statement', 'for', 'accuracy.', 'Save', 'this', 'statement', 'for', 'tax', 'purposes.', 'Payee:', 'Check', 'No.:UT', 'BCDO', 'SPECIALTY', 'DENTAL', 'SER', '188092989', 'Payment', 'Amount:', '$134.40', 'Expedite', 'cash', 'flow', 'with', 'e-payments.', 'Sign', 'up', 'today!', 'Guardian', 'has', 'contracted', 'with', 'Change', 'Healthcare,', 'a', 'leading', 'provider', 'of', 'revenue', 'and', 'payment', 'cycle', 'solutions,', 'to', 'deliver', 'Electronic', 'Funds', 'Transfer', '(EFT)', 'services!', 'Sign-up', 'today', 'by', 'going', 'to', 'www.changehealthcare.com/support', '/customer-resources/enrollment-services', 'for', 'more', 'information.', 'Enrollment', 'for', 'this', 'service', 'is', 'offered', 'to', 'you', 'at', 'no', 'additional', 'cost', 'and', 'is', 'available', 'online', 'or', 'by', 'calling', '1.866.777.0713', 'and', 'selecting', 'Option', '1.', 'Submitted', 'ADA', 'Codes/DescriptionTooth', 'No.Date', 'of', 'ServiceSubmitted', 'ChargeCoverage', 'PercentAlt', 'CodeConsidered', 'ChargeCovered', 'ChargeDeductible', 'AmountBenefit', 'AmountLine', 'No.Claim', 'Number:', 'Patient', 'Name:36162F14400', 'BOSTON', 'BELL', 'PCF', 'INSURANCE', 'SERVICES,', 'LLCPatient', 'Account', 'No.:', 'Employee', 'Name:120898061', 'TYLER', 'BELLPlan', 'Number:', 'Relationship:', 'SON00034945', 'Planholder:', '1', 'D9230/Analgesia/N20', '0.00', '28.00', '05/22/23', '0.00', '30.00', '80%', 'FM', '2', 'D2392/Pst', 'Composite2', '109.00', '109.00', '05/22/23', '50.00', '47.20', '152.00', '80%', '03', '3', 'D2392/Pst', 'Composite2', '109.00', '109.00', '05/22/23', '87.20', '152.00', '80%', '14', '134.40', '334.00', '246.00', '218.00', '50.00', '$134.40', 'PAID', 'BY', 'OTHER', 'INSURANCE.....', '$0.00', 'ADJUSTMENTS...............................', '$0.00', 'TOTAL', 'BENEFIT', 'PAID..................', '$', '134.40', \"PATIENT'S\", 'RESPONSIBILITY.....', '$111.60TOTALS', 'TOTAL', 'BENEFIT', 'PAYABLE.........BENEFIT', 'SUMMARY', '$218.00', 'HIGHER', 'ALLOWABLE..................', '33.60', 'Remarks', 'for', 'claim', '#', '36162F14400:', 'A', 'DENTALGUARD', 'PARTICIPATING', 'DENTIST', 'HAS', 'BEEN', 'UTILIZED', '1.', 'The', 'dental', 'plan', 'covers', 'this', 'procedure', 'only', 'when', 'performed', 'in', 'conjunction', 'with', 'eligible', 'surgical', 'procedures', 'or', 'eligible', 'surgical', 'extractions', 'performed', 'on', 'the', 'same', 'day.', 'If', 'you', 'have', 'any', 'questions', 'or', 'comments', 'concerning', 'this', 'claim,', 'please', 'contact', 'us', 'at', '(800)', '541-7846', 'In', 'compliance', 'with', 'the', 'California', 'Department', 'of', 'Insurance', 'regulation,', 'we', 'are', 'supplying', 'insured/dentist', 'with', 'the', 'name,', 'address,', 'telephone', 'number', 'and', 'website', 'of', 'the', 'California', 'Department', 'of', 'Insurance,', 'if', 'the', 'insured/dentist', 'wishes', 'to', 'contact', 'them', 'concerning', 'this', 'claim:', '10', 'Hudson', 'Yards', '51-44', '119CHECK', 'NO:', '188092989', 'PAY', 'One', 'Hundred', 'Thirty', 'Four', '&', '40/100', 'Dollars****$134.40AMOUNT', 'TO', 'THE', 'ORDER', 'OFUT', 'BCDO', 'SPECIALTY', 'DENTAL', 'SERVI', 'BANK', 'OF', 'AMERICA', '150', 'WINDSOR', 'STREET,', 'HARTFORD,', 'CT', '06120CHECK', 'DATE:', '05/25/23', 'Void', 'unless', 'presented', 'within', '180', 'daysNew', 'York,', 'NY', '10001', 'DDAFADADTDDAFFADATFFTAAFAATAFDFATAAATTFFTFFDAAATTAA', 'ATAATDDFFFTFAD31427', '1.1458', 'AB', '0.504ALL', 'FOR', 'AADC', '840', 'LEHI,', 'UT', '84043-7501505', 'UT', 'BCDO', 'SPECIALTY', 'DENTAL', 'SERVI', '3401', 'N', 'CENTER', 'ST', 'STE', '250', 'EL', 'PASO,', 'TX', '79998-1572PO', 'BOX', '981572', 'Electronic', 'Service', 'Requested', 'C55304A544009110AC989290881CP627402800G', 'ENV', '31427', '3', 'OF', '5', 'P627402800G260107']\n"
     ]
    },
    {
     "ename": "AttributeError",
     "evalue": "'str' object has no attribute 'getCharBBox'",
     "output_type": "error",
     "traceback": [
      "\u001b[1;31m---------------------------------------------------------------------------\u001b[0m",
      "\u001b[1;31mAttributeError\u001b[0m                            Traceback (most recent call last)",
      "Cell \u001b[1;32mIn[6], line 27\u001b[0m\n\u001b[0;32m     24\u001b[0m \u001b[38;5;66;03m# Example usage\u001b[39;00m\n\u001b[0;32m     26\u001b[0m word_to_find \u001b[38;5;241m=\u001b[39m \u001b[38;5;124m'\u001b[39m\u001b[38;5;124mElectronic\u001b[39m\u001b[38;5;124m'\u001b[39m\n\u001b[1;32m---> 27\u001b[0m word_coordinates \u001b[38;5;241m=\u001b[39m \u001b[43mget_word_coordinates\u001b[49m\u001b[43m(\u001b[49m\u001b[43mfile_path\u001b[49m\u001b[43m,\u001b[49m\u001b[43m \u001b[49m\u001b[43mword_to_find\u001b[49m\u001b[43m)\u001b[49m\n\u001b[0;32m     29\u001b[0m \u001b[38;5;28;01mif\u001b[39;00m word_coordinates:\n\u001b[0;32m     30\u001b[0m     \u001b[38;5;28;01mfor\u001b[39;00m page_num, x1, y1, x2, y2 \u001b[38;5;129;01min\u001b[39;00m word_coordinates:\n",
      "Cell \u001b[1;32mIn[6], line 18\u001b[0m, in \u001b[0;36mget_word_coordinates\u001b[1;34m(pdf_path, word)\u001b[0m\n\u001b[0;32m     16\u001b[0m \u001b[38;5;28;01mif\u001b[39;00m word \u001b[38;5;241m==\u001b[39m word_in_page:\n\u001b[0;32m     17\u001b[0m     word_bbox \u001b[38;5;241m=\u001b[39m page\u001b[38;5;241m.\u001b[39mextractText()\u001b[38;5;241m.\u001b[39mindex(word_in_page, index)\n\u001b[1;32m---> 18\u001b[0m     word_bbox \u001b[38;5;241m=\u001b[39m \u001b[43mpage\u001b[49m\u001b[38;5;241;43m.\u001b[39;49m\u001b[43mextractText\u001b[49m\u001b[43m(\u001b[49m\u001b[43m)\u001b[49m\u001b[38;5;241;43m.\u001b[39;49m\u001b[43mgetCharBBox\u001b[49m(word_bbox)\n\u001b[0;32m     19\u001b[0m     x1, y1, x2, y2 \u001b[38;5;241m=\u001b[39m word_bbox[\u001b[38;5;241m0\u001b[39m], word_bbox[\u001b[38;5;241m1\u001b[39m], word_bbox[\u001b[38;5;241m2\u001b[39m], word_bbox[\u001b[38;5;241m3\u001b[39m]\n\u001b[0;32m     20\u001b[0m     coordinates\u001b[38;5;241m.\u001b[39mappend((page_num, x1, y1, x2, y2))\n",
      "\u001b[1;31mAttributeError\u001b[0m: 'str' object has no attribute 'getCharBBox'"
     ]
    }
   ],
   "source": [
    "import PyPDF2\n",
    "\n",
    "def get_word_coordinates(pdf_path, word):\n",
    "    coordinates = []\n",
    "    \n",
    "    with open(pdf_path, 'rb') as file:\n",
    "        reader = PyPDF2.PdfFileReader(file)\n",
    "        \n",
    "        for page_num in range(reader.numPages):\n",
    "            page = reader.getPage(page_num)\n",
    "            text = page.extractText()\n",
    "            words = text.split()\n",
    "            print(\"words\",words)\n",
    "            \n",
    "            for index, word_in_page in enumerate(words):\n",
    "                if word == word_in_page:\n",
    "                    word_bbox = page.extractText().index(word_in_page, index)\n",
    "                    word_bbox = page.extractText().getCharBBox(word_bbox)\n",
    "                    x1, y1, x2, y2 = word_bbox[0], word_bbox[1], word_bbox[2], word_bbox[3]\n",
    "                    coordinates.append((page_num, x1, y1, x2, y2))\n",
    "                    \n",
    "    return coordinates\n",
    "\n",
    "# Example usage\n",
    "\n",
    "word_to_find = 'Electronic'\n",
    "word_coordinates = get_word_coordinates(file_path, word_to_find)\n",
    "\n",
    "if word_coordinates:\n",
    "    for page_num, x1, y1, x2, y2 in word_coordinates:\n",
    "        print(f\"Page: {page_num}, Coordinates: ({x1}, {y1}, {x2}, {y2})\")\n",
    "else:\n",
    "    print(f\"'{word_to_find}' not found in the PDF.\")\n"
   ]
  },
  {
   "cell_type": "code",
   "execution_count": null,
   "id": "9d900cff",
   "metadata": {},
   "outputs": [],
   "source": []
  }
 ],
 "metadata": {
  "kernelspec": {
   "display_name": "Python 3 (ipykernel)",
   "language": "python",
   "name": "python3"
  },
  "language_info": {
   "codemirror_mode": {
    "name": "ipython",
    "version": 3
   },
   "file_extension": ".py",
   "mimetype": "text/x-python",
   "name": "python",
   "nbconvert_exporter": "python",
   "pygments_lexer": "ipython3",
   "version": "3.10.5"
  }
 },
 "nbformat": 4,
 "nbformat_minor": 5
}
