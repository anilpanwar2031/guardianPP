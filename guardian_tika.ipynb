{
 "cells": [
  {
   "cell_type": "code",
   "execution_count": 1,
   "id": "2227f671",
   "metadata": {},
   "outputs": [
    {
     "name": "stderr",
     "output_type": "stream",
     "text": [
      "C:\\Users\\pytho\\AppData\\Roaming\\Python\\Python310\\site-packages\\requests\\__init__.py:102: RequestsDependencyWarning: urllib3 (1.26.13) or chardet (5.1.0)/charset_normalizer (2.0.12) doesn't match a supported version!\n",
      "  warnings.warn(\"urllib3 ({}) or chardet ({})/charset_normalizer ({}) doesn't match a supported \"\n"
     ]
    }
   ],
   "source": [
    "import tika\n",
    "from tika import parser\n",
    "tika.initVM()"
   ]
  },
  {
   "cell_type": "code",
   "execution_count": 2,
   "id": "af399f1d",
   "metadata": {},
   "outputs": [
    {
     "name": "stderr",
     "output_type": "stream",
     "text": [
      "2023-05-31 17:01:09,598 [MainThread  ] [INFO ]  Retrieving http://search.maven.org/remotecontent?filepath=org/apache/tika/tika-server-standard/2.6.0/tika-server-standard-2.6.0.jar to C:\\Users\\pytho\\AppData\\Local\\Temp\\tika-server.jar.\n",
      "2023-05-31 17:56:11,109 [MainThread  ] [WARNI]  Failed to see startup log message; retrying...\n"
     ]
    }
   ],
   "source": [
    "file_path = 'C:\\\\guardian\\\\SD%20Payor%20Scraping\\\\guardian11.pdf'\n",
    "parsed_pdf = parser.from_file(file_path)\n",
    "pdf_content = parsed_pdf.get(\"content\", \"\")"
   ]
  },
  {
   "cell_type": "code",
   "execution_count": 3,
   "id": "833e0648",
   "metadata": {},
   "outputs": [
    {
     "data": {
      "text/plain": [
       "\"\\n\\n\\n\\n\\n\\n\\n\\n\\n\\n\\n\\n\\n\\n\\n\\n\\n\\n\\n\\n\\n\\n\\n\\n\\n\\n\\n\\n\\n\\n\\n\\n\\n\\n\\n\\n\\nCCOMPDDAT\\n\\nCCOMPNM: Guardian Life Insuranc\\n\\nCCOMPIDENT 3135123390\\n\\nCIMMORIGN Guardian Life Insurance\\n\\nCIMMDESTN BANK OF AMERICA\\n\\nCIMMDEST: 011900254\\n\\nCIMMORIGIN: 2135123390\\n\\nCADDENDA:\\n\\nCORIGDFIID: 01190025\\n\\nIEFFDTDIFF: 2\\n\\nCCMPENTDCS HCCLAIMPMT\\n\\nPayee Bank:\\n\\nACH Amount:\\n\\nPayee Name:\\n\\nCTRANSCODE\\n\\nACH Bank ID:\\n\\nCPROVID:\\n\\nM0000011\\n\\n22\\n\\n24295\\n\\n064000020\\n\\nCHILDREN'S DENTAL AT PRESTON\\n\\nACH Transaction\\n\\nP6274000000\\n\\nFFADATFAFFTATADFAFTTTFAAAFATFTAADFDATTTDFTTADATFFDADFFTFTFFDDDTFA\\n19688 0.0124\\n\\nCOLLEYVILLE, TX  76034-6065\\n\\nCHILDREN’S DENTAL AT PRESTON T\\n5708 COLLEYVILLE BLVD STE A\\n\\nEL PASO, TX  79998-1572\\nPO BOX 981572\\n\\nElectronic Service Requested\\n\\nPEFTCHECK\\n\\n202303033000    \\n\\nE\\nN\\n\\nV\\n 1\\n\\n9\\n6\\n8\\n8\\n  \\n\\n  \\n  \\n\\n  \\n  \\n\\n 1\\n O\\n\\nF\\n 1\\n\\n \\n\\nPEFTCHECK\\n\\n  \\n  \\n\\n  \\n \\n\\n\\n\\nIf you have any\\n\\nquestions contact:\\n(800) 541-7846\\nWWW.GUARDIANANYTIME.COM\\n\\nProvider: JANENE SPERANDEO\\nDate: 02/27/23\\n\\nPROVIDER EXPLANATION OF BENEFITS - THIS IS NOT A BILL\\n\\nImportant!  Please examine this statement for accuracy.  Save this statement for tax purposes.\\n\\nPayee:\\nCheck No.:\\n\\nCHILDREN'S DENTAL AT PRESTON \\n186250290\\n\\nPayment Amount: $242.95\\n\\nExpedite cash flow with e-payments. Sign up today!\\nGuardian has contracted with Change Healthcare, a leading provider of \\nrevenue and payment cycle solutions, to deliver Electronic Funds Transfer \\n(EFT) services! Sign-up today by going to www.changehealthcare.com/support\\n/customer-resources/enrollment-services for more information. Enrollment for \\nthis service is offered to you at no additional cost and is available online or by \\ncalling 1.866.777.0713 and selecting Option 1.\\n\\nSubmitted\\n\\nADA Codes/Description\\n\\nTooth\\n\\nNo.\\n\\nDate of\\n\\nService\\n\\nSubmitted\\n\\nCharge\\n\\nCoverage\\n\\nPercent\\n\\nAlt\\n\\nCode\\n\\nConsidered\\n\\nCharge\\n\\nCovered\\n\\nCharge\\n\\nDeductible\\n\\nAmount\\n\\nBenefit\\n\\nAmount\\nLine \\n\\nNo.\\n\\nClaim Number:\\nPatient Name:\\n\\n18472E05500\\nHARPER L NEWTON\\nGDH CONSULTING, INC.\\n\\nPatient Account No.:\\nEmployee Name:\\n\\n15320\\nMICHELLE N BERMAN\\n\\nPlan Number:\\nRelationship: DAUGHTER\\n\\n00580287\\n\\nPlanholder:\\n\\n1 D1110/Adult Cleaning 69.0069.0002/21/23 69.00138.00 100%FM\\n\\n2 D0120/Periodic Eval 34.0034.0002/21/23 34.0075.00 100%FM\\n\\n3 D1206/Fluoride Varn 0.0056.9502/21/23 0.0067.00 100%FM\\n\\n103.00280.00 159.95 103.00\\n\\n$103.00\\n\\nPAID BY OTHER INSURANCE..... $0.00\\nADJUSTMENTS............................... $0.00\\n\\nTOTAL BENEFIT PAID.................. $ 103.00\\n\\nPATIENT'S RESPONSIBILITY..... $56.95\\n\\nTOTALS\\n\\nTOTAL BENEFIT PAYABLE.........\\n\\nBENEFIT SUMMARY\\n\\n$103.00HIGHER ALLOWABLE..................\\n\\n \\n\\n0.00\\n\\nRemarks for claim # 18472E05500:\\n\\nDISCOUNT THROUGH MAXIMUMCARE NETWORK POWERED BY CAREINGTON & DENTEMAX\\n3.  The dental plan covers fluoride treatment only for covered patients under the age of 14.\\nBenefits are based on the use of a Preferred Contracted Dentist.\\nYou have used     $0.00 of your personal Maximum Rollover Account.   $500.00 remains in your account\\n\\n10 Hudson Yards\\n\\n51-44\\n\\n119\\n\\nEFT NO: 186250290\\n\\nPAY Two Hundred Forty Two & 95/100 Dollars\\n\\n****$242.95\\n\\nAMOUNT\\n\\nTO THE\\n\\nORDER OF\\nCHILDREN'S DENTAL AT PRESTON T\\n\\nBANK OF AMERICA\\n\\n150 WINDSOR STREET, HARTFORD, CT 06120\\n\\nDATE: 02/27/23\\n\\nVoid unless presented \\n\\nwithin 180 days\\n\\nNew York, NY 10001\\n\\nPAYMENT MADE\\nELECTRONICALLY\\n\\n___________________________________________________\\n\\nFFADATFAFFTATADFAFTTTFAAAFATFTAADFDATTTDFTTADATFFDADFFTFTFFDDDTFA\\n8700 0.0248\\n\\nCOLLEYVILLE, TX  76034-6065\\n\\nCHILDREN’S DENTAL AT PRESTON T\\n5708 COLLEYVILLE BLVD STE A\\n\\nEL PASO, TX  79998-1572\\nPO BOX 981572\\n\\nElectronic Service Requested\\n\\nP627402800G\\n\\n 034300   \\n\\nE\\nN\\n\\nV\\n 8\\n\\n7\\n0\\n0\\n  \\n\\n  \\n  \\n\\n  \\n  \\n\\n 1\\n O\\n\\nF\\n 2\\n\\n \\n\\nP627402800G\\n\\n  \\n  \\n\\n  \\n \\n\\nP627402800G\\n\\n 034300   \\n\\nE\\nN\\n\\nV\\n 8\\n\\n7\\n0\\n0\\n  \\n\\n  \\n  \\n\\n  \\n  \\n\\n 1\\n O\\n\\nF\\n 2\\n\\n \\n\\nP627402800G\\n\\n  \\n  \\n\\n  \\n \\n\\n\\n\\nIf you have any\\n\\nquestions contact:\\n(800) 541-7846\\nWWW.GUARDIANANYTIME.COM\\n\\nProvider:\\nDate:\\n\\nJANENE SPERANDEO\\n02/27/23\\n\\nEL PASO TX 79998-1572\\nPO BOX 981572\\n\\nPayee:\\nCheck No.:\\nPayment Amount:\\n\\nCHILDREN'S DENTAL AT PRESTON \\n186250290\\n$242.95\\n\\nSubmitted\\n\\nADA Codes/Description\\n\\nTooth\\n\\nNo.\\n\\nDate of\\n\\nService\\n\\nSubmitted\\n\\nCharge\\n\\nCoverage\\n\\nPercent\\n\\nAlt\\n\\nCode\\n\\nConsidered\\n\\nCharge\\n\\nCovered\\n\\nCharge\\n\\nDeductible\\n\\nAmount\\n\\nBenefit\\n\\nAmount\\nLine \\n\\nNo.\\n\\nClaim Number:\\nPatient Name:\\n\\n18473E05500\\nWILLA K NEWTON\\nGDH CONSULTING, INC.\\n\\nPatient Account No.:\\nEmployee Name:\\n\\n15321\\nMICHELLE N BERMAN\\n\\nPlan Number:\\nRelationship: DAUGHTER\\n\\n00580287\\n\\nPlanholder:\\n\\n1 D0120/Periodic Eval 34.0034.0002/21/23 34.0075.00 100%FM\\n\\n2 D1120/Child Cleaning 49.0049.0002/21/23 49.0096.00 100%FM\\n\\n3 D1206/Fluoride Varn 56.9556.9502/21/23 56.9567.00 100%FM\\n\\n139.95238.00 139.95 139.95\\n\\n$139.95\\n\\nPAID BY OTHER INSURANCE..... $0.00\\nADJUSTMENTS............................... $0.00\\n\\nTOTAL BENEFIT PAID.................. $ 139.95\\n\\nPATIENT'S RESPONSIBILITY..... $0.00\\n\\nTOTALS\\n\\nTOTAL BENEFIT PAYABLE.........\\n\\nBENEFIT SUMMARY\\n\\n$139.95HIGHER ALLOWABLE..................\\n\\n \\n\\n0.00\\n\\nRemarks for claim # 18473E05500:\\n\\nDISCOUNT THROUGH MAXIMUMCARE NETWORK POWERED BY CAREINGTON & DENTEMAX\\nBenefits are based on the use of a Preferred Contracted Dentist.\\nYou have used     $0.00 of your personal Maximum Rollover Account.   $350.00 remains in your account\\n\\nComments:\\nCurrent Dental Terminology © 2021 American Dental Association.  All rights reserved.\\n\\nLog on to www.GuardianAnytime.com  for instant access to clinical policy guidelines and benefits information for Guardian members. Verify eligibility, view\\nbenefits, check claim status and more!\\n\\nP627402800G\\n\\n    \\n\\nE\\nN\\n\\nV\\n 8\\n\\n7\\n0\\n0\\n  \\n\\n  \\n  \\n\\n  \\n  \\n\\n 2\\n O\\n\\nF\\n 2\\n\\n \\n\\nP627402800G\\n\\n0\\n3\\n\\n4\\n3\\n\\n0\\n0\\n\\n  \\n  \\n\\n  \\n \\n\\nP627402800G\\n\\n    \\n\\nE\\nN\\n\\nV\\n 8\\n\\n7\\n0\\n0\\n  \\n\\n  \\n  \\n\\n  \\n  \\n\\n 2\\n O\\n\\nF\\n 2\\n\\n \\n\\nP627402800G\\n\\n0\\n3\\n\\n4\\n3\\n\\n0\\n0\\n\\n  \\n  \\n\\n  \\n \\n\\n\\n\""
      ]
     },
     "execution_count": 3,
     "metadata": {},
     "output_type": "execute_result"
    }
   ],
   "source": [
    "pdf_content"
   ]
  },
  {
   "cell_type": "code",
   "execution_count": null,
   "id": "f147d3b5",
   "metadata": {},
   "outputs": [],
   "source": []
  }
 ],
 "metadata": {
  "kernelspec": {
   "display_name": "Python 3 (ipykernel)",
   "language": "python",
   "name": "python3"
  },
  "language_info": {
   "codemirror_mode": {
    "name": "ipython",
    "version": 3
   },
   "file_extension": ".py",
   "mimetype": "text/x-python",
   "name": "python",
   "nbconvert_exporter": "python",
   "pygments_lexer": "ipython3",
   "version": "3.10.5"
  }
 },
 "nbformat": 4,
 "nbformat_minor": 5
}
