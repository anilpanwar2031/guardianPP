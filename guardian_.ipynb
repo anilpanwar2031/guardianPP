{
 "cells": [
  {
   "cell_type": "code",
   "execution_count": 1,
   "id": "e352ea78",
   "metadata": {},
   "outputs": [],
   "source": [
    "import PyPDF2\n",
    "from pdfminer.converter import TextConverter\n",
    "from pdfminer.pdfinterp import PDFResourceManager, PDFPageInterpreter\n",
    "from pdfminer.pdfpage import PDFPage\n",
    "from io import StringIO\n"
   ]
  },
  {
   "cell_type": "code",
   "execution_count": 2,
   "id": "569691a6",
   "metadata": {},
   "outputs": [],
   "source": [
    "def extract_text_from_pdf(pdf_path):\n",
    "    resource_manager = PDFResourceManager()\n",
    "    string_io = StringIO()\n",
    "    converter = TextConverter(resource_manager, string_io)\n",
    "    interpreter = PDFPageInterpreter(resource_manager, converter)\n",
    "    with open(pdf_path, 'rb') as file:\n",
    "        for page in PDFPage.get_pages(file, caching=True, check_extractable=True):\n",
    "            interpreter.process_page(page)\n",
    "    converter.close()\n",
    "    text = string_io.getvalue()\n",
    "    string_io.close()\n",
    "    return text\n"
   ]
  },
  {
   "cell_type": "code",
   "execution_count": 3,
   "id": "a4e56438",
   "metadata": {},
   "outputs": [],
   "source": [
    "file_path = 'C:\\\\guardian\\\\SD%20Payor%20Scraping\\\\guardian1.pdf'\n",
    "text = extract_text_from_pdf(file_path)"
   ]
  },
  {
   "cell_type": "code",
   "execution_count": 4,
   "id": "6ea380d2",
   "metadata": {},
   "outputs": [
    {
     "data": {
      "text/plain": [
       "\"If you have anyquestions contact:(800) 541-7846WWW.GUARDIANANYTIME.COMProvider:DAVID HADLEYDate:05/25/23PROVIDER EXPLANATION OF BENEFITS - THIS IS NOT A BILLImportant!  Please examine this statement for accuracy.  Save this statement for tax purposes.Payee:Check No.:UT BCDO SPECIALTY DENTAL SER188092989Payment Amount:$134.40Expedite cash flow with e-payments. Sign up today!Guardian has contracted with Change Healthcare, a leading provider of revenue and payment cycle solutions, to deliver Electronic Funds Transfer (EFT) services! Sign-up today by going to www.changehealthcare.com/support/customer-resources/enrollment-services for more information. Enrollment for this service is offered to you at no additional cost and is available online or by calling 1.866.777.0713 and selecting Option 1.SubmittedADA Codes/DescriptionToothNo.Date ofServiceSubmittedChargeCoveragePercentAltCodeConsideredChargeCoveredChargeDeductibleAmountBenefitAmountLine No.Claim Number:Patient Name:36162F14400BOSTON BELLPCF INSURANCE SERVICES, LLCPatient Account No.:Employee Name:120898061TYLER BELLPlan Number:Relationship:SON00034945Planholder:1D9230/Analgesia/N200.0028.0005/22/230.0030.0080%FM2D2392/Pst Composite2109.00109.0005/22/2350.0047.20152.0080%033D2392/Pst Composite2109.00109.0005/22/2387.20152.0080%14134.40334.00246.00218.0050.00$134.40PAID BY OTHER INSURANCE.....$0.00ADJUSTMENTS...............................$0.00TOTAL BENEFIT PAID..................$ 134.40PATIENT'S RESPONSIBILITY.....$111.60TOTALSTOTAL BENEFIT PAYABLE.........BENEFIT SUMMARY$218.00HIGHER ALLOWABLE.................. 33.60Remarks for claim # 36162F14400:A DENTALGUARD PARTICIPATING DENTIST HAS BEEN UTILIZED1.  The dental plan covers this procedure only when performed in conjunction with eligible surgicalprocedures or eligible surgical extractions performed on the same day.If you have any questions or comments concerning this claim, please contact us at (800) 541-7846In compliance with the California Department of Insurance regulation, we are supplyinginsured/dentist with the name, address, telephone number and website of the CaliforniaDepartment of Insurance, if the insured/dentist wishes to contact them concerning this claim:10 Hudson Yards51-44119CHECK NO: 188092989PAYOne Hundred Thirty Four & 40/100 Dollars****$134.40AMOUNTTO THEORDER OFUT BCDO SPECIALTY DENTAL SERVIBANK OF AMERICA150 WINDSOR STREET, HARTFORD, CT 06120CHECK DATE: 05/25/23Void unless presented within 180 daysNew York, NY 10001DDAFADADTDDAFFADATFFTAAFAATAFDFATAAATTFFTFFDAAATTAAATAATDDFFFTFAD31427 1.1458 AB 0.504ALL FOR AADC 840LEHI, UT  84043-7501505UT BCDO SPECIALTY DENTAL SERVI3401 N CENTER ST STE 250EL PASO, TX  79998-1572PO BOX 981572Electronic Service RequestedC55304A544009110AC989290881CP627402800G    ENV 31427           3 OF 5 P627402800G260107       \\x0cIf you have anyquestions contact:(800) 541-7846WWW.GUARDIANANYTIME.COMProvider:Date:DAVID HADLEY05/25/23EL PASO TX 79998-1572PO BOX 981572Payee:Check No.:Payment Amount:UT BCDO SPECIALTY DENTAL SER188092989$134.40Remarks for claim # 36162F14400:213-897-8921 or 1-800-927-HELP(4357) or  TDD: 1-800-482-4TDD(4833)California Department of InsuranceClaims Services Bureau300 S. Spring Street, South TowerLos Angeles, CA 90013http://www.Insurance.ca.gov/01-consumers/Guardian has established a process for provider dispute resolution. Please contact ourMember Services Department at (800) 541-7846 for more information.Benefits are based on the use of a Preferred Contracted Dentist.Comments:Current Dental Terminology © 2021 American Dental Association.  All rights reserved.Log on to www.GuardianAnytime.com  for instant access to clinical policy guidelines and benefits information for Guardian members. Verify eligibility, viewbenefits, check claim status and more!P627402800G    ENV 31427           4 OF 5 P627402800G260107       \\x0c\""
      ]
     },
     "execution_count": 4,
     "metadata": {},
     "output_type": "execute_result"
    }
   ],
   "source": [
    "text"
   ]
  }
 ],
 "metadata": {
  "kernelspec": {
   "display_name": "Python 3 (ipykernel)",
   "language": "python",
   "name": "python3"
  },
  "language_info": {
   "codemirror_mode": {
    "name": "ipython",
    "version": 3
   },
   "file_extension": ".py",
   "mimetype": "text/x-python",
   "name": "python",
   "nbconvert_exporter": "python",
   "pygments_lexer": "ipython3",
   "version": "3.10.5"
  }
 },
 "nbformat": 4,
 "nbformat_minor": 5
}
