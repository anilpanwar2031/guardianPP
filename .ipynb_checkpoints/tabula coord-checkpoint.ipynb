{
 "cells": [
  {
   "cell_type": "code",
   "execution_count": 1,
   "id": "791539cb",
   "metadata": {},
   "outputs": [],
   "source": [
    "from tabula import read_pdf\n",
    "from tabulate import tabulate"
   ]
  },
  {
   "cell_type": "code",
   "execution_count": 2,
   "id": "5fc485b4",
   "metadata": {},
   "outputs": [],
   "source": [
    "file_path = 'guardian1.pdf'"
   ]
  },
  {
   "cell_type": "code",
   "execution_count": 3,
   "id": "5808c1f1",
   "metadata": {},
   "outputs": [],
   "source": [
    "# table = read_pdf(file_path,pages=page,area=[tbl_area_blue], pandas_options=ath_headers,guess=False)\n"
   ]
  },
  {
   "cell_type": "code",
   "execution_count": 4,
   "id": "853420a1",
   "metadata": {},
   "outputs": [],
   "source": [
    "# tab = get_textbox_coords(pdf_path,page,keyword=\"\")\n",
    "# tab"
   ]
  },
  {
   "cell_type": "code",
   "execution_count": 7,
   "id": "b7d2802b",
   "metadata": {},
   "outputs": [
    {
     "ename": "ModuleNotFoundError",
     "evalue": "No module named 'coc'",
     "output_type": "error",
     "traceback": [
      "\u001b[1;31m---------------------------------------------------------------------------\u001b[0m",
      "\u001b[1;31mModuleNotFoundError\u001b[0m                       Traceback (most recent call last)",
      "Cell \u001b[1;32mIn[7], line 1\u001b[0m\n\u001b[1;32m----> 1\u001b[0m \u001b[38;5;28;01mfrom\u001b[39;00m \u001b[38;5;21;01mcoc\u001b[39;00m\u001b[38;5;21;01m.\u001b[39;00m\u001b[38;5;21;01mmodules\u001b[39;00m\u001b[38;5;21;01m.\u001b[39;00m\u001b[38;5;21;01mpdfFile\u001b[39;00m \u001b[38;5;28;01mimport\u001b[39;00m get_textbox_coords,get_page_dims \n\u001b[0;32m      2\u001b[0m \u001b[38;5;28;01mfrom\u001b[39;00m \u001b[38;5;21;01mtabula\u001b[39;00m \u001b[38;5;28;01mimport\u001b[39;00m read_pdf \n\u001b[0;32m      4\u001b[0m col_cos_name\u001b[38;5;241m=\u001b[39mget_textbox_coords(file_path,page,keyword\u001b[38;5;241m=\u001b[39m\u001b[38;5;124m\"\u001b[39m\u001b[38;5;124mName\u001b[39m\u001b[38;5;124m\"\u001b[39m) \n",
      "\u001b[1;31mModuleNotFoundError\u001b[0m: No module named 'coc'"
     ]
    }
   ],
   "source": [
    "from coc.modules.pdfFile import get_textbox_coords,get_page_dims \n",
    "from tabula import read_pdf \n",
    "\n",
    "col_cos_name=get_textbox_coords(file_path,page,keyword=\"Name\") \n",
    "col_cos_totals=get_textbox_coords(file_path,page,keyword=\"Totals\") \n",
    "pg_dims=get_page_dims(file_path,page) \n",
    "tbl_top=pg_dims['height']-col_cos_name[0][3] \n",
    "tbl_bottom=pg_dims['height']-col_cos_totals[0][1] \n",
    "tbl_right=pg_dims['width'] \n",
    "tbl_area=[tbl_top,0,tbl_bottom,tbl_right] \n",
    "ath_white_df=read_pdf(pdf_path,pages=page,area=[tbl_area_white], pandas_options={\"dtype\":str},guess=False,stream=True)"
   ]
  },
  {
   "cell_type": "code",
   "execution_count": null,
   "id": "12f78e59",
   "metadata": {},
   "outputs": [],
   "source": []
  }
 ],
 "metadata": {
  "kernelspec": {
   "display_name": "Python 3 (ipykernel)",
   "language": "python",
   "name": "python3"
  },
  "language_info": {
   "codemirror_mode": {
    "name": "ipython",
    "version": 3
   },
   "file_extension": ".py",
   "mimetype": "text/x-python",
   "name": "python",
   "nbconvert_exporter": "python",
   "pygments_lexer": "ipython3",
   "version": "3.10.5"
  }
 },
 "nbformat": 4,
 "nbformat_minor": 5
}
