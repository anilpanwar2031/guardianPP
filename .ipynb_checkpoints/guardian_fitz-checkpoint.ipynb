{
 "cells": [
  {
   "cell_type": "code",
   "execution_count": 1,
   "id": "4057208f",
   "metadata": {},
   "outputs": [],
   "source": [
    "import fitz\n",
    "\n",
    "file_path = 'beam.pdf' "
   ]
  },
  {
   "cell_type": "code",
   "execution_count": null,
   "id": "c03236b3",
   "metadata": {},
   "outputs": [],
   "source": [
    "def description(file_path):\n",
    "    with fitz.open(file_path) as pdf:\n",
    "    texts = ''\n",
    "    for page_number in range(pdf.page_count):\n",
    "        page = pdf.load_page(page_number)\n",
    "        text = page.get_text()\n",
    "        texts = texts+' '+text\n",
    "    \n",
    "    \n",
    "    \n",
    "    \n",
    "    \n",
    "    \n",
    "    "
   ]
  },
  {
   "cell_type": "code",
   "execution_count": 2,
   "id": "fb0101a9",
   "metadata": {},
   "outputs": [],
   "source": [
    "with fitz.open(file_path) as pdf:\n",
    "    texts = ''\n",
    "    for page_number in range(pdf.page_count):\n",
    "        page = pdf.load_page(page_number)\n",
    "        text = page.get_text()\n",
    "        texts = texts+' '+text"
   ]
  },
  {
   "cell_type": "code",
   "execution_count": 3,
   "id": "b2db64e7",
   "metadata": {},
   "outputs": [
    {
     "data": {
      "text/plain": [
       "'\\nCode\\nDescription\\nCoinsurance Amount\\nBeam\\n2\\nProcedure code is not compatible with tooth number/letter.\\n \\nN39\\n '"
      ]
     },
     "execution_count": 3,
     "metadata": {},
     "output_type": "execute_result"
    }
   ],
   "source": [
    "desc = texts.split('Administered by')[1].split('Services performed')[0].split('Important Notices')[0]\n",
    "desc"
   ]
  },
  {
   "cell_type": "code",
   "execution_count": 4,
   "id": "ec0aacd8",
   "metadata": {},
   "outputs": [
    {
     "name": "stdout",
     "output_type": "stream",
     "text": [
      "{'Description': 'Coinsurance Amount', 'Code': '2'}\n"
     ]
    }
   ],
   "source": [
    "desc_list = []\n",
    "info = {}\n",
    "d = desc.split('Description\\n')[1].split('Beam\\n')[0].replace(\"\\n\",'')\n",
    "code = desc.split('Beam\\n')[1].split('\\n')[0]\n",
    "info['Description'] = d\n",
    "info['Code'] = code\n",
    "desc_list.append(info)\n",
    "print(info)\n"
   ]
  },
  {
   "cell_type": "code",
   "execution_count": 5,
   "id": "a815b286",
   "metadata": {},
   "outputs": [
    {
     "name": "stdout",
     "output_type": "stream",
     "text": [
      "1\n"
     ]
    }
   ],
   "source": [
    "substring = \"\\n \\n\"\n",
    "count = desc.lower().count(substring.lower())\n",
    "\n",
    "print(count)"
   ]
  },
  {
   "cell_type": "code",
   "execution_count": 6,
   "id": "a4daba4c",
   "metadata": {},
   "outputs": [
    {
     "name": "stdout",
     "output_type": "stream",
     "text": [
      "{'Description': 'Procedure code is not compatible with tooth number/letter.', 'Code': 'N39'}\n",
      "\n",
      "\n",
      "[{'Description': 'Coinsurance Amount', 'Code': '2'}, {'Description': 'Procedure code is not compatible with tooth number/letter.', 'Code': 'N39'}]\n"
     ]
    }
   ],
   "source": [
    "dd = desc.split(\"\\n \\n\")\n",
    "\n",
    "try:\n",
    "    for i in range(len(dd)+1):\n",
    "        info = {}\n",
    "        if i==0:\n",
    "            s = ''\n",
    "            detail = dd[i].split('Beam')[1].split('\\n')[2:]\n",
    "            for t in detail:\n",
    "                s = s+' '+t\n",
    "            info['Description'] = s.strip()\n",
    "            info['Code'] = dd[i+1].split('\\n')[0]\n",
    "            desc_list.append(info)\n",
    "            print(info)\n",
    "            print(\"\\n\")\n",
    "\n",
    "        else:\n",
    "            info['Description'] = dd[i].split('\\n')[1]\n",
    "            info['Code'] = dd[i+1].split('\\n')[0]\n",
    "            desc_list.append(info)\n",
    "            print(info)\n",
    "            print(\"\\n\")\n",
    "            \n",
    "except:\n",
    "    pass\n",
    "       \n",
    "print(desc_list)"
   ]
  },
  {
   "cell_type": "code",
   "execution_count": null,
   "id": "c97397fd",
   "metadata": {},
   "outputs": [],
   "source": []
  }
 ],
 "metadata": {
  "kernelspec": {
   "display_name": "Python 3 (ipykernel)",
   "language": "python",
   "name": "python3"
  },
  "language_info": {
   "codemirror_mode": {
    "name": "ipython",
    "version": 3
   },
   "file_extension": ".py",
   "mimetype": "text/x-python",
   "name": "python",
   "nbconvert_exporter": "python",
   "pygments_lexer": "ipython3",
   "version": "3.10.5"
  }
 },
 "nbformat": 4,
 "nbformat_minor": 5
}
