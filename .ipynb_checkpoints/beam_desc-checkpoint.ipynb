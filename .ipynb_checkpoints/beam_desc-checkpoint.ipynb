{
 "cells": [
  {
   "cell_type": "code",
   "execution_count": 1,
   "id": "de17a8b0",
   "metadata": {},
   "outputs": [],
   "source": [
    "import fitz\n",
    "\n",
    "file_path = 'beam1.pdf' "
   ]
  },
  {
   "cell_type": "code",
   "execution_count": 2,
   "id": "ff55089a",
   "metadata": {},
   "outputs": [],
   "source": [
    "def description(file_path):\n",
    "    with fitz.open(file_path) as pdf:\n",
    "        texts = ''\n",
    "        for page_number in range(pdf.page_count):\n",
    "            page = pdf.load_page(page_number)\n",
    "            text = page.get_text()\n",
    "            texts = texts+' '+text\n",
    "              \n",
    "    desc = texts.split('Administered by')[1].split('Services performed')[0].split('Important Notices')[0]\n",
    "    desc_list = []\n",
    "    info = {}\n",
    "    d = desc.split('Description\\n')[1].split('Beam\\n')[0].replace(\"\\n\",'')\n",
    "    try:\n",
    "        code = desc.split('Beam\\n')[1].split('\\n')[0]\n",
    "    except:\n",
    "        return 0\n",
    "    info['Description'] = d\n",
    "    info['Code'] = code\n",
    "    desc_list.append(info)\n",
    "    substring = \"\\n \\n\"\n",
    "    count = desc.lower().count(substring.lower())\n",
    "    dd = desc.split(\"\\n \\n\")\n",
    "    try:\n",
    "        for i in range(len(dd)+1):\n",
    "            info = {}\n",
    "            if i==0:\n",
    "                s = ''\n",
    "                detail = dd[i].split('Beam')[1].split('\\n')[2:]\n",
    "                for t in detail:\n",
    "                    s = s+' '+t\n",
    "                info['Description'] = s.strip()\n",
    "                info['Code'] = dd[i+1].split('\\n')[0]\n",
    "                desc_list.append(info)\n",
    "            else:\n",
    "                info['Description'] = dd[i].split('\\n')[1]\n",
    "                info['Code'] = dd[i+1].split('\\n')[0]\n",
    "                desc_list.append(info)        \n",
    "    except:\n",
    "        pass\n",
    "\n",
    "    print(desc_list)"
   ]
  },
  {
   "cell_type": "code",
   "execution_count": 3,
   "id": "e7963e6f",
   "metadata": {},
   "outputs": [
    {
     "name": "stdout",
     "output_type": "stream",
     "text": [
      "[{'Description': 'Coinsurance Amount', 'Code': '2'}, {'Description': 'Charge exceeds fee schedule/maximum allowable or contracted/legislated fee arrangement. Usage: This  adjustment amount cannot equal the total service or claim charge amount; and must not duplicate  provider adjustment amounts (payments and contractual reductions) that have resulted from prior  payer(s) adjudication. (Use only with Group Codes PR or CO depending upon liability)', 'Code': '45'}, {'Description': 'Exceeds number/frequency approved/allowed within time period.', 'Code': 'N640'}]\n"
     ]
    }
   ],
   "source": [
    "description(file_path)"
   ]
  }
 ],
 "metadata": {
  "kernelspec": {
   "display_name": "Python 3 (ipykernel)",
   "language": "python",
   "name": "python3"
  },
  "language_info": {
   "codemirror_mode": {
    "name": "ipython",
    "version": 3
   },
   "file_extension": ".py",
   "mimetype": "text/x-python",
   "name": "python",
   "nbconvert_exporter": "python",
   "pygments_lexer": "ipython3",
   "version": "3.10.5"
  }
 },
 "nbformat": 4,
 "nbformat_minor": 5
}
