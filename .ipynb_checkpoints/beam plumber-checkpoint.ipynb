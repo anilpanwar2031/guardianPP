{
 "cells": [
  {
   "cell_type": "code",
   "execution_count": 1,
   "id": "06815937",
   "metadata": {},
   "outputs": [],
   "source": [
    "import pdfplumber\n",
    "\n",
    "file_path = 'beam.pdf'     "
   ]
  },
  {
   "cell_type": "code",
   "execution_count": 3,
   "id": "629e2acd",
   "metadata": {},
   "outputs": [
    {
     "name": "stdout",
     "output_type": "stream",
     "text": [
      "[['Claim Number: 2023-04-27-00500-09 Patient Account No.: 8586331617\\nPatient Name: Yang, Seo Ah Rendering Provider: Darin R Knudson\\nPlanholder: Yang, Seung Hee Planholder Relationship: Dependent', None, None, None, None, None, None, None, None, None, None, None, None, None], ['Line\\nNo.', 'ADA Codes/Descriptions', 'Tooth\\nNo.', 'Date of Service', 'Submitted\\nCharge', 'Discounts and\\nAdjustments', 'Allowed\\nCharge', 'Copay', 'Co-Ins', 'Deductible', 'Ineligible', 'Patient\\nTotal', 'Benefit', 'Remark\\nCodes'], ['1', 'D0120/', '', '04/27/23', '39.00', '0.00', '20.00', '0.00', '29.00', '0.00', '0.00', '29.00', '10.00', '2'], ['2', 'D0220/', '9', '04/27/23', '22.00', '0.00', '11.00', '0.00', '16.50', '0.00', '0.00', '16.50', '5.50', '2'], ['3', 'D0230/', '24', '04/27/23', '19.00', '0.00', '8.00', '0.00', '15.00', '0.00', '0.00', '15.00', '4.00', '2'], ['4', 'D0272/', '', '04/27/23', '26.00', '0.00', '18.00', '0.00', '17.00', '0.00', '0.00', '17.00', '9.00', '2'], ['5', 'D1120/', '', '04/27/23', '52.00', '0.00', '29.00', '0.00', '37.50', '0.00', '0.00', '37.50', '14.50', '2'], ['6', 'D1206/', '', '04/27/23', '36.00', '0.00', '19.00', '0.00', '26.50', '0.00', '0.00', '26.50', '9.50', '2'], ['7', 'D1351/', '12', '04/27/23', '37.00', '0.00', '0.00', '0.00', '37.00', '0.00', '0.00', '37.00', '0.00', '2 N39'], [None, None, None, None, '231.00', '0.00', '105.00', '0.00', '178.50', '0.00', '0.00', '178.50', '52.50', '']]\n",
      "[['Provider Explanation of Benefits Submitted Paid By Adjustments Patient Benefit\\nStatement Summary Charge Other Responsibilit Amount', None], ['Beam', '231.00 0.00 0.00 178.50 52.50'], ['Statement Totals', '231.00 0.00 0.00 178.50 52.50']]\n",
      "[['Document Total'], ['Net Payment Amount: $52.50\\nPayment Adjustments: $0.00\\nTotal Payment: $52.50']]\n",
      "[['Administered by', 'Code', 'Description']]\n",
      "[['294982236'], ['05/18/2023']]\n",
      "[['AMOUNT'], ['**********$52.50']]\n"
     ]
    }
   ],
   "source": [
    "with pdfplumber.open(file_path) as pdf:\n",
    "  \n",
    "    for page in pdf.pages:\n",
    "        tables = page.extract_tables()\n",
    "        t = 1\n",
    "        for table in tables:\n",
    "            print(table)\n"
   ]
  },
  {
   "cell_type": "code",
   "execution_count": null,
   "id": "507d2500",
   "metadata": {},
   "outputs": [],
   "source": []
  }
 ],
 "metadata": {
  "kernelspec": {
   "display_name": "Python 3 (ipykernel)",
   "language": "python",
   "name": "python3"
  },
  "language_info": {
   "codemirror_mode": {
    "name": "ipython",
    "version": 3
   },
   "file_extension": ".py",
   "mimetype": "text/x-python",
   "name": "python",
   "nbconvert_exporter": "python",
   "pygments_lexer": "ipython3",
   "version": "3.10.5"
  }
 },
 "nbformat": 4,
 "nbformat_minor": 5
}
