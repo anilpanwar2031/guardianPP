{
 "cells": [
  {
   "cell_type": "code",
   "execution_count": 1,
   "id": "bcd05a07",
   "metadata": {},
   "outputs": [],
   "source": [
    "import pdfplumber\n",
    "\n",
    "file_path = 'guardian.pdf'      "
   ]
  },
  {
   "cell_type": "code",
   "execution_count": 2,
   "id": "78c24db8",
   "metadata": {},
   "outputs": [
    {
     "name": "stdout",
     "output_type": "stream",
     "text": [
      "\n",
      "\n",
      "\n",
      "\n"
     ]
    }
   ],
   "source": [
    "with pdfplumber.open(file_path) as pdf:\n",
    "  \n",
    "    for page in pdf.pages:\n",
    "        tables = page.extract_tables()\n",
    "        t = 1\n",
    "        for table in tables:\n",
    "            print(\"\\n\")\n",
    "#             print(\"Table\", t)\n",
    "            t += 1\n",
    "            r = 1\n",
    "#             print(len(table))\n",
    "#             print(table[2])    \n",
    "            for row in table[:-1]:\n",
    "#                 print(\"Row\", r)\n",
    "#                 print(row)\n",
    "                \n",
    "                r +=1\n",
    "                if 'Claim Number' in row[0]:\n",
    "                    text = row[0]\n",
    "                    \n",
    "                if 'Line' in row[0]:\n",
    "                    header = row\n",
    "#                     print(\"Header\", header)\n",
    "                "
   ]
  },
  {
   "cell_type": "code",
   "execution_count": 3,
   "id": "3b02bfb7",
   "metadata": {},
   "outputs": [
    {
     "data": {
      "text/plain": [
       "'Claim Number: 32883F15100 Patient Account No.:121148666 Plan Number:00518516\\nPatient Name: TREYTON ROPER Employee Name: BLAKE ROPER Relationship: SON\\nPlanholder: ONBOARDIQ, INC.'"
      ]
     },
     "execution_count": 3,
     "metadata": {},
     "output_type": "execute_result"
    }
   ],
   "source": [
    "text"
   ]
  },
  {
   "cell_type": "code",
   "execution_count": 4,
   "id": "1a1f7b9d",
   "metadata": {},
   "outputs": [],
   "source": [
    "# text = 'Claim Number: 18472E05500 Patient Account No.:15320 Plan Number:00580287 Patient Name: HARPER L NEWTON Employee Name: MICHELLE N BERMAN Relationship: DAUGHTER Planholder: GDH CONSULTING, INC.'"
   ]
  },
  {
   "cell_type": "code",
   "execution_count": 5,
   "id": "709887c0",
   "metadata": {},
   "outputs": [
    {
     "name": "stdout",
     "output_type": "stream",
     "text": [
      "32883F15100\n",
      "121148666\n",
      "00518516\n",
      "Patient\n",
      "TREYTON ROPER \n",
      "BLAKE ROPER \n",
      "SON\n",
      "\n",
      "ONBOARDIQ, INC.\n"
     ]
    }
   ],
   "source": [
    "claimnumber = text.split('Claim Number: ')[1].split(' ')[0]\n",
    "patientaccountno = text.split('Patient Account No.:')[1].split(' ')[0]\n",
    "plannumber = text.split('Plan Number:')[1].split(' ')[0]\n",
    "patientname = text.split('Patient Name: ')[1].split('Employee Name')[0]\n",
    "employeename = text.split('Employee Name: ')[1].split('Relationship')[0]\n",
    "relationship = text.split('Relationship: ')[1].split('Planholder:')[0]\n",
    "planholder = text.split('Planholder: ')[1]\n",
    "print(claimnumber)\n",
    "print(patientaccountno)\n",
    "print(plannumber)\n",
    "print(patientname)\n",
    "print(employeename)\n",
    "print(relationship)\n",
    "print(planholder)"
   ]
  },
  {
   "cell_type": "code",
   "execution_count": 6,
   "id": "1af8fce0",
   "metadata": {},
   "outputs": [],
   "source": [
    "header = ['Line\\nNo.', 'Submitted\\nADA Codes/Description', 'Alt\\nCode', 'Tooth\\nNo.', 'Date of\\nService', 'Submitted\\nCharge', 'Considered\\nCharge', 'Covered\\nCharge', 'Deductible\\nAmount', 'Coverage\\nPercent', 'Benefit\\nAmount']"
   ]
  },
  {
   "cell_type": "code",
   "execution_count": 7,
   "id": "dd2a8beb",
   "metadata": {},
   "outputs": [
    {
     "data": {
      "text/plain": [
       "['LineNo',\n",
       " 'SubmittedADACodesDescription',\n",
       " 'AltCode',\n",
       " 'ToothNo',\n",
       " 'DateOfService',\n",
       " 'SubmittedCharge',\n",
       " 'ConsideredCharge',\n",
       " 'CoveredCharge',\n",
       " 'DeductibleAmount',\n",
       " 'CoveragePercent',\n",
       " 'BenefitAmount']"
      ]
     },
     "execution_count": 7,
     "metadata": {},
     "output_type": "execute_result"
    }
   ],
   "source": [
    "head = []\n",
    "for h in header:\n",
    "    if 'Line' in h:\n",
    "        head.append(\"LineNo\")\n",
    "    if 'Submitted\\nADA' in h:\n",
    "        head.append(\"SubmittedADACodesDescription\")\n",
    "    if 'Alt' in h:\n",
    "        head.append(\"AltCode\")\n",
    "    if 'Tooth' in h:\n",
    "        head.append(\"ToothNo\")\n",
    "    if 'Date of' in h:\n",
    "        head.append(\"DateOfService\")\n",
    "    if 'Submitted\\nCharge' in h:\n",
    "        head.append(\"SubmittedCharge\")\n",
    "    if 'Considered' in h:\n",
    "        head.append(\"ConsideredCharge\")\n",
    "    if 'Covered\\nCharge' in h:\n",
    "        head.append(\"CoveredCharge\")\n",
    "    if 'Deductible' in h:\n",
    "        head.append(\"DeductibleAmount\")\n",
    "    if 'Coverage\\nPercent' in h:\n",
    "        head.append(\"CoveragePercent\")\n",
    "    if 'Benefit\\nAmount' in h:\n",
    "        head.append(\"BenefitAmount\")\n",
    "head      \n",
    "        \n",
    "        "
   ]
  },
  {
   "cell_type": "code",
   "execution_count": 8,
   "id": "84b31a9c",
   "metadata": {},
   "outputs": [
    {
     "name": "stderr",
     "output_type": "stream",
     "text": [
      "Got stderr: Jul 13, 2023 4:20:12 PM org.apache.pdfbox.pdmodel.font.PDSimpleFont readEncoding\r\n",
      "WARNING: Unknown encoding: BuiltIn\r\n",
      "Jul 13, 2023 4:20:12 PM org.apache.pdfbox.pdmodel.font.PDSimpleFont readEncoding\r\n",
      "WARNING: Unknown encoding: BuiltIn\r\n",
      "Jul 13, 2023 4:20:12 PM org.apache.pdfbox.pdmodel.font.PDSimpleFont readEncoding\r\n",
      "WARNING: Unknown encoding: BuiltIn\r\n",
      "Jul 13, 2023 4:20:12 PM org.apache.pdfbox.pdmodel.font.PDSimpleFont readEncoding\r\n",
      "WARNING: Unknown encoding: BuiltIn\r\n",
      "Jul 13, 2023 4:20:12 PM org.apache.pdfbox.pdmodel.font.PDSimpleFont readEncoding\r\n",
      "WARNING: Unknown encoding: BuiltIn\r\n",
      "Jul 13, 2023 4:20:12 PM org.apache.pdfbox.pdmodel.font.PDSimpleFont readEncoding\r\n",
      "WARNING: Unknown encoding: BuiltIn\r\n",
      "Jul 13, 2023 4:20:12 PM org.apache.pdfbox.pdmodel.font.PDSimpleFont readEncoding\r\n",
      "WARNING: Unknown encoding: BuiltIn\r\n",
      "\n"
     ]
    }
   ],
   "source": [
    "import tabula\n",
    "import pandas as pd\n",
    "tabula_dfs = tabula.read_pdf(file_path,guess=False,pages=1,stream=True,encoding=\"utf-8\",area=(141, 43, 176, 217),multiple_tables=True)"
   ]
  },
  {
   "cell_type": "code",
   "execution_count": 9,
   "id": "489d20a8",
   "metadata": {},
   "outputs": [
    {
     "data": {
      "text/html": [
       "<div>\n",
       "<style scoped>\n",
       "    .dataframe tbody tr th:only-of-type {\n",
       "        vertical-align: middle;\n",
       "    }\n",
       "\n",
       "    .dataframe tbody tr th {\n",
       "        vertical-align: top;\n",
       "    }\n",
       "\n",
       "    .dataframe thead th {\n",
       "        text-align: right;\n",
       "    }\n",
       "</style>\n",
       "<table border=\"1\" class=\"dataframe\">\n",
       "  <thead>\n",
       "    <tr style=\"text-align: right;\">\n",
       "      <th></th>\n",
       "      <th>UT BCDO SPECIALTY DENTAL SERVI</th>\n",
       "    </tr>\n",
       "  </thead>\n",
       "  <tbody>\n",
       "    <tr>\n",
       "      <th>0</th>\n",
       "      <td>3401 N CENTER ST STE 250</td>\n",
       "    </tr>\n",
       "    <tr>\n",
       "      <th>1</th>\n",
       "      <td>LEHI, UT  84043-7501</td>\n",
       "    </tr>\n",
       "  </tbody>\n",
       "</table>\n",
       "</div>"
      ],
      "text/plain": [
       "  UT BCDO SPECIALTY DENTAL SERVI\n",
       "0       3401 N CENTER ST STE 250\n",
       "1           LEHI, UT  84043-7501"
      ]
     },
     "execution_count": 9,
     "metadata": {},
     "output_type": "execute_result"
    }
   ],
   "source": [
    "tabula_dfs[0]"
   ]
  },
  {
   "cell_type": "code",
   "execution_count": 10,
   "id": "8cb5fec3",
   "metadata": {},
   "outputs": [],
   "source": [
    "def process_tabula_address(tabula_df: pd.DataFrame) -> str:\n",
    "    col_name: str = tabula_df.columns[0]\n",
    "    item: str = f\"{col_name} {' '.join(tabula_df[col_name].to_list())}\"\n",
    "    return item"
   ]
  },
  {
   "cell_type": "code",
   "execution_count": 11,
   "id": "ad0967e8",
   "metadata": {},
   "outputs": [],
   "source": [
    "payee_address = process_tabula_address(tabula_dfs[0])"
   ]
  },
  {
   "cell_type": "code",
   "execution_count": 12,
   "id": "db677a37",
   "metadata": {},
   "outputs": [],
   "source": [
    "from Utilities.pdf_utils  import *\n",
    "def extract_address_details(address_text):\n",
    "    try:\n",
    "        address_list = usaddress.tag(address_text)[0]\n",
    "    except usaddress.RepeatedLabelError as e:\n",
    "            parsed_address = e.parsed_string\n",
    "            print('parsed address is for payor is----------', parsed_address )\n",
    "            address_list = get_address_list_when_exception(parsed_address)\n",
    "\n",
    "\n",
    "    return {\n",
    "        'Item': address_text,\n",
    "        'ItemName': address_list.get('Recipient', ''),\n",
    "        'AddressElements': get_address(address_text, address_list),\n",
    "        'PlaceName': address_list.get('PlaceName', ''),\n",
    "        'StateName': address_list.get('StateName', ''),\n",
    "        'ZipCode': address_list.get('ZipCode', '')\n",
    "    }"
   ]
  },
  {
   "cell_type": "code",
   "execution_count": 13,
   "id": "23d83f85",
   "metadata": {},
   "outputs": [],
   "source": [
    "payee_add_details = extract_address_details(payee_address)"
   ]
  },
  {
   "cell_type": "code",
   "execution_count": 14,
   "id": "7179a627",
   "metadata": {},
   "outputs": [
    {
     "data": {
      "text/plain": [
       "{'Item': 'UT BCDO SPECIALTY DENTAL SERVI 3401 N CENTER ST STE 250 LEHI, UT  84043-7501',\n",
       " 'ItemName': 'UT BCDO SPECIALTY DENTAL SERVI',\n",
       " 'AddressElements': '3401 N CENTER ST STE 250',\n",
       " 'PlaceName': 'LEHI',\n",
       " 'StateName': 'UT',\n",
       " 'ZipCode': '84043-7501'}"
      ]
     },
     "execution_count": 14,
     "metadata": {},
     "output_type": "execute_result"
    }
   ],
   "source": [
    "payee_add_details"
   ]
  },
  {
   "cell_type": "code",
   "execution_count": 15,
   "id": "ff349be3",
   "metadata": {},
   "outputs": [
    {
     "name": "stderr",
     "output_type": "stream",
     "text": [
      "Got stderr: Jul 13, 2023 4:20:13 PM org.apache.pdfbox.pdmodel.font.PDSimpleFont readEncoding\r\n",
      "WARNING: Unknown encoding: BuiltIn\r\n",
      "Jul 13, 2023 4:20:13 PM org.apache.pdfbox.pdmodel.font.PDSimpleFont readEncoding\r\n",
      "WARNING: Unknown encoding: BuiltIn\r\n",
      "Jul 13, 2023 4:20:13 PM org.apache.pdfbox.pdmodel.font.PDSimpleFont readEncoding\r\n",
      "WARNING: Unknown encoding: BuiltIn\r\n",
      "Jul 13, 2023 4:20:13 PM org.apache.pdfbox.pdmodel.font.PDSimpleFont readEncoding\r\n",
      "WARNING: Unknown encoding: BuiltIn\r\n",
      "Jul 13, 2023 4:20:13 PM org.apache.pdfbox.pdmodel.font.PDSimpleFont readEncoding\r\n",
      "WARNING: Unknown encoding: BuiltIn\r\n",
      "Jul 13, 2023 4:20:13 PM org.apache.pdfbox.pdmodel.font.PDSimpleFont readEncoding\r\n",
      "WARNING: Unknown encoding: BuiltIn\r\n",
      "Jul 13, 2023 4:20:13 PM org.apache.pdfbox.pdmodel.font.PDSimpleFont readEncoding\r\n",
      "WARNING: Unknown encoding: BuiltIn\r\n",
      "\n"
     ]
    }
   ],
   "source": [
    "tabula_dfs = tabula.read_pdf(file_path,guess=False,pages=1,stream=True,encoding=\"utf-8\",area=(25, 90, 53, 213),multiple_tables=True)"
   ]
  },
  {
   "cell_type": "code",
   "execution_count": 16,
   "id": "b60966f8",
   "metadata": {},
   "outputs": [],
   "source": [
    "payer_address = process_tabula_address(tabula_dfs[0])"
   ]
  },
  {
   "cell_type": "code",
   "execution_count": 17,
   "id": "40a0789b",
   "metadata": {},
   "outputs": [
    {
     "data": {
      "text/plain": [
       "'PO BOX 981572 EL PASO, TX  79998-1572'"
      ]
     },
     "execution_count": 17,
     "metadata": {},
     "output_type": "execute_result"
    }
   ],
   "source": [
    "payer_address"
   ]
  },
  {
   "cell_type": "code",
   "execution_count": 18,
   "id": "700f2298",
   "metadata": {},
   "outputs": [],
   "source": [
    "payer_add_details = extract_address_details(payer_address)"
   ]
  },
  {
   "cell_type": "code",
   "execution_count": 19,
   "id": "58c46e85",
   "metadata": {},
   "outputs": [
    {
     "data": {
      "text/plain": [
       "{'Item': 'PO BOX 981572 EL PASO, TX  79998-1572',\n",
       " 'ItemName': '',\n",
       " 'AddressElements': 'PO BOX 981572',\n",
       " 'PlaceName': 'EL PASO',\n",
       " 'StateName': 'TX',\n",
       " 'ZipCode': '79998-1572'}"
      ]
     },
     "execution_count": 19,
     "metadata": {},
     "output_type": "execute_result"
    }
   ],
   "source": [
    "payer_add_details"
   ]
  },
  {
   "cell_type": "code",
   "execution_count": 20,
   "id": "37893c50",
   "metadata": {},
   "outputs": [
    {
     "name": "stderr",
     "output_type": "stream",
     "text": [
      "Got stderr: Jul 13, 2023 4:20:14 PM org.apache.pdfbox.pdmodel.font.PDSimpleFont readEncoding\r\n",
      "WARNING: Unknown encoding: BuiltIn\r\n",
      "Jul 13, 2023 4:20:14 PM org.apache.pdfbox.pdmodel.font.PDSimpleFont readEncoding\r\n",
      "WARNING: Unknown encoding: BuiltIn\r\n",
      "Jul 13, 2023 4:20:14 PM org.apache.pdfbox.pdmodel.font.PDSimpleFont readEncoding\r\n",
      "WARNING: Unknown encoding: BuiltIn\r\n",
      "Jul 13, 2023 4:20:14 PM org.apache.pdfbox.pdmodel.font.PDSimpleFont readEncoding\r\n",
      "WARNING: Unknown encoding: BuiltIn\r\n",
      "Jul 13, 2023 4:20:14 PM org.apache.pdfbox.pdmodel.font.PDSimpleFont readEncoding\r\n",
      "WARNING: Unknown encoding: BuiltIn\r\n",
      "Jul 13, 2023 4:20:14 PM org.apache.pdfbox.pdmodel.font.PDSimpleFont readEncoding\r\n",
      "WARNING: Unknown encoding: BuiltIn\r\n",
      "Jul 13, 2023 4:20:14 PM org.apache.pdfbox.pdmodel.font.PDSimpleFont readEncoding\r\n",
      "WARNING: Unknown encoding: BuiltIn\r\n",
      "\n"
     ]
    }
   ],
   "source": [
    "other_info = tabula.read_pdf(file_path,guess=False,pages=1,stream=True,encoding=\"utf-8\",area=(97, 288, 152, 570),multiple_tables=True)"
   ]
  },
  {
   "cell_type": "code",
   "execution_count": 21,
   "id": "6572556e",
   "metadata": {},
   "outputs": [],
   "source": [
    "df = other_info[0]"
   ]
  },
  {
   "cell_type": "code",
   "execution_count": 22,
   "id": "9d89901a",
   "metadata": {},
   "outputs": [],
   "source": [
    "df = df.T.reset_index()\n",
    "df.columns = df.iloc[0]\n",
    "df = df[1:].reset_index(drop=True)"
   ]
  },
  {
   "cell_type": "code",
   "execution_count": 23,
   "id": "937b2347",
   "metadata": {},
   "outputs": [],
   "source": [
    "dit = df.to_dict(orient='records')"
   ]
  },
  {
   "cell_type": "code",
   "execution_count": 24,
   "id": "8b29c16c",
   "metadata": {},
   "outputs": [],
   "source": [
    "dit = dit[0]"
   ]
  },
  {
   "cell_type": "code",
   "execution_count": 25,
   "id": "7dff41ac",
   "metadata": {},
   "outputs": [
    {
     "data": {
      "text/plain": [
       "{'Provider:': 'DAVID HADLEY',\n",
       " 'Date:': '05/31/2023',\n",
       " 'Payee:': 'UT BCDO SPECIALTY DENTAL SER',\n",
       " 'Check No.:': '188218572',\n",
       " 'Payment Amount:': '$160.00'}"
      ]
     },
     "execution_count": 25,
     "metadata": {},
     "output_type": "execute_result"
    }
   ],
   "source": [
    "dit"
   ]
  },
  {
   "cell_type": "code",
   "execution_count": 26,
   "id": "bf913e1a",
   "metadata": {},
   "outputs": [
    {
     "name": "stderr",
     "output_type": "stream",
     "text": [
      "C:\\Users\\pytho\\AppData\\Roaming\\Python\\Python310\\site-packages\\PyPDF2\\_cmap.py:142: PdfReadWarning: Advanced encoding /BuiltIn not implemented yet\n",
      "  warnings.warn(\n"
     ]
    }
   ],
   "source": [
    "from PyPDF2 import PdfReader\n",
    "texts = ' '\n",
    "with open(file_path, 'rb') as file:\n",
    "    # Create a PdfReader object\n",
    "    pdf = PdfReader(file)\n",
    "\n",
    "    # Extract text from each page\n",
    "    for page in pdf.pages:\n",
    "        text = page.extract_text()\n",
    "        texts = texts + text + ' '\n",
    " "
   ]
  },
  {
   "cell_type": "code",
   "execution_count": 27,
   "id": "d0b124b8",
   "metadata": {},
   "outputs": [
    {
     "data": {
      "text/plain": [
       "\" If you have any\\nquestions contact:(800) 541-7846\\nWWW.GUARDIANANYTIME.COM\\nProvider: DAVID HADLEY\\nDate: 05/31/2023\\nPROVIDER EXPLANATION OF BENEFITS - THIS IS NOT A BILL\\nImportant!  Please examine this statement for accuracy.  Save this statement for tax purposes.GROUP PLAN ADMINISTRATORS\\nPayee:\\nCheck No.:UT BCDO SPECIALTY DENTAL SER\\n188218572\\nPayment Amount: $160.00\\nExpedite cash flow with e-payments. Sign up today!\\nGuardian has contracted with Change Healthcare, a leading provider of \\nrevenue and payment cycle solutions, to deliver Electronic Funds Transfer \\n(EFT) services! Sign-up today by going to www.changehealthcare.com/support\\n/customer-resources/enrollment-services  for more information. Enrollment for \\nthis service is offered to you at no additional cost and is available online or by \\ncalling 1.866.777.0713 and selecting Option 1.\\nSubmitted\\nADA Codes/DescriptionTooth\\nNo.Date of\\nServiceSubmitted\\nChargeCoverage\\nPercentAlt\\nCodeConsidered\\nChargeCovered\\nChargeDeductible\\nAmountBenefit\\nAmountLine \\nNo.Claim Number:\\nPatient Name:32884F15100\\nLANAYA ROPER\\nONBOARDIQ, INC.Patient Account No.:\\nEmployee Name:121148667\\nBLAKE ROPERPlan Number:\\nRelationship: DAUGHTER00518516\\nPlanholder:\\n1 D0120/Periodic Eval 23.00 23.00 05/30/23 23.00 39.00 100% FM\\n2 D0220/Periapical 1st 13.00 13.00 05/30/23 13.00 22.00 100% FM\\n3 D0230/Periapical Add 8.00 8.00 05/30/23 8.00 19.00 100% FM\\n4 D0272/Bitewing - 2 0.00 21.00 05/30/23 0.00 36.00 100% FM\\n5 D1120/Child Cleaning 36.00 36.00 05/30/23 36.00 52.00 100% FM\\n80.00 168.00 101.00 80.00\\n$80.00\\nPAID BY OTHER INSURANCE..... $0.00\\nADJUSTMENTS............................... $0.00\\nTOTAL BENEFIT PAID.................. $ 80.00\\nPATIENT'S RESPONSIBILITY..... $21.00TOTALS\\nTOTAL BENEFIT PAYABLE.........BENEFIT SUMMARY\\n$80.00 HIGHER ALLOWABLE.................. 0.00\\nRemarks for claim # 32884F15100:\\nA DENTALGUARD PARTICIPATING DENTIST HAS BEEN UTILIZED\\n4.  The dental plan covers bitewing radiographic images only once in any 12 consecutive month period,\\nup to a maximum of four films or a set of 7-8 vertical films, in one visit.\\nBenefits are based on the use of a Preferred Contracted Dentist.\\nYou have used     $0.00 of your personal Maximum Rollover Account.   $500.00 remains in your account\\n10 Hudson Yards\\n51-44\\n119CHECK NO: 188218572\\nPAY One Hundred Sixty  Dollars****$160.00AMOUNT\\nTO THE\\nORDER OFUT BCDO SPECIALTY DENTAL SERVI\\nBANK OF AMERICA\\n150 WINDSOR STREET, HARTFORD, CT 06120CHECK DATE: 06/01/23\\nVoid unless presented \\nwithin 180 daysNew York, NY 10001\\nFDADFDATFDDAADTFFTFADFAFTTDAADFFFTATFAFFAAFDAFATDAT ADATTDFDATTFFD31349 0.5738 AB 0.504ALL FOR AADC 840\\nLEHI, UT  84043-7501517 UT BCDO SPECIALTY DENTAL SERVI\\n3401 N CENTER ST STE 250\\nEL PASO, TX  79998-1572PO BOX 981572\\nElectronic Service Requested\\nC63224A544009110AC275812881CP627402800G\\n 020105   \\nENV 31349           1 OF 2 P627402800G        If you have any\\nquestions contact:(800) 541-7846\\nWWW.GUARDIANANYTIME.COM\\nProvider:\\nDate:DAVID HADLEY\\n05/31/2023EL PASO TX 79998-1572PO BOX 981572\\nPayee:\\nCheck No.:\\nPayment Amount:UT BCDO SPECIALTY DENTAL SER\\n188218572\\n$160.00\\nSubmitted\\nADA Codes/DescriptionTooth\\nNo.Date of\\nServiceSubmitted\\nChargeCoverage\\nPercentAlt\\nCodeConsidered\\nChargeCovered\\nChargeDeductible\\nAmountBenefit\\nAmountLine \\nNo.Claim Number:\\nPatient Name:32883F15100\\nTREYTON ROPER\\nONBOARDIQ, INC.Patient Account No.:\\nEmployee Name:121148666\\nBLAKE ROPERPlan Number:\\nRelationship: SON00518516\\nPlanholder:\\n1 D0120/Periodic Eval 23.00 23.00 05/30/23 23.00 39.00 100% FM\\n2 D0220/Periapical 1st 13.00 13.00 05/30/23 13.00 22.00 100% FM\\n3 D0230/Periapical Add 8.00 8.00 05/30/23 8.00 19.00 100% FM\\n4 D1120/Child Cleaning 36.00 36.00 05/30/23 36.00 52.00 100% FM\\n5 D0274/Bitewing - 4 0.00 31.00 05/30/23 0.00 52.00 100% FM\\n80.00 184.00 111.00 80.00\\n$80.00\\nPAID BY OTHER INSURANCE..... $0.00\\nADJUSTMENTS............................... $0.00\\nTOTAL BENEFIT PAID.................. $ 80.00\\nPATIENT'S RESPONSIBILITY..... $31.00TOTALS\\nTOTAL BENEFIT PAYABLE.........BENEFIT SUMMARY\\n$80.00 HIGHER ALLOWABLE.................. 0.00\\nRemarks for claim # 32883F15100:\\nA DENTALGUARD PARTICIPATING DENTIST HAS BEEN UTILIZED\\n5.  The dental plan covers bitewing radiographic images only once in any 12 consecutive month period,\\nup to a maximum of four films or a set of 7-8 vertical films, in one visit.\\nBenefits are based on the use of a Preferred Contracted Dentist.\\nComments:\\nCurrent Dental Terminology  © 2021 American Dental Association.  All rights reserved.\\nLog on to www.GuardianAnytime.com  for instant access to clinical policy guidelines and benefits information for Guardian members. Verify eligibility, view\\nbenefits, check claim status and more!P627402800G\\n    \\nENV 31349           2 OF 2 P627402800G020105        \""
      ]
     },
     "execution_count": 27,
     "metadata": {},
     "output_type": "execute_result"
    }
   ],
   "source": [
    "texts"
   ]
  },
  {
   "cell_type": "code",
   "execution_count": 28,
   "id": "c6b8bc88",
   "metadata": {},
   "outputs": [
    {
     "ename": "IndexError",
     "evalue": "list index out of range",
     "output_type": "error",
     "traceback": [
      "\u001b[1;31m---------------------------------------------------------------------------\u001b[0m",
      "\u001b[1;31mIndexError\u001b[0m                                Traceback (most recent call last)",
      "Cell \u001b[1;32mIn[28], line 4\u001b[0m\n\u001b[0;32m      2\u001b[0m claimnumber \u001b[38;5;241m=\u001b[39m \u001b[38;5;124m'\u001b[39m\u001b[38;5;124m36347F13200\u001b[39m\u001b[38;5;124m'\u001b[39m\n\u001b[0;32m      3\u001b[0m remarks \u001b[38;5;241m=\u001b[39m \u001b[38;5;124m'\u001b[39m\u001b[38;5;124m'\u001b[39m\n\u001b[1;32m----> 4\u001b[0m remarks \u001b[38;5;241m=\u001b[39m \u001b[43mtexts\u001b[49m\u001b[38;5;241;43m.\u001b[39;49m\u001b[43msplit\u001b[49m\u001b[43m(\u001b[49m\u001b[38;5;124;43mf\u001b[39;49m\u001b[38;5;124;43m\"\u001b[39;49m\u001b[38;5;124;43mRemarks for claim # \u001b[39;49m\u001b[38;5;132;43;01m{\u001b[39;49;00m\u001b[43mclaimnumber\u001b[49m\u001b[38;5;132;43;01m}\u001b[39;49;00m\u001b[38;5;124;43m:\u001b[39;49m\u001b[38;5;124;43m\"\u001b[39;49m\u001b[43m)\u001b[49m\u001b[43m[\u001b[49m\u001b[38;5;241;43m1\u001b[39;49m\u001b[43m]\u001b[49m\n\u001b[0;32m      6\u001b[0m \u001b[38;5;28;01mif\u001b[39;00m \u001b[38;5;124m'\u001b[39m\u001b[38;5;124m10 Hudson\u001b[39m\u001b[38;5;124m'\u001b[39m \u001b[38;5;129;01min\u001b[39;00m  remarks:\n\u001b[0;32m      7\u001b[0m     remarks \u001b[38;5;241m=\u001b[39m remarks\u001b[38;5;241m.\u001b[39msplit(\u001b[38;5;124m'\u001b[39m\u001b[38;5;124m10 Hudson\u001b[39m\u001b[38;5;124m'\u001b[39m)[\u001b[38;5;241m0\u001b[39m]\n",
      "\u001b[1;31mIndexError\u001b[0m: list index out of range"
     ]
    }
   ],
   "source": [
    "# claimnumber = '18472E05500'\n",
    "claimnumber = '36347F13200'\n",
    "remarks = ''\n",
    "remarks = texts.split(f\"Remarks for claim # {claimnumber}:\")[1]\n",
    "\n",
    "if '10 Hudson' in  remarks:\n",
    "    remarks = remarks.split('10 Hudson')[0]\n",
    "else:\n",
    "    remarks = remarks.split('Comments:')[0]"
   ]
  },
  {
   "cell_type": "code",
   "execution_count": null,
   "id": "455b1e47",
   "metadata": {},
   "outputs": [],
   "source": [
    "remarks.replace('\\n', ' ').strip()"
   ]
  },
  {
   "cell_type": "code",
   "execution_count": null,
   "id": "13d47fdc",
   "metadata": {},
   "outputs": [],
   "source": [
    "benefit = texts.split(f\"Remarks for claim # {claimnumber}:\")[0]\n",
    "if 'Remarks for claim' in benefit:\n",
    "    benefit = benefit.split('Remarks for claim')[1]\n",
    "benefit"
   ]
  },
  {
   "cell_type": "code",
   "execution_count": null,
   "id": "e53ab8c5",
   "metadata": {},
   "outputs": [],
   "source": [
    "paidbyotherinsu = '$'+ benefit.split('PAID BY OTHER INSURANCE')[1].split('ADJUSTMENTS')[0].replace('\\n','').split('$')[1]\n",
    "paidbyotherinsu"
   ]
  },
  {
   "cell_type": "code",
   "execution_count": null,
   "id": "354e195f",
   "metadata": {},
   "outputs": [],
   "source": [
    "adj = '$'+ benefit.split('ADJUSTMENTS')[1].split('TOTAL BENEFIT PAID')[0].replace('\\n','').split('$')[1]\n",
    "adj"
   ]
  },
  {
   "cell_type": "code",
   "execution_count": null,
   "id": "bbc88c10",
   "metadata": {},
   "outputs": [],
   "source": [
    "totalbenefitpaid = '$'+ benefit.split('TOTAL BENEFIT PAID')[1].split('PATIENT')[0].replace('\\n','').split('$')[1]\n",
    "totalbenefitpaid"
   ]
  },
  {
   "cell_type": "code",
   "execution_count": null,
   "id": "aa8e094b",
   "metadata": {},
   "outputs": [],
   "source": [
    "patientrep = '$'+ benefit.split('PATIENT')[1].split('TOTALS\\nTOTAL BENEFIT')[0].replace('\\n','').split('$')[1].strip()\n",
    "patientrep"
   ]
  },
  {
   "cell_type": "code",
   "execution_count": null,
   "id": "34de40cf",
   "metadata": {},
   "outputs": [],
   "source": [
    "toalbenfitpayable = benefit.split('PAID BY OTHER INSURANCE')[0].split('\\n')[-2].strip()\n",
    "toalbenfitpayable"
   ]
  },
  {
   "cell_type": "code",
   "execution_count": null,
   "id": "0d6b7387",
   "metadata": {},
   "outputs": [],
   "source": [
    "higherallowable = '$'+ benefit.split('BENEFIT SUMMARY')[1].split('HIGHER ALLOWABLE')[0].replace('\\n','').split('$')[1].strip()\n",
    "higherallowable"
   ]
  },
  {
   "cell_type": "code",
   "execution_count": null,
   "id": "3b6f8e29",
   "metadata": {},
   "outputs": [],
   "source": [
    "# Getting master details for other design of pdf\n"
   ]
  },
  {
   "cell_type": "code",
   "execution_count": 36,
   "id": "b658157b",
   "metadata": {},
   "outputs": [],
   "source": [
    "import pdfplumber\n",
    "from PyPDF2 import PdfReader\n",
    "file_path = 'guardian01.pdf'  \n",
    "\n",
    "url = ''"
   ]
  },
  {
   "cell_type": "code",
   "execution_count": 37,
   "id": "60c3acae",
   "metadata": {},
   "outputs": [],
   "source": [
    "def getAllTexts(file_path):\n",
    "    texts = ' '\n",
    "    with open(file_path, 'rb') as file:\n",
    "        # Create a PdfReader object\n",
    "        pdf = PdfReader(file)\n",
    "\n",
    "        for page in pdf.pages:\n",
    "            text = page.extract_text()\n",
    "            texts = texts + text + ' '\n",
    "    return texts"
   ]
  },
  {
   "cell_type": "code",
   "execution_count": 38,
   "id": "b2c5e788",
   "metadata": {},
   "outputs": [],
   "source": [
    "texts = getAllTexts(file_path)"
   ]
  },
  {
   "cell_type": "code",
   "execution_count": 39,
   "id": "8e1806b2",
   "metadata": {},
   "outputs": [
    {
     "data": {
      "text/plain": [
       "' Claim Number: 37856F16600\\nSubmitted\\nADA Codes/DescriptionTooth\\nNo.Date of\\nServiceSubmitted\\nChargeCoverage\\nPercentIf you have any\\nquestions contact:(800) 541-7846\\nWWW.GUARDIANANYTIME.COM\\nEmployee Name: JARED MELLOR\\nPatient Name: KOLSEN MELLOR\\nRelationship: SON\\nPatient Account No.: 121748878\\nPlan Number: 00025210\\nPlanholder: ALARM.COM, INC.\\nProvider: JEFFREY T WELCH, DMD\\nDate: 06/16/23\\nAlt\\nCodeConsidered\\nChargeCovered\\nChargeDeductible\\nAmountBenefit\\nAmountEXPLANATION OF BENEFITS - THIS IS NOT A BILL\\nImportant! Save this statement for tax purposes.\\nLine \\nNo.\\nD2332/Composite 3 Sr 102.00 102.00 06/14/23 91.80 172.00 90% 09 1\\nD2332/Composite 3 Sr 102.00 102.00 06/14/23 91.80 172.00 90% 10 2\\n344.00 204.00 204.00 183.60\\n$183.60\\nPAID BY OTHER INSURANCE..... $0.00\\nADJUSTMENTS............................... $0.00\\nTOTAL BENEFIT PAID.................. $183.60\\nPATIENT\\'S RESPONSIBILITY\\n....................................$20.40TOTALS\\nTOTAL BENEFIT PAYABLE.........BENEFIT SUMMARY\\n$204.00 HIGHER ALLOWABLE.................. 20.40\\nYear to Date Information\\nYou have reached $342.60 of your individual maximum of $1,750.00 for benefit year beginning 01/01/23.\\nRemarks:\\nREIMBURSEMENT HAS BEEN DETERMINED USING A STRATOSE/TDA FEE SCHEDULE\\nYou have used     $0.00 of your personal Maximum Rollover Account.   $350.00 remains in your account\\nPayment Amount:  $183.60  Payee: JEFFREY T WELCH, DMD 854364176\\nComments\\nCurrent Dental Terminology  © 2021 American Dental Association. All rights reserved.\\nLog on to www.GuardianAnytime.com  for instant access to clinical policy guidelines and benefits information for Guardian members. Verify eligibility, view\\nbenefits, check claim status and more!\\nFraud affects all of us!  If you know or suspect that fraud is taking place, call us on our exclusive FRAUD HOTLINE 800-477-5908, Monday through \\nFriday, 9:00 AM to 4:00 PM (Eastern Time), or visit our web site at http://www.GuardianAnytime.com (select \"Contact Us\" and then \"Report Fraud\").\\n \\nEOB-DE1-09ATFTDDFAFTATFDDFFAAFTADDFTAFADTFAAAFDTFDAATDTATTTAA FDFFTAAFDAAAFD21902 0.5738 AB 0.504ALL FOR AADC 840\\n275 W 200 N STE 175385\\nLINDON, UT  84042-5018JEFFREY T WELCH, DMD\\nBURG CHILDRENS DENTISTRY AND O\\nEL PASO, TX  79998-1572PO BOX 981572\\nElectronic Service RequestedP627402800E\\n 190114   \\nENV 21902           1 OF 2 P627402800E        10 Hudson Yards\\n51-44\\n119CHECK NO: 188544665\\nPAY One Hundred Eighty Three & 60/100 Dollars****$183.60AMOUNT\\nTO THE\\nORDER OFJEFFREY T WELCH, DMD\\nBANK OF AMERICA\\n150 WINDSOR STREET, HARTFORD, CT 06120CHECK DATE: 06/16/23\\nVoid unless presented \\nwithin 180 daysNew York, NY 10001\\nATFTDDFAFTATFDDFFAAFTADDFTAFADTFAAAFDTFDAATDTATTTAA FDFFTAAFDAAAFD21902 0.5738 AB 0.504ALL FOR AADC 840\\n275 W 200 N STE 175385\\nLINDON, UT  84042-5018JEFFREY T WELCH, DMD\\nBURG CHILDRENS DENTISTRY AND O\\nEL PASO, TX  79998-1572PO BOX 981572\\nElectronic Service Requested\\nC55304A544009110AC566445881CP627402800V\\n    \\nENV 21902           2 OF 2 P627402800V190114        '"
      ]
     },
     "execution_count": 39,
     "metadata": {},
     "output_type": "execute_result"
    }
   ],
   "source": [
    "texts"
   ]
  },
  {
   "cell_type": "code",
   "execution_count": 40,
   "id": "ad3f8091",
   "metadata": {},
   "outputs": [],
   "source": [
    "def get_patient_dict(text):\n",
    "    patient_dict = {}\n",
    "    claimnumber = text.split('Claim Number: ')[1].split(' ')[0]\n",
    "    patientaccountno = text.split('Patient Account No.:')[1].split(' ')[0]\n",
    "    plannumber = text.split('Plan Number:')[1].split(' ')[0].split('\\n')[0]\n",
    "    patientname = text.split('Patient Name: ')[1].split('Employee Name')[0].strip()\n",
    "    employeename = text.split('Employee Name: ')[1].split('Relationship')[0].strip()\n",
    "    relationship = text.split('Relationship: ')[1].split('Planholder:')[0].replace('\\n', '')\n",
    "    planholder = text.split('Planholder: ')[1]\n",
    "\n",
    "    patient_dict['SubscriberID'] = ''\n",
    "    patient_dict['PatientName'] = patientname\n",
    "    patient_dict['Relationship'] = relationship\n",
    "    patient_dict['ClaimId'] = claimnumber\n",
    "    patient_dict['PatientAccount'] = patientaccountno\n",
    "    patient_dict['PlanNumber'] = plannumber\n",
    "    patient_dict['SubscriberName'] = employeename\n",
    "    patient_dict['PlanType'] = planholder\n",
    "    patient_dict['TransactionFee'] = '$0.00'\n",
    "    patient_dict['url'] = url\n",
    "    patient_dict['PayerClaimID'] = ''\n",
    "    patient_dict['TotalAmount'] = ''\n",
    "    patient_dict['ClaimStatus'] = 'Processed'\n",
    "    patient_dict['RenderingProvider'] = ''\n",
    "    patient_dict['PayerClaimID'] = claimnumber\n",
    "    \n",
    "    return patient_dict\n",
    "    "
   ]
  },
  {
   "cell_type": "code",
   "execution_count": 41,
   "id": "4c71151a",
   "metadata": {},
   "outputs": [],
   "source": [
    "def get_master_details(file_path, texts, url):\n",
    "    with pdfplumber.open(file_path) as pdf:\n",
    "        patients = []\n",
    "        for page in pdf.pages:\n",
    "            tables = page.extract_tables()\n",
    "            t = 1\n",
    "            for table in tables:\n",
    "\n",
    "                t += 1\n",
    "                r = 1\n",
    "                for row in table[:-1]:\n",
    "                    r += 1\n",
    "                    if 'Claim Number' in row[0]:\n",
    "                        patient_dict = {}\n",
    "                        text = row[0]\n",
    "                        patient_dict = get_patient_dict(text)\n",
    "                        \n",
    "#                         payee_address_details = get_basic_details(file_path)\n",
    "#                         notes = getRemarks(texts, claimnumber)\n",
    "#                         patient_dict.update(payee_address_details)\n",
    "                        \n",
    "#                         patient_dict['Notes'] = notes\n",
    "#                         benefit, adjustments = getBenefit(texts, claimnumber)\n",
    "#                         patient_dict.update(benefit)\n",
    "\n",
    "                        patient_dict['PPGridViewId'] = '6'\n",
    "                        patient_dict['PPTransPayorListID'] = \"27e7c674-051c-40ec-b9ef-6c84f3a3dd1d\"\n",
    "                        patient_dict['PayeeTaxID'] = ''\n",
    "                        patient_dict['PayerContact'] = '(800) 541-7846'\n",
    "                        patient_dict['PayerID'] = ''\n",
    "                        patient_dict['PaymentMethodCode'] = ''\n",
    "#                         patient_dict['RecordID'] = str(uuid.uuid4())\n",
    "                        patient_dict['RenderingProviderID'] = ''\n",
    "\n",
    "                        patients.append((patient_dict))\n",
    "                    else:\n",
    "                        print(\"NO CLAIM NUMBER\")\n",
    "\n",
    "    pl = len(patients)\n",
    "    indexlist = []\n",
    "    for i in range(pl):\n",
    "        try:\n",
    "            for j in range(i + 1, pl + 1):\n",
    "                try:\n",
    "                    if patients[i][\"ClaimId\"] == patients[j][\"ClaimId\"]:\n",
    "                        indexlist.append(j)\n",
    "                except:\n",
    "                    pass\n",
    "        except:\n",
    "            pass\n",
    "\n",
    "    indexlist.sort(reverse=True)\n",
    "\n",
    "    for index in indexlist:\n",
    "        del patients[index]\n",
    "\n",
    "    return patients"
   ]
  },
  {
   "cell_type": "code",
   "execution_count": 45,
   "id": "5912c140",
   "metadata": {},
   "outputs": [],
   "source": [
    "import tabula\n",
    "import pandas as pd\n",
    "def get__other_master_details(file_path, texts, url):\n",
    "    master_info = tabula.read_pdf(file_path,guess=False,pages=1,stream=True,encoding=\"utf-8\",area=(110, 289, 222, 524),multiple_tables=True)\n",
    "    print(master_info)"
   ]
  },
  {
   "cell_type": "code",
   "execution_count": 46,
   "id": "8bc80c35",
   "metadata": {},
   "outputs": [
    {
     "name": "stderr",
     "output_type": "stream",
     "text": [
      "Got stderr: Jul 13, 2023 4:22:00 PM org.apache.pdfbox.pdmodel.font.PDSimpleFont readEncoding\r\n",
      "WARNING: Unknown encoding: BuiltIn\r\n",
      "Jul 13, 2023 4:22:00 PM org.apache.pdfbox.pdmodel.font.PDSimpleFont readEncoding\r\n",
      "WARNING: Unknown encoding: BuiltIn\r\n",
      "Jul 13, 2023 4:22:00 PM org.apache.pdfbox.pdmodel.font.PDSimpleFont readEncoding\r\n",
      "WARNING: Unknown encoding: BuiltIn\r\n",
      "Jul 13, 2023 4:22:00 PM org.apache.pdfbox.pdmodel.font.PDSimpleFont readEncoding\r\n",
      "WARNING: Unknown encoding: BuiltIn\r\n",
      "Jul 13, 2023 4:22:00 PM org.apache.pdfbox.pdmodel.font.PDSimpleFont readEncoding\r\n",
      "WARNING: Unknown encoding: BuiltIn\r\n",
      "Jul 13, 2023 4:22:00 PM org.apache.pdfbox.pdmodel.font.PDSimpleFont readEncoding\r\n",
      "WARNING: Unknown encoding: BuiltIn\r\n",
      "\n"
     ]
    },
    {
     "name": "stdout",
     "output_type": "stream",
     "text": [
      "[        Claim Number: 37856F16600\n",
      "0     Employee Name: JARED MELLOR\n",
      "1     Patient Name: KOLSEN MELLOR\n",
      "2               Relationship: SON\n",
      "3   Patient Account No.:121748878\n",
      "4           Plan Number: 00025210\n",
      "5     Planholder: ALARM.COM, INC.\n",
      "6  Provider: JEFFREY T WELCH, DMD\n",
      "7                  Date: 06/16/23]\n"
     ]
    }
   ],
   "source": [
    "if 'Claim Number' in texts.split('\\n')[0]:\n",
    "    eobclaimmaster = get__other_master_details(file_path, texts, url)\n",
    "else:\n",
    "    eobclaimmaster = get_master_details(file_path, texts, url)\n",
    "\n",
    "# eobclaimmaster"
   ]
  },
  {
   "cell_type": "code",
   "execution_count": null,
   "id": "3726a304",
   "metadata": {},
   "outputs": [],
   "source": []
  },
  {
   "cell_type": "code",
   "execution_count": null,
   "id": "b045d382",
   "metadata": {},
   "outputs": [],
   "source": []
  },
  {
   "cell_type": "code",
   "execution_count": null,
   "id": "5ce4b79c",
   "metadata": {},
   "outputs": [],
   "source": []
  }
 ],
 "metadata": {
  "kernelspec": {
   "display_name": "Python 3 (ipykernel)",
   "language": "python",
   "name": "python3"
  },
  "language_info": {
   "codemirror_mode": {
    "name": "ipython",
    "version": 3
   },
   "file_extension": ".py",
   "mimetype": "text/x-python",
   "name": "python",
   "nbconvert_exporter": "python",
   "pygments_lexer": "ipython3",
   "version": "3.10.5"
  }
 },
 "nbformat": 4,
 "nbformat_minor": 5
}
