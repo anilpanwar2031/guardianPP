{
 "cells": [
  {
   "cell_type": "code",
   "execution_count": 1,
   "id": "e59abc4c",
   "metadata": {},
   "outputs": [],
   "source": [
    "from fitz.fitz import Rect  # Rect coordinates\n",
    "from tabula import read_pdf  # to extract table dataframe from pdf\n",
    "import numpy as np\n",
    "import pandas as pd\n",
    "import warnings\n",
    "warnings.filterwarnings('ignore')"
   ]
  },
  {
   "cell_type": "code",
   "execution_count": 2,
   "id": "b3c65411",
   "metadata": {},
   "outputs": [],
   "source": [
    "file_path = 'guardian1.pdf'"
   ]
  },
  {
   "cell_type": "code",
   "execution_count": 3,
   "id": "004b23fc",
   "metadata": {},
   "outputs": [
    {
     "name": "stderr",
     "output_type": "stream",
     "text": [
      "Got stderr: Jul 01, 2023 9:13:27 AM org.apache.pdfbox.pdmodel.font.PDSimpleFont readEncoding\r\n",
      "WARNING: Unknown encoding: BuiltIn\r\n",
      "Jul 01, 2023 9:13:27 AM org.apache.pdfbox.pdmodel.font.PDSimpleFont readEncoding\r\n",
      "WARNING: Unknown encoding: BuiltIn\r\n",
      "Jul 01, 2023 9:13:27 AM org.apache.pdfbox.pdmodel.font.PDSimpleFont readEncoding\r\n",
      "WARNING: Unknown encoding: BuiltIn\r\n",
      "Jul 01, 2023 9:13:27 AM org.apache.pdfbox.pdmodel.font.PDSimpleFont readEncoding\r\n",
      "WARNING: Unknown encoding: BuiltIn\r\n",
      "Jul 01, 2023 9:13:27 AM org.apache.pdfbox.pdmodel.font.PDSimpleFont readEncoding\r\n",
      "WARNING: Unknown encoding: BuiltIn\r\n",
      "Jul 01, 2023 9:13:27 AM org.apache.pdfbox.pdmodel.font.PDSimpleFont readEncoding\r\n",
      "WARNING: Unknown encoding: BuiltIn\r\n",
      "Jul 01, 2023 9:13:27 AM org.apache.pdfbox.pdmodel.font.PDSimpleFont readEncoding\r\n",
      "WARNING: Unknown encoding: BuiltIn\r\n",
      "Jul 01, 2023 9:13:28 AM org.apache.pdfbox.pdmodel.font.PDSimpleFont readEncoding\r\n",
      "WARNING: Unknown encoding: BuiltIn\r\n",
      "Jul 01, 2023 9:13:28 AM org.apache.pdfbox.pdmodel.font.PDSimpleFont readEncoding\r\n",
      "WARNING: Unknown encoding: BuiltIn\r\n",
      "Jul 01, 2023 9:13:28 AM org.apache.pdfbox.pdmodel.font.PDSimpleFont readEncoding\r\n",
      "WARNING: Unknown encoding: BuiltIn\r\n",
      "Jul 01, 2023 9:13:28 AM org.apache.pdfbox.pdmodel.font.PDSimpleFont readEncoding\r\n",
      "WARNING: Unknown encoding: BuiltIn\r\n",
      "Jul 01, 2023 9:13:28 AM org.apache.pdfbox.pdmodel.font.PDSimpleFont readEncoding\r\n",
      "WARNING: Unknown encoding: BuiltIn\r\n",
      "Jul 01, 2023 9:13:28 AM org.apache.pdfbox.pdmodel.font.PDSimpleFont readEncoding\r\n",
      "WARNING: Unknown encoding: BuiltIn\r\n",
      "Jul 01, 2023 9:13:28 AM org.apache.pdfbox.pdmodel.font.PDSimpleFont readEncoding\r\n",
      "WARNING: Unknown encoding: BuiltIn\r\n",
      "Jul 01, 2023 9:13:28 AM org.apache.pdfbox.pdmodel.font.PDSimpleFont readEncoding\r\n",
      "WARNING: Unknown encoding: BuiltIn\r\n",
      "Jul 01, 2023 9:13:28 AM org.apache.pdfbox.pdmodel.font.PDSimpleFont readEncoding\r\n",
      "WARNING: Unknown encoding: BuiltIn\r\n",
      "Jul 01, 2023 9:13:28 AM org.apache.pdfbox.pdmodel.font.PDSimpleFont readEncoding\r\n",
      "WARNING: Unknown encoding: BuiltIn\r\n",
      "Jul 01, 2023 9:13:28 AM org.apache.pdfbox.pdmodel.font.PDSimpleFont readEncoding\r\n",
      "WARNING: Unknown encoding: BuiltIn\r\n",
      "\n"
     ]
    },
    {
     "name": "stdout",
     "output_type": "stream",
     "text": [
      "Jsondata [[{'top': 287.08, 'left': 18.84, 'width': 130.7526092529297, 'height': 4.760018348693848, 'text': 'Claim Number: 36162F14400'}, {'top': 285.52, 'left': 225.84, 'width': 135.25262451171875, 'height': 4.760018348693848, 'text': 'Patient Account No.:120898061'}, {'top': 0.0, 'left': 0.0, 'width': 0.0, 'height': 0.0, 'text': ''}, {'top': 0.0, 'left': 0.0, 'width': 0.0, 'height': 0.0, 'text': ''}, {'top': 287.8, 'left': 465.84, 'width': 100.5999755859375, 'height': 4.760018348693848, 'text': 'Plan Number:00034945'}], [{'top': 296.08, 'left': 18.84, 'width': 142.6226043701172, 'height': 4.760018348693848, 'text': 'Patient Name: BOSTON BELL'}, {'top': 296.38, 'left': 225.84, 'width': 73.85263061523438, 'height': 4.460000038146973, 'text': 'Employee Name:'}, {'top': 296.08, 'left': 315.12, 'width': 60.602630615234375, 'height': 4.639999866485596, 'text': 'TYLER BELL'}, {'top': 0.0, 'left': 0.0, 'width': 0.0, 'height': 0.0, 'text': ''}, {'top': 298.24, 'left': 465.84, 'width': 80.72000885009766, 'height': 4.760018348693848, 'text': 'Relationship: SON'}], [{'top': 306.52, 'left': 18.12, 'width': 225.22999572753906, 'height': 4.760018348693848, 'text': 'Planholder: PCF INSURANCE SERVICES, LLC'}, {'top': 0.0, 'left': 0.0, 'width': 0.0, 'height': 0.0, 'text': ''}, {'top': 0.0, 'left': 0.0, 'width': 0.0, 'height': 0.0, 'text': ''}, {'top': 0.0, 'left': 0.0, 'width': 0.0, 'height': 0.0, 'text': ''}, {'top': 0.0, 'left': 0.0, 'width': 0.0, 'height': 0.0, 'text': ''}], [{'top': 316.56, 'left': 18.84, 'width': 90.19306945800781, 'height': 4.320001125335693, 'text': 'Line Submitted'}, {'top': 316.56, 'left': 155.16, 'width': 95.21305847167969, 'height': 3.5999999046325684, 'text': 'Alt Tooth Date of'}, {'top': 316.56, 'left': 274.2, 'width': 95.31301879882812, 'height': 3.5999999046325684, 'text': 'Submitted Considered'}, {'top': 316.56, 'left': 390.48, 'width': 29.9730224609375, 'height': 3.5999999046325684, 'text': 'Covered'}, {'top': 316.56, 'left': 437.64, 'width': 135.6299591064453, 'height': 3.5999999046325684, 'text': 'Deductible Coverage Benefit'}], [{'top': 325.68, 'left': 21.72, 'width': 110.36307525634766, 'height': 4.320001125335693, 'text': 'No. ADA Codes/Description'}, {'top': 325.68, 'left': 151.56, 'width': 98.91307067871094, 'height': 3.5999999046325684, 'text': 'Code No. Service'}, {'top': 325.68, 'left': 279.12, 'width': 83.40304565429688, 'height': 3.5999999046325684, 'text': 'Charge Charge'}, {'top': 325.68, 'left': 392.16, 'width': 26.403045654296875, 'height': 3.5999999046325684, 'text': 'Charge'}, {'top': 325.68, 'left': 442.32, 'width': 132.95997619628906, 'height': 3.5999999046325684, 'text': 'Amount Percent Amount'}], [{'top': 337.89, 'left': 24.24, 'width': 88.81307220458984, 'height': 3.75, 'text': '1 D9230/Analgesia/N20'}, {'top': 337.17, 'left': 188.04, 'width': 66.37306213378906, 'height': 4.470001220703125, 'text': 'FM 05/22/23'}, {'top': 337.17, 'left': 302.04, 'width': 76.17306518554688, 'height': 4.470001220703125, 'text': '30.00 28.00'}, {'top': 337.89, 'left': 413.52, 'width': 15.043060302734375, 'height': 3.75, 'text': '0.00'}, {'top': 337.89, 'left': 498.84, 'width': 90.4800033569336, 'height': 4.589996337890625, 'text': '80% 0.00'}], [{'top': 347.61, 'left': 24.24, 'width': 91.28307342529297, 'height': 3.75, 'text': '2 D2392/Pst Composite2'}, {'top': 346.77, 'left': 189.72, 'width': 64.69305419921875, 'height': 4.589996337890625, 'text': '03 05/22/23'}, {'top': 346.77, 'left': 297.96, 'width': 80.18307495117188, 'height': 4.589996337890625, 'text': '152.00 109.00'}, {'top': 347.61, 'left': 405.36, 'width': 23.063079833984375, 'height': 3.75, 'text': '109.00'}, {'top': 346.77, 'left': 460.2, 'width': 129.0499725341797, 'height': 5.30999755859375, 'text': '50.00 80% 47.20'}], [{'top': 357.21, 'left': 24.24, 'width': 91.28307342529297, 'height': 3.75, 'text': '3 D2392/Pst Composite2'}, {'top': 356.49, 'left': 189.72, 'width': 64.69305419921875, 'height': 4.470001220703125, 'text': '14 05/22/23'}, {'top': 356.49, 'left': 297.96, 'width': 80.18307495117188, 'height': 4.470001220703125, 'text': '152.00 109.00'}, {'top': 357.21, 'left': 405.36, 'width': 23.063079833984375, 'height': 3.75, 'text': '109.00'}, {'top': 357.21, 'left': 498.84, 'width': 90.40999603271484, 'height': 4.470001220703125, 'text': '80% 87.20'}], [{'top': 0.0, 'left': 0.0, 'width': 0.0, 'height': 0.0, 'text': ''}, {'top': 367.61, 'left': 223.08, 'width': 37.50294494628906, 'height': 4.03000020980835, 'text': 'TOTALS'}, {'top': 366.81, 'left': 297.36, 'width': 80.7930908203125, 'height': 3.75, 'text': '334.00 246.00'}, {'top': 366.81, 'left': 405.36, 'width': 23.073089599609375, 'height': 3.75, 'text': '218.00'}, {'top': 366.81, 'left': 460.2, 'width': 128.98997497558594, 'height': 3.75, 'text': '50.00 33.60 134.40'}]]\n"
     ]
    }
   ],
   "source": [
    "class TextRect:\n",
    "    \"\"\"\n",
    "    Class TextRect aim to store an object with a text and its coordinates in a Rect object.\n",
    "    Arguments:\n",
    "        - top (float) : top coordinates of the text\n",
    "        - left (float) : left coordinates of the text\n",
    "        - width (float) : width coordinates of the text\n",
    "        - height (float) : height coordinates of the text\n",
    "        - text (string) : text of the PDF we are dealing with\n",
    "    \"\"\"\n",
    "\n",
    "    def __init__(self, top, left, width, height, text):\n",
    "        self._rect = Rect(left + width, top - height, left, top)\n",
    "        self._text = text\n",
    "\n",
    "    def get_rect(self):\n",
    "        \"\"\"\n",
    "        Function to return the Rect object\n",
    "        \"\"\"\n",
    "        return self._rect\n",
    "\n",
    "    def get_text(self):\n",
    "        \"\"\"\n",
    "        Function to return the string text\n",
    "        \"\"\"\n",
    "        return self._text\n",
    "\n",
    "\n",
    "def transform(x):\n",
    "    \"\"\"\n",
    "    Function to transform dictionary into TextRect object\n",
    "    Argument:\n",
    "        - x (dict) : dictionary with key {'top', 'left', 'width', 'height', 'text'}\n",
    "    Return:\n",
    "        - TextRect object with coordinates of text, text and page of text.\n",
    "    \"\"\"\n",
    "    return TextRect(**x)\n",
    "\n",
    "\n",
    "def transform_text(textRect):\n",
    "    \"\"\"\n",
    "    Function to get the text of a TextRect object\n",
    "    Argument:\n",
    "        - textRect (TextRect) : TextRect object\n",
    "    Return:\n",
    "        - text (string)\n",
    "    \"\"\"\n",
    "    return textRect.get_text()\n",
    "\n",
    "\n",
    "def transform_rect(x):\n",
    "    \"\"\"\n",
    "    Function to get the Rect coordinates of a TextRect object\n",
    "    Argument:\n",
    "        - textRect (TextRect) : TextRect object\n",
    "    Return:\n",
    "        - rectangle coordinates (Rect)\n",
    "    \"\"\"\n",
    "    return x.get_rect()\n",
    "\n",
    "\n",
    "def get_text_df(json_df):\n",
    "    \"\"\"\n",
    "    Function to get a dataframe with text only\n",
    "    Arguments :\n",
    "        - json_df (pandas.DataFrame(TextRect)) : df is a dataframe from raw json table\n",
    "    Return : pandas.DataFrame(String)\n",
    "    \"\"\"\n",
    "    # Vectorisation of transform() function for more speed\n",
    "    vtransform = np.vectorize(transform)\n",
    "    vtransform_text = np.vectorize(transform_text)\n",
    "\n",
    "    # Apply on all value transform() and transform_text() to get from json\n",
    "    # dataframe the TextRect object then the string text\n",
    "    return json_df.apply(vtransform).apply(vtransform_text)\n",
    "\n",
    "\n",
    "def get_rect_df(json_df):\n",
    "    \"\"\"\n",
    "    Function to get a dataframe with Rect coordinates only\n",
    "    Arguments :\n",
    "        - json_df (pandas.DataFrame(TextRect)) : df is a dataframe from raw json table\n",
    "    Return : pandas.DataFrame(Rect)\n",
    "    \"\"\"\n",
    "    # Vectorisation of transform() function for more speed\n",
    "    vtransform = np.vectorize(transform)\n",
    "\n",
    "    # Apply on all value transform() and transform_text() to get from json\n",
    "    # dataframe the TextRect object then the Rect coordinates\n",
    "    return json_df.apply(vtransform).applymap(transform_rect)\n",
    "\n",
    "def extract_df_list(file_path):\n",
    "    \"\"\"\n",
    "    Method to extract 2 lists, one with dataframes containing text table,\n",
    "    one with dataframes containing coordinates tables.\n",
    "    Argument:\n",
    "        - file_path (string) : String path of the PDF file\n",
    "    Returns :\n",
    "        - document_txt (list of pandas.DataFrame) : List of DataFrame. Each dataframe correspond\n",
    "        to text found in all table.\n",
    "        - document_rect (list of pandas.DataFrame) : List of DataFrame. Each dataframe correspond\n",
    "        to text coordinates found in all table.\n",
    "    \"\"\"\n",
    "    json_pages = []\n",
    "\n",
    "    # For all page, we extract all table as a json and put them into a list\n",
    "    json_pages.append(read_pdf(file_path, pages='all', output_format='json'))\n",
    "\n",
    "    # Extract txt and coordinates from json\n",
    "    list_df_txt = []\n",
    "    list_df_rect = []\n",
    "\n",
    "    # For all page, we iterate over each json table found to extract text and coordinates\n",
    "    for json_df in json_pages:\n",
    "        print(\"Jsondata\",json_df[0]['data'])\n",
    "        \n",
    "        list_df_txt.append(get_text_df(pd.DataFrame(json_df[0]['data'])))\n",
    "#         list_df_rect.append(get_rect_df(pd.DataFrame(json_df[0]['data'])))\n",
    "\n",
    "    return list_df_txt, list_df_rect\n",
    "\n",
    "# Get your 2 dataframes\n",
    "list_df_1_txt, list_df_1_rect = extract_df_list(file_path)"
   ]
  },
  {
   "cell_type": "code",
   "execution_count": 4,
   "id": "2a8d08fb",
   "metadata": {},
   "outputs": [
    {
     "data": {
      "text/plain": [
       "[                                         0                              1  \\\n",
       " 0                Claim Number: 36162F14400  Patient Account No.:120898061   \n",
       " 1                Patient Name: BOSTON BELL                 Employee Name:   \n",
       " 2  Planholder: PCF INSURANCE SERVICES, LLC                                  \n",
       " 3                           Line Submitted              Alt Tooth Date of   \n",
       " 4                No. ADA Codes/Description               Code No. Service   \n",
       " 5                    1 D9230/Analgesia/N20                    FM 05/22/23   \n",
       " 6                   2 D2392/Pst Composite2                    03 05/22/23   \n",
       " 7                   3 D2392/Pst Composite2                    14 05/22/23   \n",
       " 8                                                                  TOTALS   \n",
       " \n",
       "                       2        3                            4  \n",
       " 0                                        Plan Number:00034945  \n",
       " 1            TYLER BELL                     Relationship: SON  \n",
       " 2                                                              \n",
       " 3  Submitted Considered  Covered  Deductible Coverage Benefit  \n",
       " 4         Charge Charge   Charge        Amount Percent Amount  \n",
       " 5           30.00 28.00     0.00                     80% 0.00  \n",
       " 6         152.00 109.00   109.00              50.00 80% 47.20  \n",
       " 7         152.00 109.00   109.00                    80% 87.20  \n",
       " 8         334.00 246.00   218.00           50.00 33.60 134.40  ]"
      ]
     },
     "execution_count": 4,
     "metadata": {},
     "output_type": "execute_result"
    }
   ],
   "source": [
    "list_df_1_txt"
   ]
  },
  {
   "cell_type": "code",
   "execution_count": 5,
   "id": "867a2d7d",
   "metadata": {},
   "outputs": [
    {
     "data": {
      "text/plain": [
       "[]"
      ]
     },
     "execution_count": 5,
     "metadata": {},
     "output_type": "execute_result"
    }
   ],
   "source": [
    "list_df_1_rect"
   ]
  },
  {
   "cell_type": "code",
   "execution_count": null,
   "id": "a59b5dde",
   "metadata": {},
   "outputs": [],
   "source": []
  }
 ],
 "metadata": {
  "kernelspec": {
   "display_name": "Python 3 (ipykernel)",
   "language": "python",
   "name": "python3"
  },
  "language_info": {
   "codemirror_mode": {
    "name": "ipython",
    "version": 3
   },
   "file_extension": ".py",
   "mimetype": "text/x-python",
   "name": "python",
   "nbconvert_exporter": "python",
   "pygments_lexer": "ipython3",
   "version": "3.10.5"
  }
 },
 "nbformat": 4,
 "nbformat_minor": 5
}
