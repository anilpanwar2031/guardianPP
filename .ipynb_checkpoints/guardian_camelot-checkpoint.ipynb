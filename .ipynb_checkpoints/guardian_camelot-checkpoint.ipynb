{
 "cells": [
  {
   "cell_type": "code",
   "execution_count": 2,
   "id": "436152af",
   "metadata": {},
   "outputs": [
    {
     "name": "stderr",
     "output_type": "stream",
     "text": [
      "Got stderr: May 30, 2023 11:11:03 PM org.apache.pdfbox.pdmodel.font.PDSimpleFont readEncoding\r\n",
      "WARNING: Unknown encoding: BuiltIn\r\n",
      "May 30, 2023 11:11:04 PM org.apache.pdfbox.pdmodel.font.PDSimpleFont readEncoding\r\n",
      "WARNING: Unknown encoding: BuiltIn\r\n",
      "May 30, 2023 11:11:04 PM org.apache.pdfbox.pdmodel.font.PDSimpleFont readEncoding\r\n",
      "WARNING: Unknown encoding: BuiltIn\r\n",
      "May 30, 2023 11:11:04 PM org.apache.pdfbox.pdmodel.font.PDSimpleFont readEncoding\r\n",
      "WARNING: Unknown encoding: BuiltIn\r\n",
      "May 30, 2023 11:11:04 PM org.apache.pdfbox.pdmodel.font.PDSimpleFont readEncoding\r\n",
      "WARNING: Unknown encoding: BuiltIn\r\n",
      "May 30, 2023 11:11:04 PM org.apache.pdfbox.pdmodel.font.PDSimpleFont readEncoding\r\n",
      "WARNING: Unknown encoding: BuiltIn\r\n",
      "May 30, 2023 11:11:04 PM org.apache.pdfbox.pdmodel.font.PDSimpleFont readEncoding\r\n",
      "WARNING: Unknown encoding: BuiltIn\r\n",
      "May 30, 2023 11:11:04 PM org.apache.pdfbox.pdmodel.font.PDSimpleFont readEncoding\r\n",
      "WARNING: Unknown encoding: BuiltIn\r\n",
      "May 30, 2023 11:11:04 PM org.apache.pdfbox.pdmodel.font.PDSimpleFont readEncoding\r\n",
      "WARNING: Unknown encoding: BuiltIn\r\n",
      "May 30, 2023 11:11:04 PM org.apache.pdfbox.pdmodel.font.PDSimpleFont readEncoding\r\n",
      "WARNING: Unknown encoding: BuiltIn\r\n",
      "May 30, 2023 11:11:04 PM org.apache.pdfbox.pdmodel.font.PDSimpleFont readEncoding\r\n",
      "WARNING: Unknown encoding: BuiltIn\r\n",
      "May 30, 2023 11:11:04 PM org.apache.pdfbox.pdmodel.font.PDSimpleFont readEncoding\r\n",
      "WARNING: Unknown encoding: BuiltIn\r\n",
      "May 30, 2023 11:11:04 PM org.apache.pdfbox.pdmodel.font.PDSimpleFont readEncoding\r\n",
      "WARNING: Unknown encoding: BuiltIn\r\n",
      "May 30, 2023 11:11:04 PM org.apache.pdfbox.pdmodel.font.PDSimpleFont readEncoding\r\n",
      "WARNING: Unknown encoding: BuiltIn\r\n",
      "May 30, 2023 11:11:04 PM org.apache.pdfbox.pdmodel.font.PDSimpleFont readEncoding\r\n",
      "WARNING: Unknown encoding: BuiltIn\r\n",
      "May 30, 2023 11:11:04 PM org.apache.pdfbox.pdmodel.font.PDSimpleFont readEncoding\r\n",
      "WARNING: Unknown encoding: BuiltIn\r\n",
      "May 30, 2023 11:11:05 PM org.apache.pdfbox.pdmodel.font.PDSimpleFont readEncoding\r\n",
      "WARNING: Unknown encoding: BuiltIn\r\n",
      "May 30, 2023 11:11:05 PM org.apache.pdfbox.pdmodel.font.PDSimpleFont readEncoding\r\n",
      "WARNING: Unknown encoding: BuiltIn\r\n",
      "\n"
     ]
    },
    {
     "data": {
      "text/plain": [
       "[                 Claim Number: 36162F14400 Patient Account No.:120898061  \\\n",
       " 0                Patient Name: BOSTON BELL                Employee Name:   \n",
       " 1  Planholder: PCF INSURANCE SERVICES, LLC                           NaN   \n",
       " 2                           Line Submitted             Alt Tooth Date of   \n",
       " 3                No. ADA Codes/Description              Code No. Service   \n",
       " 4                    1 D9230/Analgesia/N20                   FM 05/22/23   \n",
       " 5                   2 D2392/Pst Composite2                   03 05/22/23   \n",
       " 6                   3 D2392/Pst Composite2                   14 05/22/23   \n",
       " 7                                      NaN                        TOTALS   \n",
       " \n",
       "              Unnamed: 0 Unnamed: 1         Plan Number:00034945  \n",
       " 0            TYLER BELL        NaN            Relationship: SON  \n",
       " 1                   NaN        NaN                          NaN  \n",
       " 2  Submitted Considered    Covered  Deductible Coverage Benefit  \n",
       " 3         Charge Charge     Charge        Amount Percent Amount  \n",
       " 4           30.00 28.00       0.00                     80% 0.00  \n",
       " 5         152.00 109.00     109.00              50.00 80% 47.20  \n",
       " 6         152.00 109.00     109.00                    80% 87.20  \n",
       " 7         334.00 246.00     218.00           50.00 33.60 134.40  ]"
      ]
     },
     "execution_count": 2,
     "metadata": {},
     "output_type": "execute_result"
    }
   ],
   "source": [
    "import camelot\n",
    "file_path = 'C:\\\\guardian\\\\SD%20Payor%20Scraping\\\\guardian1.pdf' \n",
    "abc = camelot.read_pdf(file_path) \n",
    "\n",
    "print(abc[0].df)"
   ]
  },
  {
   "cell_type": "code",
   "execution_count": null,
   "id": "a7f12cd2",
   "metadata": {},
   "outputs": [],
   "source": []
  },
  {
   "cell_type": "code",
   "execution_count": null,
   "id": "1a955eb3",
   "metadata": {},
   "outputs": [],
   "source": []
  }
 ],
 "metadata": {
  "kernelspec": {
   "display_name": "Python 3 (ipykernel)",
   "language": "python",
   "name": "python3"
  },
  "language_info": {
   "codemirror_mode": {
    "name": "ipython",
    "version": 3
   },
   "file_extension": ".py",
   "mimetype": "text/x-python",
   "name": "python",
   "nbconvert_exporter": "python",
   "pygments_lexer": "ipython3",
   "version": "3.10.5"
  }
 },
 "nbformat": 4,
 "nbformat_minor": 5
}
