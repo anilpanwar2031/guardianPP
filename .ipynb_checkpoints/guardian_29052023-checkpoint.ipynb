{
 "cells": [
  {
   "cell_type": "code",
   "execution_count": 1,
   "id": "156e7d79",
   "metadata": {},
   "outputs": [
    {
     "name": "stderr",
     "output_type": "stream",
     "text": [
      "C:\\Users\\pytho\\AppData\\Roaming\\Python\\Python310\\site-packages\\requests\\__init__.py:102: RequestsDependencyWarning: urllib3 (1.26.13) or chardet (5.1.0)/charset_normalizer (2.0.12) doesn't match a supported version!\n",
      "  warnings.warn(\"urllib3 ({}) or chardet ({})/charset_normalizer ({}) doesn't match a supported \"\n"
     ]
    }
   ],
   "source": [
    "import tabula\n",
    "from tabula import read_pdf\n",
    "from tabulate import tabulate\n",
    "from pypdf import PdfReader\n",
    "import pdfplumber\n",
    "import tika\n",
    "from tika import parser\n",
    "import pypdfium2 as pdfium\n",
    "tika.initVM()\n",
    "import sys\n",
    "import json\n",
    "import logging\n",
    "import re\n",
    "import zipfile\n",
    "from pprint import pprint\n",
    "\n",
    "import pandas as pd\n",
    "\n",
    "from adobe.pdfservices.operation.auth.credentials import Credentials\n",
    "from adobe.pdfservices.operation.exception.exceptions import (SdkException, ServiceApiException, ServiceUsageException)\n",
    "from adobe.pdfservices.operation.execution_context import ExecutionContext\n",
    "from adobe.pdfservices.operation.io.file_ref import FileRef\n",
    "from adobe.pdfservices.operation.pdfops.extract_pdf_operation import ExtractPDFOperation\n",
    "from adobe.pdfservices.operation.pdfops.options.extractpdf.extract_element_type import ExtractElementType\n",
    "from adobe.pdfservices.operation.pdfops.options.extractpdf.extract_pdf_options import ExtractPDFOptions"
   ]
  },
  {
   "cell_type": "code",
   "execution_count": 2,
   "id": "64d3160a",
   "metadata": {},
   "outputs": [],
   "source": [
    "from Utilities.pdf_utils  import *"
   ]
  },
  {
   "cell_type": "code",
   "execution_count": 3,
   "id": "40409fe9",
   "metadata": {},
   "outputs": [],
   "source": [
    "def getData(file_path):\n",
    "\n",
    "    zipfile = extract_pdf_and_zip(file_path)\n",
    "\n",
    "    df_list , json_data = zip_processor(zipfile)\n",
    "    print(df_list)\n",
    "\n",
    "    work_dict = json_getter(json_data)\n",
    "    pprint(work_dict)\n",
    "    return df_list, work_dict\n",
    " file_path = \"C:\\\\guardian\\\\SD%20Payor%20Scraping\\\\guardian.pdf\"           \n",
    "dfs, work_d = getData(file_path)"
   ]
  },
  {
   "cell_type": "code",
   "execution_count": 4,
   "id": "dbec2d8d",
   "metadata": {},
   "outputs": [
    {
     "name": "stderr",
     "output_type": "stream",
     "text": [
      "Got stderr: May 29, 2023 3:28:10 PM org.apache.pdfbox.pdmodel.font.PDSimpleFont readEncoding\r\n",
      "WARNING: Unknown encoding: BuiltIn\r\n",
      "May 29, 2023 3:28:10 PM org.apache.pdfbox.pdmodel.font.PDSimpleFont readEncoding\r\n",
      "WARNING: Unknown encoding: BuiltIn\r\n",
      "May 29, 2023 3:28:10 PM org.apache.pdfbox.pdmodel.font.PDSimpleFont readEncoding\r\n",
      "WARNING: Unknown encoding: BuiltIn\r\n",
      "May 29, 2023 3:28:10 PM org.apache.pdfbox.pdmodel.font.PDSimpleFont readEncoding\r\n",
      "WARNING: Unknown encoding: BuiltIn\r\n",
      "May 29, 2023 3:28:10 PM org.apache.pdfbox.pdmodel.font.PDSimpleFont readEncoding\r\n",
      "WARNING: Unknown encoding: BuiltIn\r\n",
      "May 29, 2023 3:28:10 PM org.apache.pdfbox.pdmodel.font.PDSimpleFont readEncoding\r\n",
      "WARNING: Unknown encoding: BuiltIn\r\n",
      "May 29, 2023 3:28:10 PM org.apache.pdfbox.pdmodel.font.PDSimpleFont readEncoding\r\n",
      "WARNING: Unknown encoding: BuiltIn\r\n",
      "May 29, 2023 3:28:10 PM org.apache.pdfbox.pdmodel.font.PDSimpleFont readEncoding\r\n",
      "WARNING: Unknown encoding: BuiltIn\r\n",
      "May 29, 2023 3:28:10 PM org.apache.pdfbox.pdmodel.font.PDSimpleFont readEncoding\r\n",
      "WARNING: Unknown encoding: BuiltIn\r\n",
      "May 29, 2023 3:28:10 PM org.apache.pdfbox.pdmodel.font.PDSimpleFont readEncoding\r\n",
      "WARNING: Unknown encoding: BuiltIn\r\n",
      "May 29, 2023 3:28:10 PM org.apache.pdfbox.pdmodel.font.PDSimpleFont readEncoding\r\n",
      "WARNING: Unknown encoding: BuiltIn\r\n",
      "May 29, 2023 3:28:11 PM org.apache.pdfbox.pdmodel.font.PDSimpleFont readEncoding\r\n",
      "WARNING: Unknown encoding: BuiltIn\r\n",
      "May 29, 2023 3:28:11 PM org.apache.pdfbox.pdmodel.font.PDSimpleFont readEncoding\r\n",
      "WARNING: Unknown encoding: BuiltIn\r\n",
      "May 29, 2023 3:28:11 PM org.apache.pdfbox.pdmodel.font.PDSimpleFont readEncoding\r\n",
      "WARNING: Unknown encoding: BuiltIn\r\n",
      "May 29, 2023 3:28:11 PM org.apache.pdfbox.pdmodel.font.PDSimpleFont readEncoding\r\n",
      "WARNING: Unknown encoding: BuiltIn\r\n",
      "May 29, 2023 3:28:11 PM org.apache.pdfbox.pdmodel.font.PDSimpleFont readEncoding\r\n",
      "WARNING: Unknown encoding: BuiltIn\r\n",
      "May 29, 2023 3:28:11 PM org.apache.pdfbox.pdmodel.font.PDSimpleFont readEncoding\r\n",
      "WARNING: Unknown encoding: BuiltIn\r\n",
      "May 29, 2023 3:28:11 PM org.apache.pdfbox.pdmodel.font.PDSimpleFont readEncoding\r\n",
      "WARNING: Unknown encoding: BuiltIn\r\n",
      "\n"
     ]
    }
   ],
   "source": [
    "# file_path = 'C:\\\\guardian\\\\SD%20Payor%20Scraping\\\\guardian.pdf'  \n",
    "# pages = 'all'\n",
    "# tables = tabula.read_pdf(file_path, pages=pages)\n"
   ]
  },
  {
   "cell_type": "code",
   "execution_count": 5,
   "id": "35bf9474",
   "metadata": {},
   "outputs": [],
   "source": [
    "excel_writer = pd.ExcelWriter('output.xlsx', engine='openpyxl')\n"
   ]
  },
  {
   "cell_type": "code",
   "execution_count": 6,
   "id": "15fae8bc",
   "metadata": {},
   "outputs": [],
   "source": [
    "for i, table in enumerate(tables, start=1):\n",
    "    table.to_excel(excel_writer, sheet_name=f'Table{i}', index=False)"
   ]
  },
  {
   "cell_type": "code",
   "execution_count": 7,
   "id": "be87fa9a",
   "metadata": {},
   "outputs": [],
   "source": [
    "excel_writer.save()\n",
    "excel_writer.close()"
   ]
  }
 ],
 "metadata": {
  "kernelspec": {
   "display_name": "Python 3 (ipykernel)",
   "language": "python",
   "name": "python3"
  },
  "language_info": {
   "codemirror_mode": {
    "name": "ipython",
    "version": 3
   },
   "file_extension": ".py",
   "mimetype": "text/x-python",
   "name": "python",
   "nbconvert_exporter": "python",
   "pygments_lexer": "ipython3",
   "version": "3.10.5"
  }
 },
 "nbformat": 4,
 "nbformat_minor": 5
}
