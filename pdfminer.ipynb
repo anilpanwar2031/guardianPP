{
 "cells": [
  {
   "cell_type": "code",
   "execution_count": 1,
   "id": "ea1d1639",
   "metadata": {},
   "outputs": [],
   "source": [
    "from pdfminer.layout import LAParams, LTTextBox, LTText, LTChar, LTAnno\n",
    "from pdfminer.pdfpage import PDFPage\n",
    "from pdfminer.pdfinterp import PDFPageInterpreter, PDFResourceManager\n",
    "from pdfminer.converter import PDFPageAggregator"
   ]
  },
  {
   "cell_type": "code",
   "execution_count": 2,
   "id": "1c6bb8cc",
   "metadata": {},
   "outputs": [],
   "source": [
    "file_path = 'guardian1.pdf'"
   ]
  },
  {
   "cell_type": "code",
   "execution_count": 6,
   "id": "0e8d4344",
   "metadata": {},
   "outputs": [
    {
     "name": "stdout",
     "output_type": "stream",
     "text": [
      "Page\n",
      "Page\n"
     ]
    }
   ],
   "source": [
    "all_coordinates = []       \n",
    "\n",
    "fp = open(file_path, 'rb')\n",
    "manager = PDFResourceManager()\n",
    "laparams = LAParams()\n",
    "dev = PDFPageAggregator(manager, laparams=laparams)\n",
    "interpreter = PDFPageInterpreter(manager, dev)\n",
    "pages = PDFPage.get_pages(fp)\n",
    "\n",
    "for page in pages:\n",
    "    print(\"Page\")\n",
    "\n",
    "    page_coordinates = []\n",
    "\n",
    "    interpreter.process_page(page)\n",
    "    layout = dev.get_result()\n",
    "    x, y, text = -1, -1, ''\n",
    "    for textbox in layout:\n",
    "        if isinstance(textbox, LTTextBox):\n",
    "            print(\"INN\")\n",
    "            for line in textbox:\n",
    "                if isinstance(line, LTTextLineHorizontal):\n",
    "                    for char in line:\n",
    "                       if isinstance(char, LTAnno) or char.get_text() == ' ':\n",
    "                           if x != -1:\n",
    "                               print('%r : %s' % ((x, y), text))\n",
    "                               x, y, text = -1, -1, ''\n",
    "                       elif isinstance(char, LTChar):\n",
    "                           text += char.get_text()\n",
    "                           if x == -1:\n",
    "                               x, y, = char.bbox[0], char.bbox[3]\n",
    "                               page_coordinates.append((x,y))\n",
    "    if x != -1:\n",
    "        print('At %r : %s' % ((x, y), text))\n",
    "\n",
    "    all_coordinates.append(page_coordinates)"
   ]
  },
  {
   "cell_type": "code",
   "execution_count": null,
   "id": "25cec670",
   "metadata": {},
   "outputs": [],
   "source": []
  }
 ],
 "metadata": {
  "kernelspec": {
   "display_name": "Python 3 (ipykernel)",
   "language": "python",
   "name": "python3"
  },
  "language_info": {
   "codemirror_mode": {
    "name": "ipython",
    "version": 3
   },
   "file_extension": ".py",
   "mimetype": "text/x-python",
   "name": "python",
   "nbconvert_exporter": "python",
   "pygments_lexer": "ipython3",
   "version": "3.10.5"
  }
 },
 "nbformat": 4,
 "nbformat_minor": 5
}
