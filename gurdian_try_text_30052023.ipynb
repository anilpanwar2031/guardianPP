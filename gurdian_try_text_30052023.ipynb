{
 "cells": [
  {
   "cell_type": "code",
   "execution_count": 1,
   "id": "bcf0c63b",
   "metadata": {},
   "outputs": [],
   "source": [
    "from PyPDF2 import PdfReader"
   ]
  },
  {
   "cell_type": "code",
   "execution_count": 2,
   "id": "a47e0251",
   "metadata": {},
   "outputs": [],
   "source": [
    "file_path = 'C:\\\\guardian\\\\SD%20Payor%20Scraping\\\\guardian1.pdf'"
   ]
  },
  {
   "cell_type": "code",
   "execution_count": 3,
   "id": "848a6adb",
   "metadata": {},
   "outputs": [
    {
     "name": "stdout",
     "output_type": "stream",
     "text": [
      "If you have any\n",
      "questions contact:(800) 541-7846\n",
      "WWW.GUARDIANANYTIME.COM\n",
      "Provider: DAVID HADLEY\n",
      "Date: 05/25/23\n",
      "PROVIDER EXPLANATION OF BENEFITS - THIS IS NOT A BILL\n",
      "Important!  Please examine this statement for accuracy.  Save this statement for tax purposes.\n",
      "Payee:\n",
      "Check No.:UT BCDO SPECIALTY DENTAL SER\n",
      "188092989\n",
      "Payment Amount: $134.40\n",
      "Expedite cash flow with e-payments. Sign up today!\n",
      "Guardian has contracted with Change Healthcare, a leading provider of \n",
      "revenue and payment cycle solutions, to deliver Electronic Funds Transfer \n",
      "(EFT) services! Sign-up today by going to www.changehealthcare.com/support\n",
      "/customer-resources/enrollment-services  for more information. Enrollment for \n",
      "this service is offered to you at no additional cost and is available online or by \n",
      "calling 1.866.777.0713 and selecting Option 1.\n",
      "Submitted\n",
      "ADA Codes/DescriptionTooth\n",
      "No.Date of\n",
      "ServiceSubmitted\n",
      "ChargeCoverage\n",
      "PercentAlt\n",
      "CodeConsidered\n",
      "ChargeCovered\n",
      "ChargeDeductible\n",
      "AmountBenefit\n",
      "AmountLine \n",
      "No.Claim Number:\n",
      "Patient Name:36162F14400\n",
      "BOSTON BELL\n",
      "PCF INSURANCE SERVICES, LLCPatient Account No.:\n",
      "Employee Name:120898061\n",
      "TYLER BELLPlan Number:\n",
      "Relationship: SON00034945\n",
      "Planholder:\n",
      "1 D9230/Analgesia/N20 0.00 28.00 05/22/23 0.00 30.00 80% FM\n",
      "2 D2392/Pst Composite2 109.00 109.00 05/22/23 50.00 47.20 152.00 80% 03\n",
      "3 D2392/Pst Composite2 109.00 109.00 05/22/23 87.20 152.00 80% 14\n",
      "134.40 334.00 246.00 218.00 50.00\n",
      "$134.40\n",
      "PAID BY OTHER INSURANCE..... $0.00\n",
      "ADJUSTMENTS............................... $0.00\n",
      "TOTAL BENEFIT PAID.................. $ 134.40\n",
      "PATIENT'S RESPONSIBILITY..... $111.60TOTALS\n",
      "TOTAL BENEFIT PAYABLE.........BENEFIT SUMMARY\n",
      "$218.00 HIGHER ALLOWABLE.................. 33.60\n",
      "Remarks for claim # 36162F14400:\n",
      "A DENTALGUARD PARTICIPATING DENTIST HAS BEEN UTILIZED\n",
      "1.  The dental plan covers this procedure only when performed in conjunction with eligible surgical\n",
      "procedures or eligible surgical extractions performed on the same day.\n",
      "If you have any questions or comments concerning this claim, please contact us at (800) 541-7846\n",
      "In compliance with the California Department of Insurance regulation, we are supplying\n",
      "insured/dentist with the name, address, telephone number and website of the California\n",
      "Department of Insurance, if the insured/dentist wishes to contact them concerning this claim:\n",
      "10 Hudson Yards\n",
      "51-44\n",
      "119CHECK NO: 188092989\n",
      "PAY One Hundred Thirty Four & 40/100 Dollars****$134.40AMOUNT\n",
      "TO THE\n",
      "ORDER OFUT BCDO SPECIALTY DENTAL SERVI\n",
      "BANK OF AMERICA\n",
      "150 WINDSOR STREET, HARTFORD, CT 06120CHECK DATE: 05/25/23\n",
      "Void unless presented \n",
      "within 180 daysNew York, NY 10001\n",
      "DDAFADADTDDAFFADATFFTAAFAATAFDFATAAATTFFTFFDAAATTAA ATAATDDFFFTFAD31427 1.1458 AB 0.504ALL FOR AADC 840\n",
      "LEHI, UT  84043-7501505 UT BCDO SPECIALTY DENTAL SERVI\n",
      "3401 N CENTER ST STE 250\n",
      "EL PASO, TX  79998-1572PO BOX 981572\n",
      "Electronic Service Requested\n",
      "C55304A544009110AC989290881CP627402800G\n",
      "    \n",
      "ENV 31427           3 OF 5 P627402800G260107       \n",
      "If you have any\n",
      "questions contact:(800) 541-7846\n",
      "WWW.GUARDIANANYTIME.COM\n",
      "Provider:\n",
      "Date:DAVID HADLEY\n",
      "05/25/23EL PASO TX 79998-1572PO BOX 981572\n",
      "Payee:\n",
      "Check No.:\n",
      "Payment Amount:UT BCDO SPECIALTY DENTAL SER\n",
      "188092989\n",
      "$134.40\n",
      "Remarks for claim # 36162F14400:\n",
      "213-897-8921 or 1-800-927-HELP(4357) or  TDD: 1-800-482-4TDD(4833)\n",
      "California Department of Insurance\n",
      "Claims Services Bureau\n",
      "300 S. Spring Street, South Tower\n",
      "Los Angeles, CA 90013\n",
      "http://www.Insurance.ca.gov/01-consumers/\n",
      "Guardian has established a process for provider dispute resolution. Please contact our\n",
      "Member Services Department at (800) 541-7846 for more information.\n",
      "Benefits are based on the use of a Preferred Contracted Dentist.\n",
      "Comments:\n",
      "Current Dental Terminology  © 2021 American Dental Association.  All rights reserved.\n",
      "Log on to www.GuardianAnytime.com  for instant access to clinical policy guidelines and benefits information for Guardian members. Verify eligibility, view\n",
      "benefits, check claim status and more!P627402800G\n",
      "    \n",
      "ENV 31427           4 OF 5 P627402800G260107       \n"
     ]
    },
    {
     "name": "stderr",
     "output_type": "stream",
     "text": [
      "C:\\Users\\pytho\\AppData\\Roaming\\Python\\Python310\\site-packages\\PyPDF2\\_cmap.py:142: PdfReadWarning: Advanced encoding /BuiltIn not implemented yet\n",
      "  warnings.warn(\n"
     ]
    }
   ],
   "source": [
    "\n",
    "with open(file_path, 'rb') as file:\n",
    "    # Create a PdfReader object\n",
    "    pdf = PdfReader(file)\n",
    "\n",
    "    # Extract text from each page\n",
    "    for page in pdf.pages:\n",
    "        text = page.extract_text()\n",
    "        print(text)"
   ]
  }
 ],
 "metadata": {
  "kernelspec": {
   "display_name": "Python 3 (ipykernel)",
   "language": "python",
   "name": "python3"
  },
  "language_info": {
   "codemirror_mode": {
    "name": "ipython",
    "version": 3
   },
   "file_extension": ".py",
   "mimetype": "text/x-python",
   "name": "python",
   "nbconvert_exporter": "python",
   "pygments_lexer": "ipython3",
   "version": "3.10.5"
  }
 },
 "nbformat": 4,
 "nbformat_minor": 5
}
