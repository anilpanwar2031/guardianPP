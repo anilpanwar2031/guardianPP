{
 "cells": [
  {
   "cell_type": "code",
   "execution_count": 1,
   "id": "0a391299",
   "metadata": {},
   "outputs": [],
   "source": [
    "import json\n",
    "file_path = \"guardian_output.json\""
   ]
  },
  {
   "cell_type": "code",
   "execution_count": 2,
   "id": "59c3b341",
   "metadata": {},
   "outputs": [],
   "source": [
    "eftpatients = {\"PatientFirstName\",\"PatientLastName\",\"EFT_CheckNumber\" ,\"MemberNo\",\"PatientName\",\"PayerClaimId\",\"PayerPaid\",\"PlanType\",\"PPTransPayorListID\",\"ProviderClaimId\",\"RecordID\",\"RenderingProviderFirstName\",\"RenderingProviderID\",\"RenderingProviderLastName\",\"SubscriberID\"}"
   ]
  },
  {
   "cell_type": "code",
   "execution_count": 3,
   "id": "94dbb9d1",
   "metadata": {},
   "outputs": [],
   "source": [
    "eobclaimmaster = {\"TotalPatientResp\",'ClaimStatus','EFT_CheckNumber','Notes','PayeeAddress','PayeeCity','PayeeName','PayeeState','PayeeTaxID','PayeeZip','PayerAddress','PayerCity','PayerClaimID','PayerContact','PayerID','PayerName','PayerState','PayerZip','PaymentMethodCode','PPGridViewId','PPTransPayorListID','RecordID','RenderingProvider','RenderingProviderID','SubscriberID','TotalAmount','url'}\n"
   ]
  },
  {
   "cell_type": "code",
   "execution_count": 4,
   "id": "87cda7ca",
   "metadata": {},
   "outputs": [],
   "source": [
    "eobclaimdetails = {\"PPTransPayorListID\",\"EFT_CheckNumber\",\"ActualAllowed\",\"Adjustments\",\"ContractualObligations\",\"Enrollee_ClaimID\",\"OtherAdjustments\",\"PatientResp\",\"PayableAmount\",\"PayerInitiatedReductions\",\"ProcCode\",\"RecordID\",\"RemarkCodes\",\"ServiceDate\",\"SubmittedCharges\",\"PPGridViewId\"}"
   ]
  },
  {
   "cell_type": "code",
   "execution_count": 5,
   "id": "4fe02ee4",
   "metadata": {},
   "outputs": [],
   "source": [
    "with open(file_path, \"r\") as file:\n",
    "    data = json.load(file)"
   ]
  },
  {
   "cell_type": "code",
   "execution_count": null,
   "id": "7c9cc699",
   "metadata": {},
   "outputs": [],
   "source": []
  },
  {
   "cell_type": "code",
   "execution_count": 6,
   "id": "680c6c3d",
   "metadata": {},
   "outputs": [
    {
     "name": "stdout",
     "output_type": "stream",
     "text": [
      "EFTPatients []\n",
      "EobClaimMaster []\n",
      "EobClaimdetail []\n"
     ]
    }
   ],
   "source": [
    "eftpatientsoutput = set(data['EFTPatients'][0].keys())\n",
    "eobclaimmasteroutput = set(data['PpEobClaimMaster'][0].keys())\n",
    "eobclaimdetailoutput = set(data['PpEobClaimDetail'][0].keys())\n",
    "\n",
    "print(\"EFTPatients\", list(eftpatients - eftpatientsoutput))\n",
    "print(\"EobClaimMaster\", list(eobclaimmaster - eobclaimmasteroutput))\n",
    "print(\"EobClaimdetail\", list(eobclaimdetails - eobclaimdetailoutput))"
   ]
  },
  {
   "cell_type": "code",
   "execution_count": 7,
   "id": "807daad4",
   "metadata": {},
   "outputs": [
    {
     "name": "stdout",
     "output_type": "stream",
     "text": [
      "1\n"
     ]
    }
   ],
   "source": [
    "a = (1,2)\n",
    "print(a[0])"
   ]
  },
  {
   "cell_type": "code",
   "execution_count": null,
   "id": "cc9b0ed7",
   "metadata": {},
   "outputs": [],
   "source": []
  }
 ],
 "metadata": {
  "kernelspec": {
   "display_name": "Python 3 (ipykernel)",
   "language": "python",
   "name": "python3"
  },
  "language_info": {
   "codemirror_mode": {
    "name": "ipython",
    "version": 3
   },
   "file_extension": ".py",
   "mimetype": "text/x-python",
   "name": "python",
   "nbconvert_exporter": "python",
   "pygments_lexer": "ipython3",
   "version": "3.10.5"
  }
 },
 "nbformat": 4,
 "nbformat_minor": 5
}
