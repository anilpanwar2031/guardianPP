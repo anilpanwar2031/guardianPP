{
 "cells": [
  {
   "cell_type": "code",
   "execution_count": 1,
   "id": "59e00143",
   "metadata": {},
   "outputs": [],
   "source": [
    "import pdfminer\n",
    "import tabula\n",
    "from tabula import read_pdf"
   ]
  },
  {
   "cell_type": "code",
   "execution_count": 2,
   "id": "1562d374",
   "metadata": {},
   "outputs": [],
   "source": [
    "file_path = 'guardian1.pdf'"
   ]
  },
  {
   "cell_type": "code",
   "execution_count": 3,
   "id": "30b3b7ca",
   "metadata": {},
   "outputs": [
    {
     "ename": "AttributeError",
     "evalue": "module 'pdfminer' has no attribute 'pdfparser'",
     "output_type": "error",
     "traceback": [
      "\u001b[1;31m---------------------------------------------------------------------------\u001b[0m",
      "\u001b[1;31mAttributeError\u001b[0m                            Traceback (most recent call last)",
      "Cell \u001b[1;32mIn[3], line 22\u001b[0m\n\u001b[0;32m     18\u001b[0m         \u001b[38;5;28;01mreturn\u001b[39;00m word_coordinates\n\u001b[0;32m     21\u001b[0m word \u001b[38;5;241m=\u001b[39m \u001b[38;5;124m\"\u001b[39m\u001b[38;5;124mRemarks\u001b[39m\u001b[38;5;124m\"\u001b[39m\n\u001b[1;32m---> 22\u001b[0m word_coordinates \u001b[38;5;241m=\u001b[39m \u001b[43mfind_word_coordinates\u001b[49m\u001b[43m(\u001b[49m\u001b[43mfile_path\u001b[49m\u001b[43m,\u001b[49m\u001b[43m \u001b[49m\u001b[43mword\u001b[49m\u001b[43m)\u001b[49m\n\u001b[0;32m     23\u001b[0m \u001b[38;5;28mprint\u001b[39m(word_coordinates)\n",
      "Cell \u001b[1;32mIn[3], line 3\u001b[0m, in \u001b[0;36mfind_word_coordinates\u001b[1;34m(pdf_file, word)\u001b[0m\n\u001b[0;32m      1\u001b[0m \u001b[38;5;28;01mdef\u001b[39;00m \u001b[38;5;21mfind_word_coordinates\u001b[39m(pdf_file, word):\n\u001b[0;32m      2\u001b[0m     \u001b[38;5;28;01mwith\u001b[39;00m \u001b[38;5;28mopen\u001b[39m(pdf_file, \u001b[38;5;124m\"\u001b[39m\u001b[38;5;124mrb\u001b[39m\u001b[38;5;124m\"\u001b[39m) \u001b[38;5;28;01mas\u001b[39;00m fp:\n\u001b[1;32m----> 3\u001b[0m         parser \u001b[38;5;241m=\u001b[39m \u001b[43mpdfminer\u001b[49m\u001b[38;5;241;43m.\u001b[39;49m\u001b[43mpdfparser\u001b[49m\u001b[38;5;241m.\u001b[39mPDFParser(fp)\n\u001b[0;32m      4\u001b[0m         document \u001b[38;5;241m=\u001b[39m pdfminer\u001b[38;5;241m.\u001b[39mpdfdocument\u001b[38;5;241m.\u001b[39mPDFDocument(parser)\n\u001b[0;32m      5\u001b[0m         \u001b[38;5;28;01mif\u001b[39;00m \u001b[38;5;129;01mnot\u001b[39;00m document\u001b[38;5;241m.\u001b[39mis_extractable:\n",
      "\u001b[1;31mAttributeError\u001b[0m: module 'pdfminer' has no attribute 'pdfparser'"
     ]
    }
   ],
   "source": [
    "def find_word_coordinates(pdf_file, word):\n",
    "    with open(pdf_file, \"rb\") as fp:\n",
    "        parser = pdfminer.pdfparser.PDFParser(fp)\n",
    "        document = pdfminer.pdfdocument.PDFDocument(parser)\n",
    "        if not document.is_extractable:\n",
    "            raise pdfminer.pdfpage.PDFTextExtractionNotAllowed\n",
    "        rsrcmgr = pdfminer.pdfinterp.PDFResourceManager()\n",
    "        device = pdfminer.pdfdevice.PDFDevice(rsrcmgr)\n",
    "        page_interpreter = pdfminer.pdfinterp.PDFPageInterpreter(rsrcmgr, device)\n",
    "\n",
    "        for page in document.pages:\n",
    "            page_interpreter.process_page(page)\n",
    "            text = device.get_text()\n",
    "            word_coordinates = []\n",
    "            for match in re.finditer(word, text):\n",
    "                x, y = match.span()[0:2]\n",
    "                word_coordinates.append((x, y))\n",
    "        return word_coordinates\n",
    "\n",
    "\n",
    "word = \"Remarks\"\n",
    "word_coordinates = find_word_coordinates(file_path, word)\n",
    "print(word_coordinates)"
   ]
  }
 ],
 "metadata": {
  "kernelspec": {
   "display_name": "Python 3 (ipykernel)",
   "language": "python",
   "name": "python3"
  },
  "language_info": {
   "codemirror_mode": {
    "name": "ipython",
    "version": 3
   },
   "file_extension": ".py",
   "mimetype": "text/x-python",
   "name": "python",
   "nbconvert_exporter": "python",
   "pygments_lexer": "ipython3",
   "version": "3.10.5"
  }
 },
 "nbformat": 4,
 "nbformat_minor": 5
}
