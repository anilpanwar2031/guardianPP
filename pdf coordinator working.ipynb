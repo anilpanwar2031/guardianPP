{
 "cells": [
  {
   "cell_type": "code",
   "execution_count": 1,
   "id": "e59abc4c",
   "metadata": {},
   "outputs": [],
   "source": [
    "from fitz.fitz import Rect  # Rect coordinates\n",
    "from tabula import read_pdf  # to extract table dataframe from pdf\n",
    "import numpy as np\n",
    "import pandas as pd\n",
    "import warnings\n",
    "warnings.filterwarnings('ignore')"
   ]
  },
  {
   "cell_type": "code",
   "execution_count": 2,
   "id": "b3c65411",
   "metadata": {},
   "outputs": [],
   "source": [
    "file_path = \"missouri1.pdf\""
   ]
  },
  {
   "cell_type": "code",
   "execution_count": 3,
   "id": "004b23fc",
   "metadata": {},
   "outputs": [
    {
     "name": "stdout",
     "output_type": "stream",
     "text": [
      "Jsondata []\n"
     ]
    }
   ],
   "source": [
    "class TextRect:\n",
    "    \"\"\"\n",
    "    Class TextRect aim to store an object with a text and its coordinates in a Rect object.\n",
    "    Arguments:\n",
    "        - top (float) : top coordinates of the text\n",
    "        - left (float) : left coordinates of the text\n",
    "        - width (float) : width coordinates of the text\n",
    "        - height (float) : height coordinates of the text\n",
    "        - text (string) : text of the PDF we are dealing with\n",
    "    \"\"\"\n",
    "\n",
    "    def __init__(self, top, left, width, height, text):\n",
    "        self._rect = Rect(left + width, top - height, left, top)\n",
    "        self._text = text\n",
    "\n",
    "    def get_rect(self):\n",
    "        \"\"\"\n",
    "        Function to return the Rect object\n",
    "        \"\"\"\n",
    "        return self._rect\n",
    "\n",
    "    def get_text(self):\n",
    "        \"\"\"\n",
    "        Function to return the string text\n",
    "        \"\"\"\n",
    "        return self._text\n",
    "\n",
    "\n",
    "def transform(x):\n",
    "    \"\"\"\n",
    "    Function to transform dictionary into TextRect object\n",
    "    Argument:\n",
    "        - x (dict) : dictionary with key {'top', 'left', 'width', 'height', 'text'}\n",
    "    Return:\n",
    "        - TextRect object with coordinates of text, text and page of text.\n",
    "    \"\"\"\n",
    "    return TextRect(**x)\n",
    "\n",
    "\n",
    "def transform_text(textRect):\n",
    "    \"\"\"\n",
    "    Function to get the text of a TextRect object\n",
    "    Argument:\n",
    "        - textRect (TextRect) : TextRect object\n",
    "    Return:\n",
    "        - text (string)\n",
    "    \"\"\"\n",
    "    return textRect.get_text()\n",
    "\n",
    "\n",
    "def transform_rect(x):\n",
    "    \"\"\"\n",
    "    Function to get the Rect coordinates of a TextRect object\n",
    "    Argument:\n",
    "        - textRect (TextRect) : TextRect object\n",
    "    Return:\n",
    "        - rectangle coordinates (Rect)\n",
    "    \"\"\"\n",
    "    return x.get_rect()\n",
    "\n",
    "\n",
    "def get_text_df(json_df):\n",
    "    \"\"\"\n",
    "    Function to get a dataframe with text only\n",
    "    Arguments :\n",
    "        - json_df (pandas.DataFrame(TextRect)) : df is a dataframe from raw json table\n",
    "    Return : pandas.DataFrame(String)\n",
    "    \"\"\"\n",
    "    # Vectorisation of transform() function for more speed\n",
    "    vtransform = np.vectorize(transform)\n",
    "    vtransform_text = np.vectorize(transform_text)\n",
    "\n",
    "    # Apply on all value transform() and transform_text() to get from json\n",
    "    # dataframe the TextRect object then the string text\n",
    "    return json_df.apply(vtransform).apply(vtransform_text)\n",
    "\n",
    "\n",
    "def get_rect_df(json_df):\n",
    "    \"\"\"\n",
    "    Function to get a dataframe with Rect coordinates only\n",
    "    Arguments :\n",
    "        - json_df (pandas.DataFrame(TextRect)) : df is a dataframe from raw json table\n",
    "    Return : pandas.DataFrame(Rect)\n",
    "    \"\"\"\n",
    "    # Vectorisation of transform() function for more speed\n",
    "    vtransform = np.vectorize(transform)\n",
    "\n",
    "    # Apply on all value transform() and transform_text() to get from json\n",
    "    # dataframe the TextRect object then the Rect coordinates\n",
    "    return json_df.apply(vtransform).applymap(transform_rect)\n",
    "\n",
    "def extract_df_list(file_path):\n",
    "    \"\"\"\n",
    "    Method to extract 2 lists, one with dataframes containing text table,\n",
    "    one with dataframes containing coordinates tables.\n",
    "    Argument:\n",
    "        - file_path (string) : String path of the PDF file\n",
    "    Returns :\n",
    "        - document_txt (list of pandas.DataFrame) : List of DataFrame. Each dataframe correspond\n",
    "        to text found in all table.\n",
    "        - document_rect (list of pandas.DataFrame) : List of DataFrame. Each dataframe correspond\n",
    "        to text coordinates found in all table.\n",
    "    \"\"\"\n",
    "    json_pages = []\n",
    "\n",
    "    # For all page, we extract all table as a json and put them into a list\n",
    "    json_pages.append(read_pdf(file_path, pages='all', output_format='json'))\n",
    "\n",
    "    # Extract txt and coordinates from json\n",
    "    list_df_txt = []\n",
    "    list_df_rect = []\n",
    "\n",
    "    # For all page, we iterate over each json table found to extract text and coordinates\n",
    "    for json_df in json_pages:\n",
    "        print(\"Jsondata\",json_df[0]['data'])\n",
    "        \n",
    "        list_df_txt.append(get_text_df(pd.DataFrame(json_df[0]['data'])))\n",
    "#         list_df_rect.append(get_rect_df(pd.DataFrame(json_df[0]['data'])))\n",
    "\n",
    "    return list_df_txt, list_df_rect\n",
    "\n",
    "# Get your 2 dataframes\n",
    "list_df_1_txt, list_df_1_rect = extract_df_list(file_path)"
   ]
  },
  {
   "cell_type": "code",
   "execution_count": 4,
   "id": "2a8d08fb",
   "metadata": {},
   "outputs": [
    {
     "data": {
      "text/plain": [
       "[Empty DataFrame\n",
       " Columns: []\n",
       " Index: []]"
      ]
     },
     "execution_count": 4,
     "metadata": {},
     "output_type": "execute_result"
    }
   ],
   "source": [
    "list_df_1_txt"
   ]
  },
  {
   "cell_type": "code",
   "execution_count": 5,
   "id": "867a2d7d",
   "metadata": {},
   "outputs": [
    {
     "data": {
      "text/plain": [
       "[]"
      ]
     },
     "execution_count": 5,
     "metadata": {},
     "output_type": "execute_result"
    }
   ],
   "source": [
    "list_df_1_rect"
   ]
  },
  {
   "cell_type": "code",
   "execution_count": null,
   "id": "a59b5dde",
   "metadata": {},
   "outputs": [],
   "source": []
  }
 ],
 "metadata": {
  "kernelspec": {
   "display_name": "Python 3 (ipykernel)",
   "language": "python",
   "name": "python3"
  },
  "language_info": {
   "codemirror_mode": {
    "name": "ipython",
    "version": 3
   },
   "file_extension": ".py",
   "mimetype": "text/x-python",
   "name": "python",
   "nbconvert_exporter": "python",
   "pygments_lexer": "ipython3",
   "version": "3.10.5"
  }
 },
 "nbformat": 4,
 "nbformat_minor": 5
}
