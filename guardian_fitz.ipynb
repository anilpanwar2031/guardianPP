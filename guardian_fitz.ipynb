{
 "cells": [
  {
   "cell_type": "code",
   "execution_count": 1,
   "id": "4057208f",
   "metadata": {},
   "outputs": [],
   "source": [
    "import fitz\n",
    "\n",
    "file_path = \"t1.pdf\""
   ]
  },
  {
   "cell_type": "code",
   "execution_count": 2,
   "id": "0c04e84c",
   "metadata": {},
   "outputs": [],
   "source": [
    "with fitz.open(file_path) as pdf:\n",
    "    texts = ''\n",
    "    for page_number in range(pdf.page_count):\n",
    "        page = pdf.load_page(page_number)\n",
    "        text = page.get_text()\n",
    "        texts = texts+' '+text"
   ]
  },
  {
   "cell_type": "code",
   "execution_count": 3,
   "id": "96229c50",
   "metadata": {},
   "outputs": [
    {
     "data": {
      "text/plain": [
       "' Continued on back\\nExplanation of Benefits\\nTHIS IS NOT A BILL\\nRETAIN FOR TAX PURPOSES\\nCustomer Service Information\\nPhone:\\nToll Free:\\nE-mail:\\nOnline:\\n(877)232-3863\\nbenefits@carpdc.org\\nwww.deltadentalmo.com/carpdc\\n1 of 3\\n(314) 644-4802\\nFax:\\n(314) 656-2900\\n(314) 644-4802\\n(877)232-3863\\nQuestions? Contact Carpenter\\'s Health &\\nWelfare Trust Fund of Saint Louis\\n20230627134258\\nBELL, LUCAS J\\nPatient:\\nClaim No:\\nSubscriber:\\nGRISER, GREGORY\\nGroup No:\\nMO1924-1000\\nProvider:\\nBUFORD, ALLISON W\\nAdjustment\\nNotice*\\nAccepted\\nAmount\\nPatient\\nPays\\nPlan\\nPays\\nService\\nDate\\nSubmitted\\nAmount\\nAllowed\\nAmount\\nCo-Pay\\nApplied\\nDeductible\\nSubmitted\\nCode\\nProcessed\\nCode\\nTooth\\nNumber\\nTooth\\nSurface\\nCo-Ins\\n%\\nUNK\\nRel:\\n$95.00\\n$45.00\\n$45.00\\n40389\\n6/22/23\\n$0.00\\n$45.00\\n$0.00\\n$0.00\\nD1120\\nD1120\\n100%\\n$0.00\\n$0.00\\n$0.00\\n1051\\n6/22/23\\n$0.00\\n$0.00\\n$0.00\\n$0.00\\nD0230\\nD0230\\n0%\\n$0.00\\n$0.00\\n$0.00\\n1051 1075\\n6/22/23\\n$0.00\\n$0.00\\n$0.00\\n$0.00\\nD0220\\nD0220\\n0%\\n$85.00\\n$66.00\\n$66.00\\n40389\\n6/22/23\\n$0.00\\n$66.00\\n$0.00\\n$0.00\\nD0120\\nD0120\\n100%\\n$205.00\\n$88.00\\n$0.00\\n1051 1075\\n6/22/23\\n$88.00\\n$88.00\\n$0.00\\n$0.00\\nD0274\\nD0210\\n0%\\n$60.00\\n$31.00\\n$31.00\\n40389\\n6/22/23\\n$0.00\\n$31.00\\n$0.00\\n$0.00\\nD1206\\nD1206\\n100%\\n$0.00\\n$0.00\\n$0.00\\n1051\\n6/22/23\\n$0.00\\n$0.00\\n$0.00\\n$0.00\\nD0230\\nD0230\\n0%\\nTotal Patient Responsibility:\\n$88.00\\nClaim Totals:\\n$445.00\\n$230.00\\n$142.00\\n$88.00\\n$230.00\\n$0.00\\n$0.00\\n20230627134259\\nGRISER, ARIA\\nPatient:\\nClaim No:\\nSubscriber:\\nGRISER, GREGORY\\nGroup No:\\nMO1924-1000\\nProvider:\\nBUFORD, ALLISON W\\nAdjustment\\nNotice*\\nAccepted\\nAmount\\nPatient\\nPays\\nPlan\\nPays\\nService\\nDate\\nSubmitted\\nAmount\\nAllowed\\nAmount\\nCo-Pay\\nApplied\\nDeductible\\nSubmitted\\nCode\\nProcessed\\nCode\\nTooth\\nNumber\\nTooth\\nSurface\\nCo-Ins\\n%\\nUNK\\nRel:\\n$85.00\\n$66.00\\n$66.00\\n40389\\n6/22/23\\n$0.00\\n$66.00\\n$0.00\\n$0.00\\nD0120\\nD0120\\n100%\\n$65.00\\n$27.00\\n$27.00\\n40389\\n6/22/23\\n$0.00\\n$27.00\\n$0.00\\n$0.00\\nD0272\\nD0272\\n100%\\n$95.00\\n$45.00\\n$45.00\\n40389\\n6/22/23\\n$0.00\\n$45.00\\n$0.00\\n$0.00\\nD1120\\nD1120\\n100%\\n$60.00\\n$31.00\\n$31.00\\n40389\\n6/22/23\\n$0.00\\n$31.00\\n$0.00\\n$0.00\\nD1206\\nD1206\\n100%\\nTotal Patient Responsibility:\\n$0.00\\nClaim Totals:\\n$305.00\\n$169.00\\n$169.00\\n$0.00\\n$169.00\\n$0.00\\n$0.00\\nDelta Dental of Missouri\\nc/o Customer Service\\nP.O. Box 8690\\nSt Louis MO 63126\\nForwarding Service Requested\\n                    JECB\\nGRISER, GREGORY\\n1040 LAKESHORE DR\\nDE SOTO MO 63020\\n22,745\\nJECB [22,745] 1 of 3\\n20230705B04\\nJECB\\n1357 16174\\n Continued on next page\\n20230627134260\\nGRISER, EMMALYN\\nPatient:\\nClaim No:\\nSubscriber:\\nGRISER, GREGORY\\nGroup No:\\nMO1924-1000\\nProvider:\\nBUFORD, ALLISON W\\nAdjustment\\nNotice*\\nAccepted\\nAmount\\nPatient\\nPays\\nPlan\\nPays\\nService\\nDate\\nSubmitted\\nAmount\\nAllowed\\nAmount\\nCo-Pay\\nApplied\\nDeductible\\nSubmitted\\nCode\\nProcessed\\nCode\\nTooth\\nNumber\\nTooth\\nSurface\\nCo-Ins\\n%\\nUNK\\nRel:\\n$85.00\\n$66.00\\n$66.00\\n40389\\n6/22/23\\n$0.00\\n$66.00\\n$0.00\\n$0.00\\nD0120\\nD0120\\n100%\\n$95.00\\n$45.00\\n$45.00\\n40389\\n6/22/23\\n$0.00\\n$45.00\\n$0.00\\n$0.00\\nD1120\\nD1120\\n100%\\n$60.00\\n$31.00\\n$31.00\\n40389\\n6/22/23\\n$0.00\\n$31.00\\n$0.00\\n$0.00\\nD1206\\nD1206\\n100%\\n$65.00\\n$27.00\\n$27.00\\n40389\\n6/22/23\\n$0.00\\n$27.00\\n$0.00\\n$0.00\\nD0272\\nD0272\\n100%\\nTotal Patient Responsibility:\\n$0.00\\nClaim Totals:\\n$305.00\\n$169.00\\n$169.00\\n$0.00\\n$169.00\\n$0.00\\n$0.00\\n20230627134261\\nGRISER, GWENETH\\nPatient:\\nClaim No:\\nSubscriber:\\nGRISER, GREGORY\\nGroup No:\\nMO1924-1000\\nProvider:\\nBUFORD, ALLISON W\\nAdjustment\\nNotice*\\nAccepted\\nAmount\\nPatient\\nPays\\nPlan\\nPays\\nService\\nDate\\nSubmitted\\nAmount\\nAllowed\\nAmount\\nCo-Pay\\nApplied\\nDeductible\\nSubmitted\\nCode\\nProcessed\\nCode\\nTooth\\nNumber\\nTooth\\nSurface\\nCo-Ins\\n%\\nUNK\\nRel:\\n$85.00\\n$66.00\\n$66.00\\n1022 40389\\n6/22/23\\n$0.00\\n$66.00\\n$0.00\\n$0.00\\nD0120\\nD0145\\n100%\\n$60.00\\n$31.00\\n$31.00\\n40389\\n6/22/23\\n$0.00\\n$31.00\\n$0.00\\n$0.00\\nD1206\\nD1206\\n100%\\n$95.00\\n$45.00\\n$45.00\\n40389\\n6/22/23\\n$0.00\\n$45.00\\n$0.00\\n$0.00\\nD1120\\nD1120\\n100%\\nTotal Patient Responsibility:\\n$0.00\\nClaim Totals:\\n$240.00\\n$142.00\\n$142.00\\n$0.00\\n$142.00\\n$0.00\\n$0.00\\nAdjustment Notice\\n(1022)Alternate benefit allowance provided toward submitted procedure.\\n(1051)Benefits for this service are limited to 1 per 36 month(s).\\n(1051)Exceeds frequency of service limitation allowed under your group contract.\\n(1075)The allowance for all radiographs per visit are limited to the fee for a complete series - D0210. Patient liability limited to amount\\nindicated in the Patient Pays or Patient Estimate column.\\n(40389)389 Maximum allowance based on the fee agreed to between the participating dentist and Delta Dental.  Patient liability limited to\\nthe amount indicated in the Patient Pays or Patient Estimate column.\\nProcedure Code Description\\nProphylaxis - Child\\nD1120\\nIntraoral - Comprehensive series of radiographic images\\nD0230\\nIntraoral - Comprehensive series of radiographic images\\nD0220\\nPeriodic Oral Evaluation - Established Patient\\nD0120\\nIntraoral - Comprehensive series of radiographic images\\nD0210\\nTopical Application Of Fluoride Varnish\\nD1206\\nBitewings - Two Radiographic Images\\nD0272\\nOral Evaluation, Patient Under Three\\nD0145\\nPaid To\\nCheck No.\\nAmount\\nPayment Details\\nDate\\nST LOUIS PEDIATRIC DENTISTRY LLC 002\\n00835593\\n07/04/2023\\n$622.00\\n Subscriber Appeal Procedure\\nSubscriber Claim Appeal Procedure\\nSubscriber Claim Appeal Procedure\\nSubscriber Claim Appeal Procedure\\nSubscriber Claim Appeal Procedure\\nIf your claim receives an adverse benefit determination, you or your authorized representative may file an appeal. An\\n\"adverse benefit determination\" is defined as a denial, reduction or termination of, or a failure to provide or make payment (in\\nwhole or in part) for a benefit. This determination may be based on, but not limited to, lack of eligibility, as a result of the\\napplicable utilization review, plan limitations, a review indicating the services to be experimental or investigational, or not\\nmedically necessary or appropriate treatment for the condition. To challenge an adverse benefit determination, you must file\\na written appeal within 180 days of the date you receive this decision. Your appeal should be directed to the Board of\\nTrustees, c/o the Benefit Plan Administrator, 1419 Hampton Avenue, St. Louis, MO 63139. Your written appeal should clearly\\nstate the reason(s) you believe your appeal should be granted and should include any other comments, documents, records\\nor other information you wish to be considered. Federal regularions require that plans advise all claimants that after a\\nclaimant\\'s appeal has been decided, the claimant may bring a civil action under Section 502(a) of the Employee Retirement\\nIncome Security Act (ERISA).\\nPayment for these services is determined in accordance with specific terms of your dental plan or of Delta Dental\\'s\\nagreements with Delta Dental network dentists.\\nGo Paperless!\\nWant to go paperless? Simply register at deltadentalmo.com/Members/Register. Thank you!\\nAdditional Information\\n*** To review Delta Dental\\'s Privacy Statement visit www.deltadentalmo.com or call 1-800-335-8266 for a copy to be mailed\\nto you.***\\nPayment for these services is determined pursuant to the specific terms of your dental plan and/or Delta Dental\\'s agreement\\nwith Delta Dental network dentist.\\nPlease review your claim detail for accuracy.  If you suspect fraudulent activity, please call our confidential hotline @\\n1.800.392.1167 Ext. 2787.\\nJECB [22,745] 2 of 3\\n20230705B04\\nJECB\\n1357 16174\\n THIS PAGE INTENTIONALLY LEFT BLANK\\n'"
      ]
     },
     "execution_count": 3,
     "metadata": {},
     "output_type": "execute_result"
    }
   ],
   "source": [
    "texts"
   ]
  },
  {
   "cell_type": "code",
   "execution_count": 4,
   "id": "46d9ad5a",
   "metadata": {},
   "outputs": [
    {
     "ename": "IndexError",
     "evalue": "list index out of range",
     "output_type": "error",
     "traceback": [
      "\u001b[1;31m---------------------------------------------------------------------------\u001b[0m",
      "\u001b[1;31mIndexError\u001b[0m                                Traceback (most recent call last)",
      "Cell \u001b[1;32mIn[4], line 1\u001b[0m\n\u001b[1;32m----> 1\u001b[0m desc \u001b[38;5;241m=\u001b[39m \u001b[43mtexts\u001b[49m\u001b[38;5;241;43m.\u001b[39;49m\u001b[43msplit\u001b[49m\u001b[43m(\u001b[49m\u001b[38;5;124;43m'\u001b[39;49m\u001b[38;5;124;43mAdministered by\u001b[39;49m\u001b[38;5;124;43m'\u001b[39;49m\u001b[43m)\u001b[49m\u001b[43m[\u001b[49m\u001b[38;5;241;43m1\u001b[39;49m\u001b[43m]\u001b[49m\u001b[38;5;241m.\u001b[39msplit(\u001b[38;5;124m'\u001b[39m\u001b[38;5;124mServices performed\u001b[39m\u001b[38;5;124m'\u001b[39m)[\u001b[38;5;241m0\u001b[39m]\u001b[38;5;241m.\u001b[39msplit(\u001b[38;5;124m'\u001b[39m\u001b[38;5;124mImportant Notices\u001b[39m\u001b[38;5;124m'\u001b[39m)[\u001b[38;5;241m0\u001b[39m]\n\u001b[0;32m      2\u001b[0m desc\n",
      "\u001b[1;31mIndexError\u001b[0m: list index out of range"
     ]
    }
   ],
   "source": [
    "desc = texts.split('Administered by')[1].split('Services performed')[0].split('Important Notices')[0]\n",
    "desc"
   ]
  },
  {
   "cell_type": "code",
   "execution_count": null,
   "id": "6ca1f5ef",
   "metadata": {},
   "outputs": [],
   "source": [
    "desc_list = []\n",
    "info = {}\n",
    "d = desc.split('Description\\n')[1].split('Beam\\n')[0].replace(\"\\n\",'')\n",
    "try:\n",
    "    code = desc.split('Beam\\n')[1].split('\\n')[0]\n",
    "except:\n",
    "    code = ''\n",
    "    \n",
    "info['Description'] = d\n",
    "info['Code'] = code\n",
    "desc_list.append(info)\n",
    "print(info)\n"
   ]
  },
  {
   "cell_type": "code",
   "execution_count": null,
   "id": "67823e4d",
   "metadata": {},
   "outputs": [],
   "source": [
    "substring = \"\\n \\n\"\n",
    "count = desc.lower().count(substring.lower())\n",
    "\n",
    "print(count)"
   ]
  },
  {
   "cell_type": "code",
   "execution_count": null,
   "id": "b402f87b",
   "metadata": {},
   "outputs": [],
   "source": [
    "dd = desc.split(\"\\n \\n\")\n",
    "\n",
    "try:\n",
    "    for i in range(len(dd)+1):\n",
    "        info = {}\n",
    "        if i==0:\n",
    "            s = ''\n",
    "            detail = dd[i].split('Beam')[1].split('\\n')[2:]\n",
    "            for t in detail:\n",
    "                s = s+' '+t\n",
    "            info['Description'] = s.strip()\n",
    "            info['Code'] = dd[i+1].split('\\n')[0]\n",
    "            desc_list.append(info)\n",
    "            print(info)\n",
    "            print(\"\\n\")\n",
    "\n",
    "        else:\n",
    "            info['Description'] = dd[i].split('\\n')[1]\n",
    "            info['Code'] = dd[i+1].split('\\n')[0]\n",
    "            desc_list.append(info)\n",
    "            print(info)\n",
    "            print(\"\\n\")\n",
    "            \n",
    "except:\n",
    "    pass\n",
    "       \n",
    "print(desc_list)"
   ]
  },
  {
   "cell_type": "code",
   "execution_count": null,
   "id": "7c2e47b3",
   "metadata": {},
   "outputs": [],
   "source": []
  }
 ],
 "metadata": {
  "kernelspec": {
   "display_name": "Python 3 (ipykernel)",
   "language": "python",
   "name": "python3"
  },
  "language_info": {
   "codemirror_mode": {
    "name": "ipython",
    "version": 3
   },
   "file_extension": ".py",
   "mimetype": "text/x-python",
   "name": "python",
   "nbconvert_exporter": "python",
   "pygments_lexer": "ipython3",
   "version": "3.10.5"
  }
 },
 "nbformat": 4,
 "nbformat_minor": 5
}
